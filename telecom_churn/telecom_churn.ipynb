{
 "cells": [
  {
   "cell_type": "markdown",
   "id": "6b84576c",
   "metadata": {},
   "source": [
    "## Прогнозирование оттока клиентов телекоммуникационной компании"
   ]
  },
  {
   "cell_type": "markdown",
   "id": "bb35f997",
   "metadata": {},
   "source": [
    "### Исходные данные:\n",
    "\n",
    "\n",
    "Оператор связи «Ниединогоразрыва.ком» хочет научиться прогнозировать отток клиентов. Если выяснится, что пользователь планирует уйти, ему будут предложены промокоды и специальные условия. Команда оператора собрала персональные данные о некоторых клиентах, информацию об их тарифах и договорах.\n",
    "\n",
    "#### Описание услуг\n",
    "\n",
    "Оператор предоставляет два основных типа услуг: \n",
    "\n",
    "1. Стационарную телефонную связь. Возможно подключение телефонного аппарата к нескольким линиям одновременно.\n",
    "2. Интернет. Подключение может быть двух типов: через телефонную линию (DSL*,* от англ. *digital subscriber line*, «цифровая абонентская линия») или оптоволоконный кабель (*Fiber optic*).  \n",
    "\n",
    "Также доступны такие услуги:\n",
    "\n",
    "- Интернет-безопасность: антивирус (*DeviceProtection*) и блокировка небезопасных сайтов (*OnlineSecurity*);\n",
    "- Выделенная линия технической поддержки (*TechSupport*);\n",
    "- Облачное хранилище файлов для резервного копирования данных (*OnlineBackup*);\n",
    "- Стриминговое телевидение (*StreamingTV*) и каталог фильмов (*StreamingMovies*).\n",
    "\n",
    "За услуги клиенты могут платить каждый месяц или заключить договор на 1–2 года. Доступны различные способы расчёта и возможность получения электронного чека."
   ]
  },
  {
   "cell_type": "markdown",
   "id": "886aa98c",
   "metadata": {},
   "source": [
    "### Цель:\n",
    "\n",
    "Построить модели определения абонентов с высокой верояностью оттока. Выбрать лучшую модель по метрике ROCAUC"
   ]
  },
  {
   "cell_type": "markdown",
   "id": "0278a11e",
   "metadata": {},
   "source": [
    "### План работы:\n",
    "\n",
    "    1. Знакомство с данными\n",
    "        1.1 Проверка данных на адекватность, а также наличие пропусков, дублей.\n",
    "        1.2 Получение целевого признака. Анализ баланса классов.\n",
    "        1.3 Исследовательский анализ данных, преобразование типов, добавление признаков.\n",
    "        \n",
    "    2. Подготовка данных\n",
    "        2.1 Объединение таблиц.\n",
    "        2.2 Проверка степени влияния признаков на целевой признак и оптимизация датасета\n",
    "        2.3 Выделение тестовой выборки.\n",
    "        2.4 Кодирование категориальных признаков\n",
    "        2.5 Стандартизация\n",
    "        2.6 Устранение дисбаланса классов\n",
    "        2.7 Разделение датасета на признаки (features) и целевой признак (target)\n",
    "        \n",
    "    3. Обучение моделей на подготовленных данных.\n",
    "        3.1 Логистическая регрессия\n",
    "        3.2 Случайный лес\n",
    "        3.3 Catboost\n",
    "        3.4 LGBM\n",
    "        \n",
    "    4. Тестирование моделей. Выбор лучшей модели на основании значений метрики ROC-AUC(дополнительная метрика - accuracy) на тестовой выборке.\n",
    "    \n",
    "    5. Выводы\n",
    "    "
   ]
  },
  {
   "cell_type": "markdown",
   "id": "735231ce",
   "metadata": {},
   "source": [
    "### Знакомство с данными"
   ]
  },
  {
   "cell_type": "code",
   "execution_count": 2,
   "id": "2080ff62",
   "metadata": {},
   "outputs": [],
   "source": [
    "# импорт Pandas\n",
    "import pandas as pd\n",
    "\n",
    "# импорт Os для работы с файлами и каталогами\n",
    "import os\n",
    "\n",
    "# импорт Numpy\n",
    "import numpy as np\n",
    "\n",
    "import datetime as dt\n",
    "\n",
    "import matplotlib.pyplot as plt\n",
    "\n",
    "import seaborn as sns\n",
    "\n",
    "# импорт Sklearn\n",
    "\n",
    "from sklearn.model_selection import train_test_split, RandomizedSearchCV\n",
    "from sklearn.metrics import roc_auc_score, accuracy_score\n",
    "from sklearn.ensemble import RandomForestClassifier\n",
    "from sklearn.linear_model import LogisticRegression\n",
    "from sklearn.preprocessing import StandardScaler, OrdinalEncoder\n",
    "from sklearn.utils import shuffle\n",
    "\n",
    "# импорт Catboost\n",
    "\n",
    "from catboost import CatBoostClassifier\n",
    "\n",
    "# импорт LightGBM\n",
    "\n",
    "from lightgbm import LGBMClassifier\n",
    "\n",
    "pd.options.display.float_format = '{:,.3f}'.format"
   ]
  },
  {
   "cell_type": "code",
   "execution_count": 3,
   "id": "ca2236dc",
   "metadata": {},
   "outputs": [],
   "source": [
    "# напишем функцию для комфортной загрузки датасетов и локально, и с сервера\n",
    "\n",
    "def file_loader(pth1, pth2):\n",
    "    if os.path.exists(pth1):\n",
    "        return pd.read_csv(pth1)\n",
    "    elif os.path.exists(pth2):\n",
    "        return pd.read_csv(pth2)\n",
    "    else:\n",
    "        print('Check the path')"
   ]
  },
  {
   "cell_type": "code",
   "execution_count": 4,
   "id": "ff3cefa2",
   "metadata": {},
   "outputs": [],
   "source": [
    "personal = file_loader('personal.csv', '/datasets/final_provider/personal.csv')\n",
    "contract = file_loader('contract.csv', '/datasets/final_provider/contract.csv')\n",
    "internet = file_loader('internet.csv', '/datasets/final_provider/internet.csv')\n",
    "phone = file_loader('phone.csv', '/datasets/final_provider/phone.csv')"
   ]
  },
  {
   "cell_type": "code",
   "execution_count": 5,
   "id": "ed86bcbe",
   "metadata": {
    "scrolled": false
   },
   "outputs": [
    {
     "data": {
      "text/html": [
       "<div>\n",
       "<style scoped>\n",
       "    .dataframe tbody tr th:only-of-type {\n",
       "        vertical-align: middle;\n",
       "    }\n",
       "\n",
       "    .dataframe tbody tr th {\n",
       "        vertical-align: top;\n",
       "    }\n",
       "\n",
       "    .dataframe thead th {\n",
       "        text-align: right;\n",
       "    }\n",
       "</style>\n",
       "<table border=\"1\" class=\"dataframe\">\n",
       "  <thead>\n",
       "    <tr style=\"text-align: right;\">\n",
       "      <th></th>\n",
       "      <th>customerID</th>\n",
       "      <th>gender</th>\n",
       "      <th>SeniorCitizen</th>\n",
       "      <th>Partner</th>\n",
       "      <th>Dependents</th>\n",
       "    </tr>\n",
       "  </thead>\n",
       "  <tbody>\n",
       "    <tr>\n",
       "      <th>0</th>\n",
       "      <td>7590-VHVEG</td>\n",
       "      <td>Female</td>\n",
       "      <td>0</td>\n",
       "      <td>Yes</td>\n",
       "      <td>No</td>\n",
       "    </tr>\n",
       "    <tr>\n",
       "      <th>1</th>\n",
       "      <td>5575-GNVDE</td>\n",
       "      <td>Male</td>\n",
       "      <td>0</td>\n",
       "      <td>No</td>\n",
       "      <td>No</td>\n",
       "    </tr>\n",
       "    <tr>\n",
       "      <th>2</th>\n",
       "      <td>3668-QPYBK</td>\n",
       "      <td>Male</td>\n",
       "      <td>0</td>\n",
       "      <td>No</td>\n",
       "      <td>No</td>\n",
       "    </tr>\n",
       "    <tr>\n",
       "      <th>3</th>\n",
       "      <td>7795-CFOCW</td>\n",
       "      <td>Male</td>\n",
       "      <td>0</td>\n",
       "      <td>No</td>\n",
       "      <td>No</td>\n",
       "    </tr>\n",
       "    <tr>\n",
       "      <th>4</th>\n",
       "      <td>9237-HQITU</td>\n",
       "      <td>Female</td>\n",
       "      <td>0</td>\n",
       "      <td>No</td>\n",
       "      <td>No</td>\n",
       "    </tr>\n",
       "    <tr>\n",
       "      <th>...</th>\n",
       "      <td>...</td>\n",
       "      <td>...</td>\n",
       "      <td>...</td>\n",
       "      <td>...</td>\n",
       "      <td>...</td>\n",
       "    </tr>\n",
       "    <tr>\n",
       "      <th>7038</th>\n",
       "      <td>6840-RESVB</td>\n",
       "      <td>Male</td>\n",
       "      <td>0</td>\n",
       "      <td>Yes</td>\n",
       "      <td>Yes</td>\n",
       "    </tr>\n",
       "    <tr>\n",
       "      <th>7039</th>\n",
       "      <td>2234-XADUH</td>\n",
       "      <td>Female</td>\n",
       "      <td>0</td>\n",
       "      <td>Yes</td>\n",
       "      <td>Yes</td>\n",
       "    </tr>\n",
       "    <tr>\n",
       "      <th>7040</th>\n",
       "      <td>4801-JZAZL</td>\n",
       "      <td>Female</td>\n",
       "      <td>0</td>\n",
       "      <td>Yes</td>\n",
       "      <td>Yes</td>\n",
       "    </tr>\n",
       "    <tr>\n",
       "      <th>7041</th>\n",
       "      <td>8361-LTMKD</td>\n",
       "      <td>Male</td>\n",
       "      <td>1</td>\n",
       "      <td>Yes</td>\n",
       "      <td>No</td>\n",
       "    </tr>\n",
       "    <tr>\n",
       "      <th>7042</th>\n",
       "      <td>3186-AJIEK</td>\n",
       "      <td>Male</td>\n",
       "      <td>0</td>\n",
       "      <td>No</td>\n",
       "      <td>No</td>\n",
       "    </tr>\n",
       "  </tbody>\n",
       "</table>\n",
       "<p>7043 rows × 5 columns</p>\n",
       "</div>"
      ],
      "text/plain": [
       "      customerID  gender  SeniorCitizen Partner Dependents\n",
       "0     7590-VHVEG  Female              0     Yes         No\n",
       "1     5575-GNVDE    Male              0      No         No\n",
       "2     3668-QPYBK    Male              0      No         No\n",
       "3     7795-CFOCW    Male              0      No         No\n",
       "4     9237-HQITU  Female              0      No         No\n",
       "...          ...     ...            ...     ...        ...\n",
       "7038  6840-RESVB    Male              0     Yes        Yes\n",
       "7039  2234-XADUH  Female              0     Yes        Yes\n",
       "7040  4801-JZAZL  Female              0     Yes        Yes\n",
       "7041  8361-LTMKD    Male              1     Yes         No\n",
       "7042  3186-AJIEK    Male              0      No         No\n",
       "\n",
       "[7043 rows x 5 columns]"
      ]
     },
     "execution_count": 5,
     "metadata": {},
     "output_type": "execute_result"
    }
   ],
   "source": [
    "personal"
   ]
  },
  {
   "cell_type": "markdown",
   "id": "e5afbf07",
   "metadata": {},
   "source": [
    "В данной таблице видим персональные данные абонентов."
   ]
  },
  {
   "cell_type": "code",
   "execution_count": 6,
   "id": "707e1dff",
   "metadata": {
    "scrolled": false
   },
   "outputs": [
    {
     "name": "stdout",
     "output_type": "stream",
     "text": [
      "<class 'pandas.core.frame.DataFrame'>\n",
      "RangeIndex: 7043 entries, 0 to 7042\n",
      "Data columns (total 5 columns):\n",
      " #   Column         Non-Null Count  Dtype \n",
      "---  ------         --------------  ----- \n",
      " 0   customerID     7043 non-null   object\n",
      " 1   gender         7043 non-null   object\n",
      " 2   SeniorCitizen  7043 non-null   int64 \n",
      " 3   Partner        7043 non-null   object\n",
      " 4   Dependents     7043 non-null   object\n",
      "dtypes: int64(1), object(4)\n",
      "memory usage: 275.2+ KB\n"
     ]
    }
   ],
   "source": [
    "personal.info()"
   ]
  },
  {
   "cell_type": "code",
   "execution_count": 7,
   "id": "682b04cf",
   "metadata": {},
   "outputs": [
    {
     "data": {
      "text/plain": [
       "Male      3555\n",
       "Female    3488\n",
       "Name: gender, dtype: int64"
      ]
     },
     "execution_count": 7,
     "metadata": {},
     "output_type": "execute_result"
    }
   ],
   "source": [
    "personal['gender'].value_counts()"
   ]
  },
  {
   "cell_type": "code",
   "execution_count": 8,
   "id": "026f50d2",
   "metadata": {
    "scrolled": true
   },
   "outputs": [
    {
     "data": {
      "text/plain": [
       "SeniorCitizen  Partner  Dependents\n",
       "0              No       No            2719\n",
       "               Yes      Yes           1666\n",
       "                        No            1163\n",
       "1              No       No             561\n",
       "               Yes      No             490\n",
       "0              No       Yes            353\n",
       "1              Yes      Yes             83\n",
       "               No       Yes              8\n",
       "dtype: int64"
      ]
     },
     "execution_count": 8,
     "metadata": {},
     "output_type": "execute_result"
    }
   ],
   "source": [
    "personal[['SeniorCitizen', 'Partner', 'Dependents']].value_counts()"
   ]
  },
  {
   "cell_type": "code",
   "execution_count": 9,
   "id": "488b178f",
   "metadata": {},
   "outputs": [
    {
     "data": {
      "text/plain": [
       "0"
      ]
     },
     "execution_count": 9,
     "metadata": {},
     "output_type": "execute_result"
    }
   ],
   "source": [
    "personal['customerID'].duplicated().sum()"
   ]
  },
  {
   "cell_type": "markdown",
   "id": "1b8473df",
   "metadata": {},
   "source": [
    "#### Вывод:\n",
    "Данные в хорошем состоянии: пропусков - нет, дубликатов - тоже нет, все столбцы имеют бинарные категориальные признаки, которые легко будет закодировать цифрами. Таблица практически не нуждается в обработке."
   ]
  },
  {
   "cell_type": "code",
   "execution_count": 10,
   "id": "048ff625",
   "metadata": {
    "scrolled": true
   },
   "outputs": [
    {
     "data": {
      "text/html": [
       "<div>\n",
       "<style scoped>\n",
       "    .dataframe tbody tr th:only-of-type {\n",
       "        vertical-align: middle;\n",
       "    }\n",
       "\n",
       "    .dataframe tbody tr th {\n",
       "        vertical-align: top;\n",
       "    }\n",
       "\n",
       "    .dataframe thead th {\n",
       "        text-align: right;\n",
       "    }\n",
       "</style>\n",
       "<table border=\"1\" class=\"dataframe\">\n",
       "  <thead>\n",
       "    <tr style=\"text-align: right;\">\n",
       "      <th></th>\n",
       "      <th>customerID</th>\n",
       "      <th>BeginDate</th>\n",
       "      <th>EndDate</th>\n",
       "      <th>Type</th>\n",
       "      <th>PaperlessBilling</th>\n",
       "      <th>PaymentMethod</th>\n",
       "      <th>MonthlyCharges</th>\n",
       "      <th>TotalCharges</th>\n",
       "    </tr>\n",
       "  </thead>\n",
       "  <tbody>\n",
       "    <tr>\n",
       "      <th>0</th>\n",
       "      <td>7590-VHVEG</td>\n",
       "      <td>2020-01-01</td>\n",
       "      <td>No</td>\n",
       "      <td>Month-to-month</td>\n",
       "      <td>Yes</td>\n",
       "      <td>Electronic check</td>\n",
       "      <td>29.850</td>\n",
       "      <td>29.85</td>\n",
       "    </tr>\n",
       "    <tr>\n",
       "      <th>1</th>\n",
       "      <td>5575-GNVDE</td>\n",
       "      <td>2017-04-01</td>\n",
       "      <td>No</td>\n",
       "      <td>One year</td>\n",
       "      <td>No</td>\n",
       "      <td>Mailed check</td>\n",
       "      <td>56.950</td>\n",
       "      <td>1889.5</td>\n",
       "    </tr>\n",
       "    <tr>\n",
       "      <th>2</th>\n",
       "      <td>3668-QPYBK</td>\n",
       "      <td>2019-10-01</td>\n",
       "      <td>2019-12-01 00:00:00</td>\n",
       "      <td>Month-to-month</td>\n",
       "      <td>Yes</td>\n",
       "      <td>Mailed check</td>\n",
       "      <td>53.850</td>\n",
       "      <td>108.15</td>\n",
       "    </tr>\n",
       "    <tr>\n",
       "      <th>3</th>\n",
       "      <td>7795-CFOCW</td>\n",
       "      <td>2016-05-01</td>\n",
       "      <td>No</td>\n",
       "      <td>One year</td>\n",
       "      <td>No</td>\n",
       "      <td>Bank transfer (automatic)</td>\n",
       "      <td>42.300</td>\n",
       "      <td>1840.75</td>\n",
       "    </tr>\n",
       "    <tr>\n",
       "      <th>4</th>\n",
       "      <td>9237-HQITU</td>\n",
       "      <td>2019-09-01</td>\n",
       "      <td>2019-11-01 00:00:00</td>\n",
       "      <td>Month-to-month</td>\n",
       "      <td>Yes</td>\n",
       "      <td>Electronic check</td>\n",
       "      <td>70.700</td>\n",
       "      <td>151.65</td>\n",
       "    </tr>\n",
       "    <tr>\n",
       "      <th>...</th>\n",
       "      <td>...</td>\n",
       "      <td>...</td>\n",
       "      <td>...</td>\n",
       "      <td>...</td>\n",
       "      <td>...</td>\n",
       "      <td>...</td>\n",
       "      <td>...</td>\n",
       "      <td>...</td>\n",
       "    </tr>\n",
       "    <tr>\n",
       "      <th>7038</th>\n",
       "      <td>6840-RESVB</td>\n",
       "      <td>2018-02-01</td>\n",
       "      <td>No</td>\n",
       "      <td>One year</td>\n",
       "      <td>Yes</td>\n",
       "      <td>Mailed check</td>\n",
       "      <td>84.800</td>\n",
       "      <td>1990.5</td>\n",
       "    </tr>\n",
       "    <tr>\n",
       "      <th>7039</th>\n",
       "      <td>2234-XADUH</td>\n",
       "      <td>2014-02-01</td>\n",
       "      <td>No</td>\n",
       "      <td>One year</td>\n",
       "      <td>Yes</td>\n",
       "      <td>Credit card (automatic)</td>\n",
       "      <td>103.200</td>\n",
       "      <td>7362.9</td>\n",
       "    </tr>\n",
       "    <tr>\n",
       "      <th>7040</th>\n",
       "      <td>4801-JZAZL</td>\n",
       "      <td>2019-03-01</td>\n",
       "      <td>No</td>\n",
       "      <td>Month-to-month</td>\n",
       "      <td>Yes</td>\n",
       "      <td>Electronic check</td>\n",
       "      <td>29.600</td>\n",
       "      <td>346.45</td>\n",
       "    </tr>\n",
       "    <tr>\n",
       "      <th>7041</th>\n",
       "      <td>8361-LTMKD</td>\n",
       "      <td>2019-07-01</td>\n",
       "      <td>2019-11-01 00:00:00</td>\n",
       "      <td>Month-to-month</td>\n",
       "      <td>Yes</td>\n",
       "      <td>Mailed check</td>\n",
       "      <td>74.400</td>\n",
       "      <td>306.6</td>\n",
       "    </tr>\n",
       "    <tr>\n",
       "      <th>7042</th>\n",
       "      <td>3186-AJIEK</td>\n",
       "      <td>2014-08-01</td>\n",
       "      <td>No</td>\n",
       "      <td>Two year</td>\n",
       "      <td>Yes</td>\n",
       "      <td>Bank transfer (automatic)</td>\n",
       "      <td>105.650</td>\n",
       "      <td>6844.5</td>\n",
       "    </tr>\n",
       "  </tbody>\n",
       "</table>\n",
       "<p>7043 rows × 8 columns</p>\n",
       "</div>"
      ],
      "text/plain": [
       "      customerID   BeginDate              EndDate            Type  \\\n",
       "0     7590-VHVEG  2020-01-01                   No  Month-to-month   \n",
       "1     5575-GNVDE  2017-04-01                   No        One year   \n",
       "2     3668-QPYBK  2019-10-01  2019-12-01 00:00:00  Month-to-month   \n",
       "3     7795-CFOCW  2016-05-01                   No        One year   \n",
       "4     9237-HQITU  2019-09-01  2019-11-01 00:00:00  Month-to-month   \n",
       "...          ...         ...                  ...             ...   \n",
       "7038  6840-RESVB  2018-02-01                   No        One year   \n",
       "7039  2234-XADUH  2014-02-01                   No        One year   \n",
       "7040  4801-JZAZL  2019-03-01                   No  Month-to-month   \n",
       "7041  8361-LTMKD  2019-07-01  2019-11-01 00:00:00  Month-to-month   \n",
       "7042  3186-AJIEK  2014-08-01                   No        Two year   \n",
       "\n",
       "     PaperlessBilling              PaymentMethod  MonthlyCharges TotalCharges  \n",
       "0                 Yes           Electronic check          29.850        29.85  \n",
       "1                  No               Mailed check          56.950       1889.5  \n",
       "2                 Yes               Mailed check          53.850       108.15  \n",
       "3                  No  Bank transfer (automatic)          42.300      1840.75  \n",
       "4                 Yes           Electronic check          70.700       151.65  \n",
       "...               ...                        ...             ...          ...  \n",
       "7038              Yes               Mailed check          84.800       1990.5  \n",
       "7039              Yes    Credit card (automatic)         103.200       7362.9  \n",
       "7040              Yes           Electronic check          29.600       346.45  \n",
       "7041              Yes               Mailed check          74.400        306.6  \n",
       "7042              Yes  Bank transfer (automatic)         105.650       6844.5  \n",
       "\n",
       "[7043 rows x 8 columns]"
      ]
     },
     "execution_count": 10,
     "metadata": {},
     "output_type": "execute_result"
    }
   ],
   "source": [
    "contract"
   ]
  },
  {
   "cell_type": "markdown",
   "id": "76b301dd",
   "metadata": {},
   "source": [
    "Таблица с данными по контрактам. Здесь мы видим возможность получить целевой признак из столбца *EndDate*: если дата окончания контракта есть, то это ушедшие абоненты, которых нам и надо спрогнозировать и они получать целевой признак 1, остальные (без даты окончания контракта) - получат признак 0. Добавим соотвествующий столбец."
   ]
  },
  {
   "cell_type": "code",
   "execution_count": 11,
   "id": "d3c002c1",
   "metadata": {
    "scrolled": true
   },
   "outputs": [
    {
     "data": {
      "text/html": [
       "<div>\n",
       "<style scoped>\n",
       "    .dataframe tbody tr th:only-of-type {\n",
       "        vertical-align: middle;\n",
       "    }\n",
       "\n",
       "    .dataframe tbody tr th {\n",
       "        vertical-align: top;\n",
       "    }\n",
       "\n",
       "    .dataframe thead th {\n",
       "        text-align: right;\n",
       "    }\n",
       "</style>\n",
       "<table border=\"1\" class=\"dataframe\">\n",
       "  <thead>\n",
       "    <tr style=\"text-align: right;\">\n",
       "      <th></th>\n",
       "      <th>customerID</th>\n",
       "      <th>BeginDate</th>\n",
       "      <th>EndDate</th>\n",
       "      <th>Type</th>\n",
       "      <th>PaperlessBilling</th>\n",
       "      <th>PaymentMethod</th>\n",
       "      <th>MonthlyCharges</th>\n",
       "      <th>TotalCharges</th>\n",
       "      <th>IsChurn</th>\n",
       "    </tr>\n",
       "  </thead>\n",
       "  <tbody>\n",
       "    <tr>\n",
       "      <th>0</th>\n",
       "      <td>7590-VHVEG</td>\n",
       "      <td>2020-01-01</td>\n",
       "      <td>No</td>\n",
       "      <td>Month-to-month</td>\n",
       "      <td>Yes</td>\n",
       "      <td>Electronic check</td>\n",
       "      <td>29.850</td>\n",
       "      <td>29.85</td>\n",
       "      <td>0</td>\n",
       "    </tr>\n",
       "    <tr>\n",
       "      <th>1</th>\n",
       "      <td>5575-GNVDE</td>\n",
       "      <td>2017-04-01</td>\n",
       "      <td>No</td>\n",
       "      <td>One year</td>\n",
       "      <td>No</td>\n",
       "      <td>Mailed check</td>\n",
       "      <td>56.950</td>\n",
       "      <td>1889.5</td>\n",
       "      <td>0</td>\n",
       "    </tr>\n",
       "    <tr>\n",
       "      <th>2</th>\n",
       "      <td>3668-QPYBK</td>\n",
       "      <td>2019-10-01</td>\n",
       "      <td>2019-12-01 00:00:00</td>\n",
       "      <td>Month-to-month</td>\n",
       "      <td>Yes</td>\n",
       "      <td>Mailed check</td>\n",
       "      <td>53.850</td>\n",
       "      <td>108.15</td>\n",
       "      <td>1</td>\n",
       "    </tr>\n",
       "    <tr>\n",
       "      <th>3</th>\n",
       "      <td>7795-CFOCW</td>\n",
       "      <td>2016-05-01</td>\n",
       "      <td>No</td>\n",
       "      <td>One year</td>\n",
       "      <td>No</td>\n",
       "      <td>Bank transfer (automatic)</td>\n",
       "      <td>42.300</td>\n",
       "      <td>1840.75</td>\n",
       "      <td>0</td>\n",
       "    </tr>\n",
       "    <tr>\n",
       "      <th>4</th>\n",
       "      <td>9237-HQITU</td>\n",
       "      <td>2019-09-01</td>\n",
       "      <td>2019-11-01 00:00:00</td>\n",
       "      <td>Month-to-month</td>\n",
       "      <td>Yes</td>\n",
       "      <td>Electronic check</td>\n",
       "      <td>70.700</td>\n",
       "      <td>151.65</td>\n",
       "      <td>1</td>\n",
       "    </tr>\n",
       "    <tr>\n",
       "      <th>...</th>\n",
       "      <td>...</td>\n",
       "      <td>...</td>\n",
       "      <td>...</td>\n",
       "      <td>...</td>\n",
       "      <td>...</td>\n",
       "      <td>...</td>\n",
       "      <td>...</td>\n",
       "      <td>...</td>\n",
       "      <td>...</td>\n",
       "    </tr>\n",
       "    <tr>\n",
       "      <th>7038</th>\n",
       "      <td>6840-RESVB</td>\n",
       "      <td>2018-02-01</td>\n",
       "      <td>No</td>\n",
       "      <td>One year</td>\n",
       "      <td>Yes</td>\n",
       "      <td>Mailed check</td>\n",
       "      <td>84.800</td>\n",
       "      <td>1990.5</td>\n",
       "      <td>0</td>\n",
       "    </tr>\n",
       "    <tr>\n",
       "      <th>7039</th>\n",
       "      <td>2234-XADUH</td>\n",
       "      <td>2014-02-01</td>\n",
       "      <td>No</td>\n",
       "      <td>One year</td>\n",
       "      <td>Yes</td>\n",
       "      <td>Credit card (automatic)</td>\n",
       "      <td>103.200</td>\n",
       "      <td>7362.9</td>\n",
       "      <td>0</td>\n",
       "    </tr>\n",
       "    <tr>\n",
       "      <th>7040</th>\n",
       "      <td>4801-JZAZL</td>\n",
       "      <td>2019-03-01</td>\n",
       "      <td>No</td>\n",
       "      <td>Month-to-month</td>\n",
       "      <td>Yes</td>\n",
       "      <td>Electronic check</td>\n",
       "      <td>29.600</td>\n",
       "      <td>346.45</td>\n",
       "      <td>0</td>\n",
       "    </tr>\n",
       "    <tr>\n",
       "      <th>7041</th>\n",
       "      <td>8361-LTMKD</td>\n",
       "      <td>2019-07-01</td>\n",
       "      <td>2019-11-01 00:00:00</td>\n",
       "      <td>Month-to-month</td>\n",
       "      <td>Yes</td>\n",
       "      <td>Mailed check</td>\n",
       "      <td>74.400</td>\n",
       "      <td>306.6</td>\n",
       "      <td>1</td>\n",
       "    </tr>\n",
       "    <tr>\n",
       "      <th>7042</th>\n",
       "      <td>3186-AJIEK</td>\n",
       "      <td>2014-08-01</td>\n",
       "      <td>No</td>\n",
       "      <td>Two year</td>\n",
       "      <td>Yes</td>\n",
       "      <td>Bank transfer (automatic)</td>\n",
       "      <td>105.650</td>\n",
       "      <td>6844.5</td>\n",
       "      <td>0</td>\n",
       "    </tr>\n",
       "  </tbody>\n",
       "</table>\n",
       "<p>7043 rows × 9 columns</p>\n",
       "</div>"
      ],
      "text/plain": [
       "      customerID   BeginDate              EndDate            Type  \\\n",
       "0     7590-VHVEG  2020-01-01                   No  Month-to-month   \n",
       "1     5575-GNVDE  2017-04-01                   No        One year   \n",
       "2     3668-QPYBK  2019-10-01  2019-12-01 00:00:00  Month-to-month   \n",
       "3     7795-CFOCW  2016-05-01                   No        One year   \n",
       "4     9237-HQITU  2019-09-01  2019-11-01 00:00:00  Month-to-month   \n",
       "...          ...         ...                  ...             ...   \n",
       "7038  6840-RESVB  2018-02-01                   No        One year   \n",
       "7039  2234-XADUH  2014-02-01                   No        One year   \n",
       "7040  4801-JZAZL  2019-03-01                   No  Month-to-month   \n",
       "7041  8361-LTMKD  2019-07-01  2019-11-01 00:00:00  Month-to-month   \n",
       "7042  3186-AJIEK  2014-08-01                   No        Two year   \n",
       "\n",
       "     PaperlessBilling              PaymentMethod  MonthlyCharges TotalCharges  \\\n",
       "0                 Yes           Electronic check          29.850        29.85   \n",
       "1                  No               Mailed check          56.950       1889.5   \n",
       "2                 Yes               Mailed check          53.850       108.15   \n",
       "3                  No  Bank transfer (automatic)          42.300      1840.75   \n",
       "4                 Yes           Electronic check          70.700       151.65   \n",
       "...               ...                        ...             ...          ...   \n",
       "7038              Yes               Mailed check          84.800       1990.5   \n",
       "7039              Yes    Credit card (automatic)         103.200       7362.9   \n",
       "7040              Yes           Electronic check          29.600       346.45   \n",
       "7041              Yes               Mailed check          74.400        306.6   \n",
       "7042              Yes  Bank transfer (automatic)         105.650       6844.5   \n",
       "\n",
       "      IsChurn  \n",
       "0           0  \n",
       "1           0  \n",
       "2           1  \n",
       "3           0  \n",
       "4           1  \n",
       "...       ...  \n",
       "7038        0  \n",
       "7039        0  \n",
       "7040        0  \n",
       "7041        1  \n",
       "7042        0  \n",
       "\n",
       "[7043 rows x 9 columns]"
      ]
     },
     "execution_count": 11,
     "metadata": {},
     "output_type": "execute_result"
    }
   ],
   "source": [
    "contract['IsChurn'] = contract['EndDate']\n",
    "contract.loc[contract['IsChurn'] == 'No', 'IsChurn'] = 0\n",
    "contract.loc[contract['IsChurn'] != 0, 'IsChurn'] = 1\n",
    "contract['IsChurn'] = contract['IsChurn'].astype('int64')\n",
    "contract"
   ]
  },
  {
   "cell_type": "markdown",
   "id": "94f3feb7",
   "metadata": {},
   "source": [
    "Раз уж получили целевой признак, посмотрим сразу на баланс классов"
   ]
  },
  {
   "cell_type": "code",
   "execution_count": 12,
   "id": "fc317a2e",
   "metadata": {
    "scrolled": true
   },
   "outputs": [
    {
     "data": {
      "text/plain": [
       "0   0.735\n",
       "1   0.265\n",
       "Name: IsChurn, dtype: float64"
      ]
     },
     "execution_count": 12,
     "metadata": {},
     "output_type": "execute_result"
    }
   ],
   "source": [
    "contract['IsChurn'].value_counts(1)"
   ]
  },
  {
   "cell_type": "markdown",
   "id": "5bf96fa2",
   "metadata": {},
   "source": [
    "Дисбаланс был ожидаем, поскольку в здоровой компании доля потерянных абонентов не может быть 50% (если конечно это не ее предсмертный момент)) Будем с ним работать на следующих этапах. Учитывая довольно небольшую выборку, с большой долей вероятности можно сказать, что это будет upsampling. Этот метод помимо устранения дисбаланса поможет увеличить количество обучающих элементов для наших моделей."
   ]
  },
  {
   "cell_type": "code",
   "execution_count": 13,
   "id": "e7dede6f",
   "metadata": {
    "scrolled": false
   },
   "outputs": [
    {
     "name": "stdout",
     "output_type": "stream",
     "text": [
      "<class 'pandas.core.frame.DataFrame'>\n",
      "RangeIndex: 7043 entries, 0 to 7042\n",
      "Data columns (total 9 columns):\n",
      " #   Column            Non-Null Count  Dtype  \n",
      "---  ------            --------------  -----  \n",
      " 0   customerID        7043 non-null   object \n",
      " 1   BeginDate         7043 non-null   object \n",
      " 2   EndDate           7043 non-null   object \n",
      " 3   Type              7043 non-null   object \n",
      " 4   PaperlessBilling  7043 non-null   object \n",
      " 5   PaymentMethod     7043 non-null   object \n",
      " 6   MonthlyCharges    7043 non-null   float64\n",
      " 7   TotalCharges      7043 non-null   object \n",
      " 8   IsChurn           7043 non-null   int64  \n",
      "dtypes: float64(1), int64(1), object(7)\n",
      "memory usage: 495.3+ KB\n"
     ]
    }
   ],
   "source": [
    "contract.info()"
   ]
  },
  {
   "cell_type": "markdown",
   "id": "9eb5baf4",
   "metadata": {},
   "source": [
    "На первый взгляд кажется, что и тут данные в порядке, пропусков нет. Но смущает неподходящий тип данных в графе \"TotalCharges\". Исследуем эту графу повнимательнее."
   ]
  },
  {
   "cell_type": "code",
   "execution_count": 14,
   "id": "6c01c406",
   "metadata": {
    "scrolled": true
   },
   "outputs": [
    {
     "data": {
      "text/plain": [
       "20.2       11\n",
       "           11\n",
       "19.75       9\n",
       "20.05       8\n",
       "19.9        8\n",
       "           ..\n",
       "5435        1\n",
       "1051.05     1\n",
       "451.1       1\n",
       "248.95      1\n",
       "892.15      1\n",
       "Name: TotalCharges, Length: 6531, dtype: int64"
      ]
     },
     "execution_count": 14,
     "metadata": {},
     "output_type": "execute_result"
    }
   ],
   "source": [
    "contract['TotalCharges'].value_counts()"
   ]
  },
  {
   "cell_type": "markdown",
   "id": "2bc4eb91",
   "metadata": {},
   "source": [
    "Так и есть. У 11 абонентов в этой графе пропуск, который почему-то вместо NaN отметился пробелом. Эти пропуски восстановим используя данные о среднемесячных списаниях и сроке пользования абонентами услугами."
   ]
  },
  {
   "cell_type": "code",
   "execution_count": 15,
   "id": "8734bee9",
   "metadata": {
    "scrolled": false
   },
   "outputs": [
    {
     "data": {
      "text/plain": [
       "count   7,043.000\n",
       "mean       64.762\n",
       "std        30.090\n",
       "min        18.250\n",
       "25%        35.500\n",
       "50%        70.350\n",
       "75%        89.850\n",
       "max       118.750\n",
       "Name: MonthlyCharges, dtype: float64"
      ]
     },
     "execution_count": 15,
     "metadata": {},
     "output_type": "execute_result"
    }
   ],
   "source": [
    "contract['MonthlyCharges'].describe()"
   ]
  },
  {
   "cell_type": "raw",
   "id": "e454b599",
   "metadata": {},
   "source": [
    "В графе *MonthlyCharges* видим обычные цифровые непрерывные данные с вполне адекватными границами распределения."
   ]
  },
  {
   "cell_type": "code",
   "execution_count": 16,
   "id": "82a1ed5f",
   "metadata": {
    "scrolled": false
   },
   "outputs": [
    {
     "data": {
      "text/plain": [
       "<AxesSubplot:>"
      ]
     },
     "execution_count": 16,
     "metadata": {},
     "output_type": "execute_result"
    },
    {
     "data": {
      "image/png": "[encoded data removed]",
      "text/plain": [
       "<Figure size 432x288 with 1 Axes>"
      ]
     },
     "metadata": {
      "needs_background": "light"
     },
     "output_type": "display_data"
    }
   ],
   "source": [
    "contract['MonthlyCharges'].hist(bins=50)"
   ]
  },
  {
   "cell_type": "markdown",
   "id": "39823219",
   "metadata": {},
   "source": [
    "В начале распределения видим большой пик в котором и рядом с которым \"собрались\" абоненты, \"сидящие\" на минимальных тарифах. Скорее всего, это просто абонентская плата. Данные пики аномалией не являются. "
   ]
  },
  {
   "cell_type": "code",
   "execution_count": 17,
   "id": "7a230bda",
   "metadata": {
    "scrolled": true
   },
   "outputs": [
    {
     "name": "stderr",
     "output_type": "stream",
     "text": [
      "<ipython-input-17-150822add97f>:2: FutureWarning: Treating datetime data as categorical rather than numeric in `.describe` is deprecated and will be removed in a future version of pandas. Specify `datetime_is_numeric=True` to silence this warning and adopt the future behavior now.\n",
      "  contract['BeginDate'].describe()\n"
     ]
    },
    {
     "data": {
      "text/plain": [
       "count                    7043\n",
       "unique                     77\n",
       "top       2014-02-01 00:00:00\n",
       "freq                      366\n",
       "first     2013-10-01 00:00:00\n",
       "last      2020-02-01 00:00:00\n",
       "Name: BeginDate, dtype: object"
      ]
     },
     "execution_count": 17,
     "metadata": {},
     "output_type": "execute_result"
    }
   ],
   "source": [
    "contract['BeginDate'] = contract['BeginDate'].astype('datetime64')\n",
    "contract['BeginDate'].describe()"
   ]
  },
  {
   "cell_type": "markdown",
   "id": "101fcce3",
   "metadata": {},
   "source": [
    "В колонке *BeginDate* мы видим только первые числа месяцев, что говорит нам о том, что минимальным периодом, который можно рассматривать, в данном случае является месяц. <br>\n",
    "\n",
    "Выборка включает контракты, которые были заключены с октября 2013г. по февраль 2020, т.е. 6 лет и 5 мес. Период выглядит адекватным. <br>\n",
    "\n",
    "Сами месяца заключения контрактов вряд ли окажут влияние на поведение абонентов, а вот период действия контракта может быть связать с оттоком. Поэтому правильнее будет в итоговый датасет включить не колонку *BeginDate*, а новую колонку со периодом *ContractPeriod* . "
   ]
  },
  {
   "cell_type": "code",
   "execution_count": 18,
   "id": "609ad0fa",
   "metadata": {
    "scrolled": true
   },
   "outputs": [
    {
     "data": {
      "text/html": [
       "<div>\n",
       "<style scoped>\n",
       "    .dataframe tbody tr th:only-of-type {\n",
       "        vertical-align: middle;\n",
       "    }\n",
       "\n",
       "    .dataframe tbody tr th {\n",
       "        vertical-align: top;\n",
       "    }\n",
       "\n",
       "    .dataframe thead th {\n",
       "        text-align: right;\n",
       "    }\n",
       "</style>\n",
       "<table border=\"1\" class=\"dataframe\">\n",
       "  <thead>\n",
       "    <tr style=\"text-align: right;\">\n",
       "      <th></th>\n",
       "      <th>customerID</th>\n",
       "      <th>BeginDate</th>\n",
       "      <th>EndDate</th>\n",
       "      <th>Type</th>\n",
       "      <th>PaperlessBilling</th>\n",
       "      <th>PaymentMethod</th>\n",
       "      <th>MonthlyCharges</th>\n",
       "      <th>TotalCharges</th>\n",
       "      <th>IsChurn</th>\n",
       "      <th>EndPeriod</th>\n",
       "    </tr>\n",
       "  </thead>\n",
       "  <tbody>\n",
       "    <tr>\n",
       "      <th>0</th>\n",
       "      <td>7590-VHVEG</td>\n",
       "      <td>2020-01-01</td>\n",
       "      <td>No</td>\n",
       "      <td>Month-to-month</td>\n",
       "      <td>Yes</td>\n",
       "      <td>Electronic check</td>\n",
       "      <td>29.850</td>\n",
       "      <td>29.85</td>\n",
       "      <td>0</td>\n",
       "      <td>2020-02-01</td>\n",
       "    </tr>\n",
       "    <tr>\n",
       "      <th>1</th>\n",
       "      <td>5575-GNVDE</td>\n",
       "      <td>2017-04-01</td>\n",
       "      <td>No</td>\n",
       "      <td>One year</td>\n",
       "      <td>No</td>\n",
       "      <td>Mailed check</td>\n",
       "      <td>56.950</td>\n",
       "      <td>1889.5</td>\n",
       "      <td>0</td>\n",
       "      <td>2020-02-01</td>\n",
       "    </tr>\n",
       "    <tr>\n",
       "      <th>2</th>\n",
       "      <td>3668-QPYBK</td>\n",
       "      <td>2019-10-01</td>\n",
       "      <td>2019-12-01 00:00:00</td>\n",
       "      <td>Month-to-month</td>\n",
       "      <td>Yes</td>\n",
       "      <td>Mailed check</td>\n",
       "      <td>53.850</td>\n",
       "      <td>108.15</td>\n",
       "      <td>1</td>\n",
       "      <td>2019-12-01</td>\n",
       "    </tr>\n",
       "    <tr>\n",
       "      <th>3</th>\n",
       "      <td>7795-CFOCW</td>\n",
       "      <td>2016-05-01</td>\n",
       "      <td>No</td>\n",
       "      <td>One year</td>\n",
       "      <td>No</td>\n",
       "      <td>Bank transfer (automatic)</td>\n",
       "      <td>42.300</td>\n",
       "      <td>1840.75</td>\n",
       "      <td>0</td>\n",
       "      <td>2020-02-01</td>\n",
       "    </tr>\n",
       "    <tr>\n",
       "      <th>4</th>\n",
       "      <td>9237-HQITU</td>\n",
       "      <td>2019-09-01</td>\n",
       "      <td>2019-11-01 00:00:00</td>\n",
       "      <td>Month-to-month</td>\n",
       "      <td>Yes</td>\n",
       "      <td>Electronic check</td>\n",
       "      <td>70.700</td>\n",
       "      <td>151.65</td>\n",
       "      <td>1</td>\n",
       "      <td>2019-11-01</td>\n",
       "    </tr>\n",
       "    <tr>\n",
       "      <th>...</th>\n",
       "      <td>...</td>\n",
       "      <td>...</td>\n",
       "      <td>...</td>\n",
       "      <td>...</td>\n",
       "      <td>...</td>\n",
       "      <td>...</td>\n",
       "      <td>...</td>\n",
       "      <td>...</td>\n",
       "      <td>...</td>\n",
       "      <td>...</td>\n",
       "    </tr>\n",
       "    <tr>\n",
       "      <th>7038</th>\n",
       "      <td>6840-RESVB</td>\n",
       "      <td>2018-02-01</td>\n",
       "      <td>No</td>\n",
       "      <td>One year</td>\n",
       "      <td>Yes</td>\n",
       "      <td>Mailed check</td>\n",
       "      <td>84.800</td>\n",
       "      <td>1990.5</td>\n",
       "      <td>0</td>\n",
       "      <td>2020-02-01</td>\n",
       "    </tr>\n",
       "    <tr>\n",
       "      <th>7039</th>\n",
       "      <td>2234-XADUH</td>\n",
       "      <td>2014-02-01</td>\n",
       "      <td>No</td>\n",
       "      <td>One year</td>\n",
       "      <td>Yes</td>\n",
       "      <td>Credit card (automatic)</td>\n",
       "      <td>103.200</td>\n",
       "      <td>7362.9</td>\n",
       "      <td>0</td>\n",
       "      <td>2020-02-01</td>\n",
       "    </tr>\n",
       "    <tr>\n",
       "      <th>7040</th>\n",
       "      <td>4801-JZAZL</td>\n",
       "      <td>2019-03-01</td>\n",
       "      <td>No</td>\n",
       "      <td>Month-to-month</td>\n",
       "      <td>Yes</td>\n",
       "      <td>Electronic check</td>\n",
       "      <td>29.600</td>\n",
       "      <td>346.45</td>\n",
       "      <td>0</td>\n",
       "      <td>2020-02-01</td>\n",
       "    </tr>\n",
       "    <tr>\n",
       "      <th>7041</th>\n",
       "      <td>8361-LTMKD</td>\n",
       "      <td>2019-07-01</td>\n",
       "      <td>2019-11-01 00:00:00</td>\n",
       "      <td>Month-to-month</td>\n",
       "      <td>Yes</td>\n",
       "      <td>Mailed check</td>\n",
       "      <td>74.400</td>\n",
       "      <td>306.6</td>\n",
       "      <td>1</td>\n",
       "      <td>2019-11-01</td>\n",
       "    </tr>\n",
       "    <tr>\n",
       "      <th>7042</th>\n",
       "      <td>3186-AJIEK</td>\n",
       "      <td>2014-08-01</td>\n",
       "      <td>No</td>\n",
       "      <td>Two year</td>\n",
       "      <td>Yes</td>\n",
       "      <td>Bank transfer (automatic)</td>\n",
       "      <td>105.650</td>\n",
       "      <td>6844.5</td>\n",
       "      <td>0</td>\n",
       "      <td>2020-02-01</td>\n",
       "    </tr>\n",
       "  </tbody>\n",
       "</table>\n",
       "<p>7043 rows × 10 columns</p>\n",
       "</div>"
      ],
      "text/plain": [
       "      customerID  BeginDate              EndDate            Type  \\\n",
       "0     7590-VHVEG 2020-01-01                   No  Month-to-month   \n",
       "1     5575-GNVDE 2017-04-01                   No        One year   \n",
       "2     3668-QPYBK 2019-10-01  2019-12-01 00:00:00  Month-to-month   \n",
       "3     7795-CFOCW 2016-05-01                   No        One year   \n",
       "4     9237-HQITU 2019-09-01  2019-11-01 00:00:00  Month-to-month   \n",
       "...          ...        ...                  ...             ...   \n",
       "7038  6840-RESVB 2018-02-01                   No        One year   \n",
       "7039  2234-XADUH 2014-02-01                   No        One year   \n",
       "7040  4801-JZAZL 2019-03-01                   No  Month-to-month   \n",
       "7041  8361-LTMKD 2019-07-01  2019-11-01 00:00:00  Month-to-month   \n",
       "7042  3186-AJIEK 2014-08-01                   No        Two year   \n",
       "\n",
       "     PaperlessBilling              PaymentMethod  MonthlyCharges TotalCharges  \\\n",
       "0                 Yes           Electronic check          29.850        29.85   \n",
       "1                  No               Mailed check          56.950       1889.5   \n",
       "2                 Yes               Mailed check          53.850       108.15   \n",
       "3                  No  Bank transfer (automatic)          42.300      1840.75   \n",
       "4                 Yes           Electronic check          70.700       151.65   \n",
       "...               ...                        ...             ...          ...   \n",
       "7038              Yes               Mailed check          84.800       1990.5   \n",
       "7039              Yes    Credit card (automatic)         103.200       7362.9   \n",
       "7040              Yes           Electronic check          29.600       346.45   \n",
       "7041              Yes               Mailed check          74.400        306.6   \n",
       "7042              Yes  Bank transfer (automatic)         105.650       6844.5   \n",
       "\n",
       "      IsChurn  EndPeriod  \n",
       "0           0 2020-02-01  \n",
       "1           0 2020-02-01  \n",
       "2           1 2019-12-01  \n",
       "3           0 2020-02-01  \n",
       "4           1 2019-11-01  \n",
       "...       ...        ...  \n",
       "7038        0 2020-02-01  \n",
       "7039        0 2020-02-01  \n",
       "7040        0 2020-02-01  \n",
       "7041        1 2019-11-01  \n",
       "7042        0 2020-02-01  \n",
       "\n",
       "[7043 rows x 10 columns]"
      ]
     },
     "execution_count": 18,
     "metadata": {},
     "output_type": "execute_result"
    }
   ],
   "source": [
    "# заменим значение \"No\" в столбце 'EndDate' на конечную дату (точнее месяц) датасета\n",
    "\n",
    "contract['EndPeriod'] = contract['EndDate'].replace('No', '2020-02-01 00:00:00').astype('datetime64')\n",
    "contract"
   ]
  },
  {
   "cell_type": "code",
   "execution_count": 19,
   "id": "f41bdf5f",
   "metadata": {
    "scrolled": true
   },
   "outputs": [
    {
     "data": {
      "text/html": [
       "<div>\n",
       "<style scoped>\n",
       "    .dataframe tbody tr th:only-of-type {\n",
       "        vertical-align: middle;\n",
       "    }\n",
       "\n",
       "    .dataframe tbody tr th {\n",
       "        vertical-align: top;\n",
       "    }\n",
       "\n",
       "    .dataframe thead th {\n",
       "        text-align: right;\n",
       "    }\n",
       "</style>\n",
       "<table border=\"1\" class=\"dataframe\">\n",
       "  <thead>\n",
       "    <tr style=\"text-align: right;\">\n",
       "      <th></th>\n",
       "      <th>customerID</th>\n",
       "      <th>BeginDate</th>\n",
       "      <th>EndDate</th>\n",
       "      <th>Type</th>\n",
       "      <th>PaperlessBilling</th>\n",
       "      <th>PaymentMethod</th>\n",
       "      <th>MonthlyCharges</th>\n",
       "      <th>TotalCharges</th>\n",
       "      <th>IsChurn</th>\n",
       "      <th>EndPeriod</th>\n",
       "      <th>ContractPeriod</th>\n",
       "    </tr>\n",
       "  </thead>\n",
       "  <tbody>\n",
       "    <tr>\n",
       "      <th>0</th>\n",
       "      <td>7590-VHVEG</td>\n",
       "      <td>2020-01-01</td>\n",
       "      <td>No</td>\n",
       "      <td>Month-to-month</td>\n",
       "      <td>Yes</td>\n",
       "      <td>Electronic check</td>\n",
       "      <td>29.850</td>\n",
       "      <td>29.85</td>\n",
       "      <td>0</td>\n",
       "      <td>2020-02-01</td>\n",
       "      <td>2</td>\n",
       "    </tr>\n",
       "    <tr>\n",
       "      <th>1</th>\n",
       "      <td>5575-GNVDE</td>\n",
       "      <td>2017-04-01</td>\n",
       "      <td>No</td>\n",
       "      <td>One year</td>\n",
       "      <td>No</td>\n",
       "      <td>Mailed check</td>\n",
       "      <td>56.950</td>\n",
       "      <td>1889.5</td>\n",
       "      <td>0</td>\n",
       "      <td>2020-02-01</td>\n",
       "      <td>35</td>\n",
       "    </tr>\n",
       "    <tr>\n",
       "      <th>2</th>\n",
       "      <td>3668-QPYBK</td>\n",
       "      <td>2019-10-01</td>\n",
       "      <td>2019-12-01 00:00:00</td>\n",
       "      <td>Month-to-month</td>\n",
       "      <td>Yes</td>\n",
       "      <td>Mailed check</td>\n",
       "      <td>53.850</td>\n",
       "      <td>108.15</td>\n",
       "      <td>1</td>\n",
       "      <td>2019-12-01</td>\n",
       "      <td>3</td>\n",
       "    </tr>\n",
       "    <tr>\n",
       "      <th>3</th>\n",
       "      <td>7795-CFOCW</td>\n",
       "      <td>2016-05-01</td>\n",
       "      <td>No</td>\n",
       "      <td>One year</td>\n",
       "      <td>No</td>\n",
       "      <td>Bank transfer (automatic)</td>\n",
       "      <td>42.300</td>\n",
       "      <td>1840.75</td>\n",
       "      <td>0</td>\n",
       "      <td>2020-02-01</td>\n",
       "      <td>46</td>\n",
       "    </tr>\n",
       "    <tr>\n",
       "      <th>4</th>\n",
       "      <td>9237-HQITU</td>\n",
       "      <td>2019-09-01</td>\n",
       "      <td>2019-11-01 00:00:00</td>\n",
       "      <td>Month-to-month</td>\n",
       "      <td>Yes</td>\n",
       "      <td>Electronic check</td>\n",
       "      <td>70.700</td>\n",
       "      <td>151.65</td>\n",
       "      <td>1</td>\n",
       "      <td>2019-11-01</td>\n",
       "      <td>3</td>\n",
       "    </tr>\n",
       "    <tr>\n",
       "      <th>...</th>\n",
       "      <td>...</td>\n",
       "      <td>...</td>\n",
       "      <td>...</td>\n",
       "      <td>...</td>\n",
       "      <td>...</td>\n",
       "      <td>...</td>\n",
       "      <td>...</td>\n",
       "      <td>...</td>\n",
       "      <td>...</td>\n",
       "      <td>...</td>\n",
       "      <td>...</td>\n",
       "    </tr>\n",
       "    <tr>\n",
       "      <th>7038</th>\n",
       "      <td>6840-RESVB</td>\n",
       "      <td>2018-02-01</td>\n",
       "      <td>No</td>\n",
       "      <td>One year</td>\n",
       "      <td>Yes</td>\n",
       "      <td>Mailed check</td>\n",
       "      <td>84.800</td>\n",
       "      <td>1990.5</td>\n",
       "      <td>0</td>\n",
       "      <td>2020-02-01</td>\n",
       "      <td>24</td>\n",
       "    </tr>\n",
       "    <tr>\n",
       "      <th>7039</th>\n",
       "      <td>2234-XADUH</td>\n",
       "      <td>2014-02-01</td>\n",
       "      <td>No</td>\n",
       "      <td>One year</td>\n",
       "      <td>Yes</td>\n",
       "      <td>Credit card (automatic)</td>\n",
       "      <td>103.200</td>\n",
       "      <td>7362.9</td>\n",
       "      <td>0</td>\n",
       "      <td>2020-02-01</td>\n",
       "      <td>72</td>\n",
       "    </tr>\n",
       "    <tr>\n",
       "      <th>7040</th>\n",
       "      <td>4801-JZAZL</td>\n",
       "      <td>2019-03-01</td>\n",
       "      <td>No</td>\n",
       "      <td>Month-to-month</td>\n",
       "      <td>Yes</td>\n",
       "      <td>Electronic check</td>\n",
       "      <td>29.600</td>\n",
       "      <td>346.45</td>\n",
       "      <td>0</td>\n",
       "      <td>2020-02-01</td>\n",
       "      <td>12</td>\n",
       "    </tr>\n",
       "    <tr>\n",
       "      <th>7041</th>\n",
       "      <td>8361-LTMKD</td>\n",
       "      <td>2019-07-01</td>\n",
       "      <td>2019-11-01 00:00:00</td>\n",
       "      <td>Month-to-month</td>\n",
       "      <td>Yes</td>\n",
       "      <td>Mailed check</td>\n",
       "      <td>74.400</td>\n",
       "      <td>306.6</td>\n",
       "      <td>1</td>\n",
       "      <td>2019-11-01</td>\n",
       "      <td>5</td>\n",
       "    </tr>\n",
       "    <tr>\n",
       "      <th>7042</th>\n",
       "      <td>3186-AJIEK</td>\n",
       "      <td>2014-08-01</td>\n",
       "      <td>No</td>\n",
       "      <td>Two year</td>\n",
       "      <td>Yes</td>\n",
       "      <td>Bank transfer (automatic)</td>\n",
       "      <td>105.650</td>\n",
       "      <td>6844.5</td>\n",
       "      <td>0</td>\n",
       "      <td>2020-02-01</td>\n",
       "      <td>67</td>\n",
       "    </tr>\n",
       "  </tbody>\n",
       "</table>\n",
       "<p>7043 rows × 11 columns</p>\n",
       "</div>"
      ],
      "text/plain": [
       "      customerID  BeginDate              EndDate            Type  \\\n",
       "0     7590-VHVEG 2020-01-01                   No  Month-to-month   \n",
       "1     5575-GNVDE 2017-04-01                   No        One year   \n",
       "2     3668-QPYBK 2019-10-01  2019-12-01 00:00:00  Month-to-month   \n",
       "3     7795-CFOCW 2016-05-01                   No        One year   \n",
       "4     9237-HQITU 2019-09-01  2019-11-01 00:00:00  Month-to-month   \n",
       "...          ...        ...                  ...             ...   \n",
       "7038  6840-RESVB 2018-02-01                   No        One year   \n",
       "7039  2234-XADUH 2014-02-01                   No        One year   \n",
       "7040  4801-JZAZL 2019-03-01                   No  Month-to-month   \n",
       "7041  8361-LTMKD 2019-07-01  2019-11-01 00:00:00  Month-to-month   \n",
       "7042  3186-AJIEK 2014-08-01                   No        Two year   \n",
       "\n",
       "     PaperlessBilling              PaymentMethod  MonthlyCharges TotalCharges  \\\n",
       "0                 Yes           Electronic check          29.850        29.85   \n",
       "1                  No               Mailed check          56.950       1889.5   \n",
       "2                 Yes               Mailed check          53.850       108.15   \n",
       "3                  No  Bank transfer (automatic)          42.300      1840.75   \n",
       "4                 Yes           Electronic check          70.700       151.65   \n",
       "...               ...                        ...             ...          ...   \n",
       "7038              Yes               Mailed check          84.800       1990.5   \n",
       "7039              Yes    Credit card (automatic)         103.200       7362.9   \n",
       "7040              Yes           Electronic check          29.600       346.45   \n",
       "7041              Yes               Mailed check          74.400        306.6   \n",
       "7042              Yes  Bank transfer (automatic)         105.650       6844.5   \n",
       "\n",
       "      IsChurn  EndPeriod  ContractPeriod  \n",
       "0           0 2020-02-01               2  \n",
       "1           0 2020-02-01              35  \n",
       "2           1 2019-12-01               3  \n",
       "3           0 2020-02-01              46  \n",
       "4           1 2019-11-01               3  \n",
       "...       ...        ...             ...  \n",
       "7038        0 2020-02-01              24  \n",
       "7039        0 2020-02-01              72  \n",
       "7040        0 2020-02-01              12  \n",
       "7041        1 2019-11-01               5  \n",
       "7042        0 2020-02-01              67  \n",
       "\n",
       "[7043 rows x 11 columns]"
      ]
     },
     "execution_count": 19,
     "metadata": {},
     "output_type": "execute_result"
    }
   ],
   "source": [
    "contract['ContractPeriod'] = (contract['EndPeriod'] - contract['BeginDate']).astype('timedelta64[M]').astype('int64') + 1\n",
    "contract"
   ]
  },
  {
   "cell_type": "markdown",
   "id": "ae657da3",
   "metadata": {},
   "source": [
    "Получили новый важный признак - количество месяцев действия контракта."
   ]
  },
  {
   "cell_type": "markdown",
   "id": "c9ee122f",
   "metadata": {},
   "source": [
    "Теперь можем разобраться с пропусками в столбце 'TotalCharges'"
   ]
  },
  {
   "cell_type": "code",
   "execution_count": 20,
   "id": "9cd1c0b3",
   "metadata": {},
   "outputs": [
    {
     "name": "stdout",
     "output_type": "stream",
     "text": [
      "<class 'pandas.core.frame.DataFrame'>\n",
      "RangeIndex: 7043 entries, 0 to 7042\n",
      "Data columns (total 11 columns):\n",
      " #   Column            Non-Null Count  Dtype         \n",
      "---  ------            --------------  -----         \n",
      " 0   customerID        7043 non-null   object        \n",
      " 1   BeginDate         7043 non-null   datetime64[ns]\n",
      " 2   EndDate           7043 non-null   object        \n",
      " 3   Type              7043 non-null   object        \n",
      " 4   PaperlessBilling  7043 non-null   object        \n",
      " 5   PaymentMethod     7043 non-null   object        \n",
      " 6   MonthlyCharges    7043 non-null   float64       \n",
      " 7   TotalCharges      7043 non-null   float64       \n",
      " 8   IsChurn           7043 non-null   int64         \n",
      " 9   EndPeriod         7043 non-null   datetime64[ns]\n",
      " 10  ContractPeriod    7043 non-null   int64         \n",
      "dtypes: datetime64[ns](2), float64(2), int64(2), object(5)\n",
      "memory usage: 605.4+ KB\n"
     ]
    }
   ],
   "source": [
    "contract.loc[contract['TotalCharges'] == ' ', 'TotalCharges'] = contract.loc[contract['TotalCharges'] == ' ', 'MonthlyCharges'] \\\n",
    "* contract.loc[contract['TotalCharges'] == ' ', 'ContractPeriod']\n",
    "contract['TotalCharges'] = contract['TotalCharges'].astype('float64')\n",
    "contract.info()"
   ]
  },
  {
   "cell_type": "code",
   "execution_count": 21,
   "id": "9fc6183c",
   "metadata": {
    "scrolled": true
   },
   "outputs": [
    {
     "data": {
      "text/plain": [
       "count   7,043.000\n",
       "mean    2,279.799\n",
       "std     2,266.730\n",
       "min        18.800\n",
       "25%       398.550\n",
       "50%     1,394.550\n",
       "75%     3,786.600\n",
       "max     8,684.800\n",
       "Name: TotalCharges, dtype: float64"
      ]
     },
     "execution_count": 21,
     "metadata": {},
     "output_type": "execute_result"
    }
   ],
   "source": [
    "contract['TotalCharges'].describe()"
   ]
  },
  {
   "cell_type": "code",
   "execution_count": 22,
   "id": "b1351663",
   "metadata": {
    "scrolled": true
   },
   "outputs": [
    {
     "data": {
      "image/png": "[encoded data removed]",
      "text/plain": [
       "<Figure size 432x288 with 1 Axes>"
      ]
     },
     "metadata": {
      "needs_background": "light"
     },
     "output_type": "display_data"
    }
   ],
   "source": [
    "contract.plot('TotalCharges', 'ContractPeriod', kind='scatter', alpha=0.5);"
   ]
  },
  {
   "cell_type": "markdown",
   "id": "21d5f156",
   "metadata": {},
   "source": [
    "На графике видим четкую корреляцию периода действия контракта с доходом от абонента. Данные в столбце 'TotalCharges' адекватны."
   ]
  },
  {
   "cell_type": "code",
   "execution_count": 23,
   "id": "2b84f733",
   "metadata": {},
   "outputs": [
    {
     "data": {
      "text/plain": [
       "Month-to-month    3875\n",
       "Two year          1695\n",
       "One year          1473\n",
       "Name: Type, dtype: int64"
      ]
     },
     "execution_count": 23,
     "metadata": {},
     "output_type": "execute_result"
    }
   ],
   "source": [
    "contract['Type'].value_counts()"
   ]
  },
  {
   "cell_type": "markdown",
   "id": "2b4cb404",
   "metadata": {},
   "source": [
    "Значения в столбце в порядке. Этот столбец может оказаться важным по влиянию на целевой признак."
   ]
  },
  {
   "cell_type": "code",
   "execution_count": 24,
   "id": "9751013e",
   "metadata": {
    "scrolled": false
   },
   "outputs": [
    {
     "data": {
      "text/plain": [
       "Yes    4171\n",
       "No     2872\n",
       "Name: PaperlessBilling, dtype: int64"
      ]
     },
     "execution_count": 24,
     "metadata": {},
     "output_type": "execute_result"
    }
   ],
   "source": [
    "contract['PaperlessBilling'].value_counts()"
   ]
  },
  {
   "cell_type": "markdown",
   "id": "5ec416c2",
   "metadata": {},
   "source": [
    "Наличие бумажных счетов или их отсутствие вряд ли повлияет на отток абонентов, поэтому этот столбец скорее всего удалим."
   ]
  },
  {
   "cell_type": "code",
   "execution_count": 25,
   "id": "8d94e25b",
   "metadata": {
    "scrolled": true
   },
   "outputs": [
    {
     "data": {
      "text/plain": [
       "Electronic check             2365\n",
       "Mailed check                 1612\n",
       "Bank transfer (automatic)    1544\n",
       "Credit card (automatic)      1522\n",
       "Name: PaymentMethod, dtype: int64"
      ]
     },
     "execution_count": 25,
     "metadata": {},
     "output_type": "execute_result"
    }
   ],
   "source": [
    "contract['PaymentMethod'].value_counts()"
   ]
  },
  {
   "cell_type": "markdown",
   "id": "d67ff456",
   "metadata": {},
   "source": [
    "Вид платежа сам по себе также скорее всего не влияет на целевой признак, а вот автоматические или ручные платежи - это скорее всего существенный фактор для привязанности абонента. Скорее всего, отток абонентов с автоматической оплатой будет ниже."
   ]
  },
  {
   "cell_type": "code",
   "execution_count": 26,
   "id": "2bc077a3",
   "metadata": {
    "scrolled": true
   },
   "outputs": [
    {
     "data": {
      "text/html": [
       "<div>\n",
       "<style scoped>\n",
       "    .dataframe tbody tr th:only-of-type {\n",
       "        vertical-align: middle;\n",
       "    }\n",
       "\n",
       "    .dataframe tbody tr th {\n",
       "        vertical-align: top;\n",
       "    }\n",
       "\n",
       "    .dataframe thead th {\n",
       "        text-align: right;\n",
       "    }\n",
       "</style>\n",
       "<table border=\"1\" class=\"dataframe\">\n",
       "  <thead>\n",
       "    <tr style=\"text-align: right;\">\n",
       "      <th>IsChurn</th>\n",
       "      <th>0</th>\n",
       "      <th>1</th>\n",
       "      <th>All</th>\n",
       "    </tr>\n",
       "    <tr>\n",
       "      <th>PaymentMethod</th>\n",
       "      <th></th>\n",
       "      <th></th>\n",
       "      <th></th>\n",
       "    </tr>\n",
       "  </thead>\n",
       "  <tbody>\n",
       "    <tr>\n",
       "      <th>Bank transfer (automatic)</th>\n",
       "      <td>1286</td>\n",
       "      <td>258</td>\n",
       "      <td>1544</td>\n",
       "    </tr>\n",
       "    <tr>\n",
       "      <th>Credit card (automatic)</th>\n",
       "      <td>1290</td>\n",
       "      <td>232</td>\n",
       "      <td>1522</td>\n",
       "    </tr>\n",
       "    <tr>\n",
       "      <th>Electronic check</th>\n",
       "      <td>1294</td>\n",
       "      <td>1071</td>\n",
       "      <td>2365</td>\n",
       "    </tr>\n",
       "    <tr>\n",
       "      <th>Mailed check</th>\n",
       "      <td>1304</td>\n",
       "      <td>308</td>\n",
       "      <td>1612</td>\n",
       "    </tr>\n",
       "    <tr>\n",
       "      <th>All</th>\n",
       "      <td>5174</td>\n",
       "      <td>1869</td>\n",
       "      <td>7043</td>\n",
       "    </tr>\n",
       "  </tbody>\n",
       "</table>\n",
       "</div>"
      ],
      "text/plain": [
       "IsChurn                       0     1   All\n",
       "PaymentMethod                              \n",
       "Bank transfer (automatic)  1286   258  1544\n",
       "Credit card (automatic)    1290   232  1522\n",
       "Electronic check           1294  1071  2365\n",
       "Mailed check               1304   308  1612\n",
       "All                        5174  1869  7043"
      ]
     },
     "execution_count": 26,
     "metadata": {},
     "output_type": "execute_result"
    }
   ],
   "source": [
    "contract.pivot_table(columns='IsChurn', index='PaymentMethod', values='customerID', aggfunc='count', margins=True)"
   ]
  },
  {
   "cell_type": "markdown",
   "id": "10aebaf5",
   "metadata": {},
   "source": [
    "Сводная таблица выше частично подтверждает нашу гипотезу. Однако, из нее видно, что больше половины потерянных абонентов сосредоточена в одной категории 'Electronic check'. Возможно в данной колонке стоит сохранить все категориальные признаки для обучения нашей модели."
   ]
  },
  {
   "cell_type": "code",
   "execution_count": 27,
   "id": "9d34786b",
   "metadata": {},
   "outputs": [
    {
     "data": {
      "text/plain": [
       "0"
      ]
     },
     "execution_count": 27,
     "metadata": {},
     "output_type": "execute_result"
    }
   ],
   "source": [
    "contract['customerID'].duplicated().sum()"
   ]
  },
  {
   "cell_type": "markdown",
   "id": "b82d5db4",
   "metadata": {},
   "source": [
    "Дубликатов - нет."
   ]
  },
  {
   "cell_type": "markdown",
   "id": "d1217053",
   "metadata": {},
   "source": [
    "#### Вывод:\n",
    "\n",
    "За исключением небольшого количества пропусков - данные также в хорошем состоянии. <br>\n",
    "В данном датасете выделили целевой признак, а также дополнили датасет важным признаком - период контракта, который выражен в количестве месяцев. <br> \n",
    "Кроме того, определили другие ключевые признаки для дальнейшей работы."
   ]
  },
  {
   "cell_type": "code",
   "execution_count": 28,
   "id": "14e2466a",
   "metadata": {
    "scrolled": true
   },
   "outputs": [
    {
     "data": {
      "text/html": [
       "<div>\n",
       "<style scoped>\n",
       "    .dataframe tbody tr th:only-of-type {\n",
       "        vertical-align: middle;\n",
       "    }\n",
       "\n",
       "    .dataframe tbody tr th {\n",
       "        vertical-align: top;\n",
       "    }\n",
       "\n",
       "    .dataframe thead th {\n",
       "        text-align: right;\n",
       "    }\n",
       "</style>\n",
       "<table border=\"1\" class=\"dataframe\">\n",
       "  <thead>\n",
       "    <tr style=\"text-align: right;\">\n",
       "      <th></th>\n",
       "      <th>customerID</th>\n",
       "      <th>InternetService</th>\n",
       "      <th>OnlineSecurity</th>\n",
       "      <th>OnlineBackup</th>\n",
       "      <th>DeviceProtection</th>\n",
       "      <th>TechSupport</th>\n",
       "      <th>StreamingTV</th>\n",
       "      <th>StreamingMovies</th>\n",
       "    </tr>\n",
       "  </thead>\n",
       "  <tbody>\n",
       "    <tr>\n",
       "      <th>0</th>\n",
       "      <td>7590-VHVEG</td>\n",
       "      <td>DSL</td>\n",
       "      <td>No</td>\n",
       "      <td>Yes</td>\n",
       "      <td>No</td>\n",
       "      <td>No</td>\n",
       "      <td>No</td>\n",
       "      <td>No</td>\n",
       "    </tr>\n",
       "    <tr>\n",
       "      <th>1</th>\n",
       "      <td>5575-GNVDE</td>\n",
       "      <td>DSL</td>\n",
       "      <td>Yes</td>\n",
       "      <td>No</td>\n",
       "      <td>Yes</td>\n",
       "      <td>No</td>\n",
       "      <td>No</td>\n",
       "      <td>No</td>\n",
       "    </tr>\n",
       "    <tr>\n",
       "      <th>2</th>\n",
       "      <td>3668-QPYBK</td>\n",
       "      <td>DSL</td>\n",
       "      <td>Yes</td>\n",
       "      <td>Yes</td>\n",
       "      <td>No</td>\n",
       "      <td>No</td>\n",
       "      <td>No</td>\n",
       "      <td>No</td>\n",
       "    </tr>\n",
       "    <tr>\n",
       "      <th>3</th>\n",
       "      <td>7795-CFOCW</td>\n",
       "      <td>DSL</td>\n",
       "      <td>Yes</td>\n",
       "      <td>No</td>\n",
       "      <td>Yes</td>\n",
       "      <td>Yes</td>\n",
       "      <td>No</td>\n",
       "      <td>No</td>\n",
       "    </tr>\n",
       "    <tr>\n",
       "      <th>4</th>\n",
       "      <td>9237-HQITU</td>\n",
       "      <td>Fiber optic</td>\n",
       "      <td>No</td>\n",
       "      <td>No</td>\n",
       "      <td>No</td>\n",
       "      <td>No</td>\n",
       "      <td>No</td>\n",
       "      <td>No</td>\n",
       "    </tr>\n",
       "    <tr>\n",
       "      <th>...</th>\n",
       "      <td>...</td>\n",
       "      <td>...</td>\n",
       "      <td>...</td>\n",
       "      <td>...</td>\n",
       "      <td>...</td>\n",
       "      <td>...</td>\n",
       "      <td>...</td>\n",
       "      <td>...</td>\n",
       "    </tr>\n",
       "    <tr>\n",
       "      <th>5512</th>\n",
       "      <td>6840-RESVB</td>\n",
       "      <td>DSL</td>\n",
       "      <td>Yes</td>\n",
       "      <td>No</td>\n",
       "      <td>Yes</td>\n",
       "      <td>Yes</td>\n",
       "      <td>Yes</td>\n",
       "      <td>Yes</td>\n",
       "    </tr>\n",
       "    <tr>\n",
       "      <th>5513</th>\n",
       "      <td>2234-XADUH</td>\n",
       "      <td>Fiber optic</td>\n",
       "      <td>No</td>\n",
       "      <td>Yes</td>\n",
       "      <td>Yes</td>\n",
       "      <td>No</td>\n",
       "      <td>Yes</td>\n",
       "      <td>Yes</td>\n",
       "    </tr>\n",
       "    <tr>\n",
       "      <th>5514</th>\n",
       "      <td>4801-JZAZL</td>\n",
       "      <td>DSL</td>\n",
       "      <td>Yes</td>\n",
       "      <td>No</td>\n",
       "      <td>No</td>\n",
       "      <td>No</td>\n",
       "      <td>No</td>\n",
       "      <td>No</td>\n",
       "    </tr>\n",
       "    <tr>\n",
       "      <th>5515</th>\n",
       "      <td>8361-LTMKD</td>\n",
       "      <td>Fiber optic</td>\n",
       "      <td>No</td>\n",
       "      <td>No</td>\n",
       "      <td>No</td>\n",
       "      <td>No</td>\n",
       "      <td>No</td>\n",
       "      <td>No</td>\n",
       "    </tr>\n",
       "    <tr>\n",
       "      <th>5516</th>\n",
       "      <td>3186-AJIEK</td>\n",
       "      <td>Fiber optic</td>\n",
       "      <td>Yes</td>\n",
       "      <td>No</td>\n",
       "      <td>Yes</td>\n",
       "      <td>Yes</td>\n",
       "      <td>Yes</td>\n",
       "      <td>Yes</td>\n",
       "    </tr>\n",
       "  </tbody>\n",
       "</table>\n",
       "<p>5517 rows × 8 columns</p>\n",
       "</div>"
      ],
      "text/plain": [
       "      customerID InternetService OnlineSecurity OnlineBackup DeviceProtection  \\\n",
       "0     7590-VHVEG             DSL             No          Yes               No   \n",
       "1     5575-GNVDE             DSL            Yes           No              Yes   \n",
       "2     3668-QPYBK             DSL            Yes          Yes               No   \n",
       "3     7795-CFOCW             DSL            Yes           No              Yes   \n",
       "4     9237-HQITU     Fiber optic             No           No               No   \n",
       "...          ...             ...            ...          ...              ...   \n",
       "5512  6840-RESVB             DSL            Yes           No              Yes   \n",
       "5513  2234-XADUH     Fiber optic             No          Yes              Yes   \n",
       "5514  4801-JZAZL             DSL            Yes           No               No   \n",
       "5515  8361-LTMKD     Fiber optic             No           No               No   \n",
       "5516  3186-AJIEK     Fiber optic            Yes           No              Yes   \n",
       "\n",
       "     TechSupport StreamingTV StreamingMovies  \n",
       "0             No          No              No  \n",
       "1             No          No              No  \n",
       "2             No          No              No  \n",
       "3            Yes          No              No  \n",
       "4             No          No              No  \n",
       "...          ...         ...             ...  \n",
       "5512         Yes         Yes             Yes  \n",
       "5513          No         Yes             Yes  \n",
       "5514          No          No              No  \n",
       "5515          No          No              No  \n",
       "5516         Yes         Yes             Yes  \n",
       "\n",
       "[5517 rows x 8 columns]"
      ]
     },
     "execution_count": 28,
     "metadata": {},
     "output_type": "execute_result"
    }
   ],
   "source": [
    "internet"
   ]
  },
  {
   "cell_type": "markdown",
   "id": "4ce67270",
   "metadata": {},
   "source": [
    "Первом делом, в данной таблице бросается в глаза меньшее количество абонентов. Это может быть нормальным, если допустить, что часть клиентов пользуется только одним видом услуг, например, только интернетом или только телефоном."
   ]
  },
  {
   "cell_type": "code",
   "execution_count": 29,
   "id": "54cb5202",
   "metadata": {
    "scrolled": true
   },
   "outputs": [
    {
     "name": "stdout",
     "output_type": "stream",
     "text": [
      "<class 'pandas.core.frame.DataFrame'>\n",
      "RangeIndex: 5517 entries, 0 to 5516\n",
      "Data columns (total 8 columns):\n",
      " #   Column            Non-Null Count  Dtype \n",
      "---  ------            --------------  ----- \n",
      " 0   customerID        5517 non-null   object\n",
      " 1   InternetService   5517 non-null   object\n",
      " 2   OnlineSecurity    5517 non-null   object\n",
      " 3   OnlineBackup      5517 non-null   object\n",
      " 4   DeviceProtection  5517 non-null   object\n",
      " 5   TechSupport       5517 non-null   object\n",
      " 6   StreamingTV       5517 non-null   object\n",
      " 7   StreamingMovies   5517 non-null   object\n",
      "dtypes: object(8)\n",
      "memory usage: 344.9+ KB\n"
     ]
    }
   ],
   "source": [
    "internet.info()"
   ]
  },
  {
   "cell_type": "markdown",
   "id": "af90b622",
   "metadata": {},
   "source": [
    "Пропусков нет. Все колонки категориальные."
   ]
  },
  {
   "cell_type": "code",
   "execution_count": 30,
   "id": "a5c3d141",
   "metadata": {},
   "outputs": [
    {
     "data": {
      "text/plain": [
       "Fiber optic    3096\n",
       "DSL            2421\n",
       "Name: InternetService, dtype: int64"
      ]
     },
     "execution_count": 30,
     "metadata": {},
     "output_type": "execute_result"
    }
   ],
   "source": [
    "internet['InternetService'].value_counts()"
   ]
  },
  {
   "cell_type": "markdown",
   "id": "8d041fe0",
   "metadata": {},
   "source": [
    "В данной колонке видим 2 вида технологии подключения. По логике данный признак может существенно влиять на отток, поскольку абоненты часто переходят на новую, продвинутую технологию, которую в том числе могут предложить и конкуренты."
   ]
  },
  {
   "cell_type": "code",
   "execution_count": 31,
   "id": "03b78c8d",
   "metadata": {},
   "outputs": [
    {
     "data": {
      "text/plain": [
       "customerID             0\n",
       "InternetService        0\n",
       "OnlineSecurity      2019\n",
       "OnlineBackup        2429\n",
       "DeviceProtection    2422\n",
       "TechSupport         2044\n",
       "StreamingTV         2707\n",
       "StreamingMovies     2732\n",
       "dtype: int64"
      ]
     },
     "execution_count": 31,
     "metadata": {},
     "output_type": "execute_result"
    }
   ],
   "source": [
    "internet[internet == 'Yes'].count()"
   ]
  },
  {
   "cell_type": "code",
   "execution_count": 32,
   "id": "66c3ebfe",
   "metadata": {
    "scrolled": true
   },
   "outputs": [
    {
     "name": "stdout",
     "output_type": "stream",
     "text": [
      "No     3498\n",
      "Yes    2019\n",
      "Name: OnlineSecurity, dtype: int64\n",
      "No     3088\n",
      "Yes    2429\n",
      "Name: OnlineBackup, dtype: int64\n",
      "No     3095\n",
      "Yes    2422\n",
      "Name: DeviceProtection, dtype: int64\n",
      "No     3473\n",
      "Yes    2044\n",
      "Name: TechSupport, dtype: int64\n",
      "No     2810\n",
      "Yes    2707\n",
      "Name: StreamingTV, dtype: int64\n",
      "No     2785\n",
      "Yes    2732\n",
      "Name: StreamingMovies, dtype: int64\n"
     ]
    }
   ],
   "source": [
    "for elem in ['OnlineSecurity', 'OnlineBackup', 'DeviceProtection', 'TechSupport', 'StreamingTV', 'StreamingMovies']:\n",
    "    col = internet[elem].value_counts()\n",
    "    print(col)\n",
    "   "
   ]
  },
  {
   "cell_type": "markdown",
   "id": "7b7903ca",
   "metadata": {},
   "source": [
    "Значения в данных столбцах все бинарные. Возможно, что на отток больше влияет не наличие какой-то конкретной доп. услуги, а общее количество доп. услуг. Проверим эту гипотезу после объединения таблиц. А пока добавим в таблицу признак с количеством доп. услуг."
   ]
  },
  {
   "cell_type": "code",
   "execution_count": 33,
   "id": "7f95dbb8",
   "metadata": {},
   "outputs": [],
   "source": [
    "internet['services_count'] = internet[internet[['OnlineSecurity', 'OnlineBackup', 'DeviceProtection', 'TechSupport', 'StreamingTV', 'StreamingMovies']] == 'Yes'].count(axis=1)\n"
   ]
  },
  {
   "cell_type": "code",
   "execution_count": 34,
   "id": "ff44d3ea",
   "metadata": {},
   "outputs": [
    {
     "data": {
      "text/plain": [
       "3    1118\n",
       "2    1033\n",
       "1     966\n",
       "4     852\n",
       "0     693\n",
       "5     571\n",
       "6     284\n",
       "Name: services_count, dtype: int64"
      ]
     },
     "execution_count": 34,
     "metadata": {},
     "output_type": "execute_result"
    }
   ],
   "source": [
    "internet['services_count'].value_counts()"
   ]
  },
  {
   "cell_type": "code",
   "execution_count": 35,
   "id": "b996580c",
   "metadata": {},
   "outputs": [
    {
     "data": {
      "text/plain": [
       "0"
      ]
     },
     "execution_count": 35,
     "metadata": {},
     "output_type": "execute_result"
    }
   ],
   "source": [
    "internet['customerID'].duplicated().sum()"
   ]
  },
  {
   "cell_type": "markdown",
   "id": "5941fc8a",
   "metadata": {},
   "source": [
    "Дубликатов - нет."
   ]
  },
  {
   "cell_type": "markdown",
   "id": "f7c856ff",
   "metadata": {},
   "source": [
    "#### Вывод:\n",
    "\n",
    "Данные в датасете в хорошем состоянии.<br>\n",
    "Добавили новый признак с количеством доп. услуг.<br>\n",
    "При слиянии таблиц нужно будет учитывать, что в этом датафрейте меньше строк, чем в двух предыдущих. А это значит могут появиться пропуски..."
   ]
  },
  {
   "cell_type": "code",
   "execution_count": 36,
   "id": "f93fd846",
   "metadata": {},
   "outputs": [
    {
     "data": {
      "text/html": [
       "<div>\n",
       "<style scoped>\n",
       "    .dataframe tbody tr th:only-of-type {\n",
       "        vertical-align: middle;\n",
       "    }\n",
       "\n",
       "    .dataframe tbody tr th {\n",
       "        vertical-align: top;\n",
       "    }\n",
       "\n",
       "    .dataframe thead th {\n",
       "        text-align: right;\n",
       "    }\n",
       "</style>\n",
       "<table border=\"1\" class=\"dataframe\">\n",
       "  <thead>\n",
       "    <tr style=\"text-align: right;\">\n",
       "      <th></th>\n",
       "      <th>customerID</th>\n",
       "      <th>MultipleLines</th>\n",
       "    </tr>\n",
       "  </thead>\n",
       "  <tbody>\n",
       "    <tr>\n",
       "      <th>0</th>\n",
       "      <td>5575-GNVDE</td>\n",
       "      <td>No</td>\n",
       "    </tr>\n",
       "    <tr>\n",
       "      <th>1</th>\n",
       "      <td>3668-QPYBK</td>\n",
       "      <td>No</td>\n",
       "    </tr>\n",
       "    <tr>\n",
       "      <th>2</th>\n",
       "      <td>9237-HQITU</td>\n",
       "      <td>No</td>\n",
       "    </tr>\n",
       "    <tr>\n",
       "      <th>3</th>\n",
       "      <td>9305-CDSKC</td>\n",
       "      <td>Yes</td>\n",
       "    </tr>\n",
       "    <tr>\n",
       "      <th>4</th>\n",
       "      <td>1452-KIOVK</td>\n",
       "      <td>Yes</td>\n",
       "    </tr>\n",
       "    <tr>\n",
       "      <th>...</th>\n",
       "      <td>...</td>\n",
       "      <td>...</td>\n",
       "    </tr>\n",
       "    <tr>\n",
       "      <th>6356</th>\n",
       "      <td>2569-WGERO</td>\n",
       "      <td>No</td>\n",
       "    </tr>\n",
       "    <tr>\n",
       "      <th>6357</th>\n",
       "      <td>6840-RESVB</td>\n",
       "      <td>Yes</td>\n",
       "    </tr>\n",
       "    <tr>\n",
       "      <th>6358</th>\n",
       "      <td>2234-XADUH</td>\n",
       "      <td>Yes</td>\n",
       "    </tr>\n",
       "    <tr>\n",
       "      <th>6359</th>\n",
       "      <td>8361-LTMKD</td>\n",
       "      <td>Yes</td>\n",
       "    </tr>\n",
       "    <tr>\n",
       "      <th>6360</th>\n",
       "      <td>3186-AJIEK</td>\n",
       "      <td>No</td>\n",
       "    </tr>\n",
       "  </tbody>\n",
       "</table>\n",
       "<p>6361 rows × 2 columns</p>\n",
       "</div>"
      ],
      "text/plain": [
       "      customerID MultipleLines\n",
       "0     5575-GNVDE            No\n",
       "1     3668-QPYBK            No\n",
       "2     9237-HQITU            No\n",
       "3     9305-CDSKC           Yes\n",
       "4     1452-KIOVK           Yes\n",
       "...          ...           ...\n",
       "6356  2569-WGERO            No\n",
       "6357  6840-RESVB           Yes\n",
       "6358  2234-XADUH           Yes\n",
       "6359  8361-LTMKD           Yes\n",
       "6360  3186-AJIEK            No\n",
       "\n",
       "[6361 rows x 2 columns]"
      ]
     },
     "execution_count": 36,
     "metadata": {},
     "output_type": "execute_result"
    }
   ],
   "source": [
    "phone"
   ]
  },
  {
   "cell_type": "markdown",
   "id": "6031dcef",
   "metadata": {},
   "source": [
    "В последнем датасете мы видим самую маленькую таблицу, дающую нам 2 признака:\n",
    "1) - это наличие услуги телефонии в принципе\n",
    "2) - это является ли подключенная телефония многоканальной.\n",
    "\n",
    "Оба признака важны, т.к. могут влиять на отток абонентов (скорее на удержание, но это две стороны одной медали)"
   ]
  },
  {
   "cell_type": "code",
   "execution_count": 37,
   "id": "586028bd",
   "metadata": {},
   "outputs": [
    {
     "data": {
      "text/plain": [
       "0"
      ]
     },
     "execution_count": 37,
     "metadata": {},
     "output_type": "execute_result"
    }
   ],
   "source": [
    "phone['customerID'].duplicated().sum()"
   ]
  },
  {
   "cell_type": "markdown",
   "id": "bec398ab",
   "metadata": {},
   "source": [
    "#### Вывод:\n",
    "\n",
    "Данные в датасете в хорошем состоянии.<br>\n",
    "Необходимо учитывать, что само нахождение *customer_id* ы данном датасете говорит о наличии у абонентов услуги телефонии.<br>\n",
    "При слиянии таблиц нужно будет учитывать, что в этом датафрейте меньше строк, чем в двух предыдущих. А это значит могут появиться пропуски..."
   ]
  },
  {
   "cell_type": "markdown",
   "id": "66d7db09",
   "metadata": {},
   "source": [
    "### Вывод:\n",
    "1. Датасет для обучения модели относительно небольшой -всего 7043 наблюдений.\n",
    "2. Данные большей частью адекватны нашим задачам, пропусков почти нет, дубликатов вообще нет. \n",
    "3. Требуется объединение первичных таблиц, проверка степени влияния признаков на целевой признак и принятие решений по итоговому набору столбцов датасета для дальнейших этапов.\n",
    "4. Целевой признак выделен во второй таблице - *contract*. Обнаружен существенный дисбаланс классов. Учитывая небольшой размер датасета оптимальным методом работы с дисбалансом классов видится upsampling"
   ]
  },
  {
   "cell_type": "markdown",
   "id": "df51b00b",
   "metadata": {},
   "source": [
    "### Подготовка данных"
   ]
  },
  {
   "cell_type": "markdown",
   "id": "a66bba6e",
   "metadata": {},
   "source": [
    "#### Объединение таблиц"
   ]
  },
  {
   "cell_type": "code",
   "execution_count": 38,
   "id": "62acbd48",
   "metadata": {},
   "outputs": [
    {
     "data": {
      "text/html": [
       "<div>\n",
       "<style scoped>\n",
       "    .dataframe tbody tr th:only-of-type {\n",
       "        vertical-align: middle;\n",
       "    }\n",
       "\n",
       "    .dataframe tbody tr th {\n",
       "        vertical-align: top;\n",
       "    }\n",
       "\n",
       "    .dataframe thead th {\n",
       "        text-align: right;\n",
       "    }\n",
       "</style>\n",
       "<table border=\"1\" class=\"dataframe\">\n",
       "  <thead>\n",
       "    <tr style=\"text-align: right;\">\n",
       "      <th></th>\n",
       "      <th>customerID</th>\n",
       "      <th>gender</th>\n",
       "      <th>SeniorCitizen</th>\n",
       "      <th>Partner</th>\n",
       "      <th>Dependents</th>\n",
       "      <th>BeginDate</th>\n",
       "      <th>EndDate</th>\n",
       "      <th>Type</th>\n",
       "      <th>PaperlessBilling</th>\n",
       "      <th>PaymentMethod</th>\n",
       "      <th>...</th>\n",
       "      <th>ContractPeriod</th>\n",
       "      <th>InternetService</th>\n",
       "      <th>OnlineSecurity</th>\n",
       "      <th>OnlineBackup</th>\n",
       "      <th>DeviceProtection</th>\n",
       "      <th>TechSupport</th>\n",
       "      <th>StreamingTV</th>\n",
       "      <th>StreamingMovies</th>\n",
       "      <th>services_count</th>\n",
       "      <th>MultipleLines</th>\n",
       "    </tr>\n",
       "  </thead>\n",
       "  <tbody>\n",
       "    <tr>\n",
       "      <th>0</th>\n",
       "      <td>7590-VHVEG</td>\n",
       "      <td>Female</td>\n",
       "      <td>0</td>\n",
       "      <td>Yes</td>\n",
       "      <td>No</td>\n",
       "      <td>2020-01-01</td>\n",
       "      <td>No</td>\n",
       "      <td>Month-to-month</td>\n",
       "      <td>Yes</td>\n",
       "      <td>Electronic check</td>\n",
       "      <td>...</td>\n",
       "      <td>2</td>\n",
       "      <td>DSL</td>\n",
       "      <td>No</td>\n",
       "      <td>Yes</td>\n",
       "      <td>No</td>\n",
       "      <td>No</td>\n",
       "      <td>No</td>\n",
       "      <td>No</td>\n",
       "      <td>1.000</td>\n",
       "      <td>NaN</td>\n",
       "    </tr>\n",
       "    <tr>\n",
       "      <th>1</th>\n",
       "      <td>5575-GNVDE</td>\n",
       "      <td>Male</td>\n",
       "      <td>0</td>\n",
       "      <td>No</td>\n",
       "      <td>No</td>\n",
       "      <td>2017-04-01</td>\n",
       "      <td>No</td>\n",
       "      <td>One year</td>\n",
       "      <td>No</td>\n",
       "      <td>Mailed check</td>\n",
       "      <td>...</td>\n",
       "      <td>35</td>\n",
       "      <td>DSL</td>\n",
       "      <td>Yes</td>\n",
       "      <td>No</td>\n",
       "      <td>Yes</td>\n",
       "      <td>No</td>\n",
       "      <td>No</td>\n",
       "      <td>No</td>\n",
       "      <td>2.000</td>\n",
       "      <td>No</td>\n",
       "    </tr>\n",
       "    <tr>\n",
       "      <th>2</th>\n",
       "      <td>3668-QPYBK</td>\n",
       "      <td>Male</td>\n",
       "      <td>0</td>\n",
       "      <td>No</td>\n",
       "      <td>No</td>\n",
       "      <td>2019-10-01</td>\n",
       "      <td>2019-12-01 00:00:00</td>\n",
       "      <td>Month-to-month</td>\n",
       "      <td>Yes</td>\n",
       "      <td>Mailed check</td>\n",
       "      <td>...</td>\n",
       "      <td>3</td>\n",
       "      <td>DSL</td>\n",
       "      <td>Yes</td>\n",
       "      <td>Yes</td>\n",
       "      <td>No</td>\n",
       "      <td>No</td>\n",
       "      <td>No</td>\n",
       "      <td>No</td>\n",
       "      <td>2.000</td>\n",
       "      <td>No</td>\n",
       "    </tr>\n",
       "    <tr>\n",
       "      <th>3</th>\n",
       "      <td>7795-CFOCW</td>\n",
       "      <td>Male</td>\n",
       "      <td>0</td>\n",
       "      <td>No</td>\n",
       "      <td>No</td>\n",
       "      <td>2016-05-01</td>\n",
       "      <td>No</td>\n",
       "      <td>One year</td>\n",
       "      <td>No</td>\n",
       "      <td>Bank transfer (automatic)</td>\n",
       "      <td>...</td>\n",
       "      <td>46</td>\n",
       "      <td>DSL</td>\n",
       "      <td>Yes</td>\n",
       "      <td>No</td>\n",
       "      <td>Yes</td>\n",
       "      <td>Yes</td>\n",
       "      <td>No</td>\n",
       "      <td>No</td>\n",
       "      <td>3.000</td>\n",
       "      <td>NaN</td>\n",
       "    </tr>\n",
       "    <tr>\n",
       "      <th>4</th>\n",
       "      <td>9237-HQITU</td>\n",
       "      <td>Female</td>\n",
       "      <td>0</td>\n",
       "      <td>No</td>\n",
       "      <td>No</td>\n",
       "      <td>2019-09-01</td>\n",
       "      <td>2019-11-01 00:00:00</td>\n",
       "      <td>Month-to-month</td>\n",
       "      <td>Yes</td>\n",
       "      <td>Electronic check</td>\n",
       "      <td>...</td>\n",
       "      <td>3</td>\n",
       "      <td>Fiber optic</td>\n",
       "      <td>No</td>\n",
       "      <td>No</td>\n",
       "      <td>No</td>\n",
       "      <td>No</td>\n",
       "      <td>No</td>\n",
       "      <td>No</td>\n",
       "      <td>0.000</td>\n",
       "      <td>No</td>\n",
       "    </tr>\n",
       "    <tr>\n",
       "      <th>5</th>\n",
       "      <td>9305-CDSKC</td>\n",
       "      <td>Female</td>\n",
       "      <td>0</td>\n",
       "      <td>No</td>\n",
       "      <td>No</td>\n",
       "      <td>2019-03-01</td>\n",
       "      <td>2019-11-01 00:00:00</td>\n",
       "      <td>Month-to-month</td>\n",
       "      <td>Yes</td>\n",
       "      <td>Electronic check</td>\n",
       "      <td>...</td>\n",
       "      <td>9</td>\n",
       "      <td>Fiber optic</td>\n",
       "      <td>No</td>\n",
       "      <td>No</td>\n",
       "      <td>Yes</td>\n",
       "      <td>No</td>\n",
       "      <td>Yes</td>\n",
       "      <td>Yes</td>\n",
       "      <td>3.000</td>\n",
       "      <td>Yes</td>\n",
       "    </tr>\n",
       "    <tr>\n",
       "      <th>6</th>\n",
       "      <td>1452-KIOVK</td>\n",
       "      <td>Male</td>\n",
       "      <td>0</td>\n",
       "      <td>No</td>\n",
       "      <td>Yes</td>\n",
       "      <td>2018-04-01</td>\n",
       "      <td>No</td>\n",
       "      <td>Month-to-month</td>\n",
       "      <td>Yes</td>\n",
       "      <td>Credit card (automatic)</td>\n",
       "      <td>...</td>\n",
       "      <td>23</td>\n",
       "      <td>Fiber optic</td>\n",
       "      <td>No</td>\n",
       "      <td>Yes</td>\n",
       "      <td>No</td>\n",
       "      <td>No</td>\n",
       "      <td>Yes</td>\n",
       "      <td>No</td>\n",
       "      <td>2.000</td>\n",
       "      <td>Yes</td>\n",
       "    </tr>\n",
       "    <tr>\n",
       "      <th>7</th>\n",
       "      <td>6713-OKOMC</td>\n",
       "      <td>Female</td>\n",
       "      <td>0</td>\n",
       "      <td>No</td>\n",
       "      <td>No</td>\n",
       "      <td>2019-04-01</td>\n",
       "      <td>No</td>\n",
       "      <td>Month-to-month</td>\n",
       "      <td>No</td>\n",
       "      <td>Mailed check</td>\n",
       "      <td>...</td>\n",
       "      <td>11</td>\n",
       "      <td>DSL</td>\n",
       "      <td>Yes</td>\n",
       "      <td>No</td>\n",
       "      <td>No</td>\n",
       "      <td>No</td>\n",
       "      <td>No</td>\n",
       "      <td>No</td>\n",
       "      <td>1.000</td>\n",
       "      <td>NaN</td>\n",
       "    </tr>\n",
       "    <tr>\n",
       "      <th>8</th>\n",
       "      <td>7892-POOKP</td>\n",
       "      <td>Female</td>\n",
       "      <td>0</td>\n",
       "      <td>Yes</td>\n",
       "      <td>No</td>\n",
       "      <td>2017-07-01</td>\n",
       "      <td>2019-11-01 00:00:00</td>\n",
       "      <td>Month-to-month</td>\n",
       "      <td>Yes</td>\n",
       "      <td>Electronic check</td>\n",
       "      <td>...</td>\n",
       "      <td>29</td>\n",
       "      <td>Fiber optic</td>\n",
       "      <td>No</td>\n",
       "      <td>No</td>\n",
       "      <td>Yes</td>\n",
       "      <td>Yes</td>\n",
       "      <td>Yes</td>\n",
       "      <td>Yes</td>\n",
       "      <td>4.000</td>\n",
       "      <td>Yes</td>\n",
       "    </tr>\n",
       "    <tr>\n",
       "      <th>9</th>\n",
       "      <td>6388-TABGU</td>\n",
       "      <td>Male</td>\n",
       "      <td>0</td>\n",
       "      <td>No</td>\n",
       "      <td>Yes</td>\n",
       "      <td>2014-12-01</td>\n",
       "      <td>No</td>\n",
       "      <td>One year</td>\n",
       "      <td>No</td>\n",
       "      <td>Bank transfer (automatic)</td>\n",
       "      <td>...</td>\n",
       "      <td>63</td>\n",
       "      <td>DSL</td>\n",
       "      <td>Yes</td>\n",
       "      <td>Yes</td>\n",
       "      <td>No</td>\n",
       "      <td>No</td>\n",
       "      <td>No</td>\n",
       "      <td>No</td>\n",
       "      <td>2.000</td>\n",
       "      <td>No</td>\n",
       "    </tr>\n",
       "    <tr>\n",
       "      <th>10</th>\n",
       "      <td>9763-GRSKD</td>\n",
       "      <td>Male</td>\n",
       "      <td>0</td>\n",
       "      <td>Yes</td>\n",
       "      <td>Yes</td>\n",
       "      <td>2019-01-01</td>\n",
       "      <td>No</td>\n",
       "      <td>Month-to-month</td>\n",
       "      <td>Yes</td>\n",
       "      <td>Mailed check</td>\n",
       "      <td>...</td>\n",
       "      <td>14</td>\n",
       "      <td>DSL</td>\n",
       "      <td>Yes</td>\n",
       "      <td>No</td>\n",
       "      <td>No</td>\n",
       "      <td>No</td>\n",
       "      <td>No</td>\n",
       "      <td>No</td>\n",
       "      <td>1.000</td>\n",
       "      <td>No</td>\n",
       "    </tr>\n",
       "    <tr>\n",
       "      <th>11</th>\n",
       "      <td>7469-LKBCI</td>\n",
       "      <td>Male</td>\n",
       "      <td>0</td>\n",
       "      <td>No</td>\n",
       "      <td>No</td>\n",
       "      <td>2018-10-01</td>\n",
       "      <td>No</td>\n",
       "      <td>Two year</td>\n",
       "      <td>No</td>\n",
       "      <td>Credit card (automatic)</td>\n",
       "      <td>...</td>\n",
       "      <td>17</td>\n",
       "      <td>NaN</td>\n",
       "      <td>NaN</td>\n",
       "      <td>NaN</td>\n",
       "      <td>NaN</td>\n",
       "      <td>NaN</td>\n",
       "      <td>NaN</td>\n",
       "      <td>NaN</td>\n",
       "      <td>NaN</td>\n",
       "      <td>No</td>\n",
       "    </tr>\n",
       "    <tr>\n",
       "      <th>12</th>\n",
       "      <td>8091-TTVAX</td>\n",
       "      <td>Male</td>\n",
       "      <td>0</td>\n",
       "      <td>Yes</td>\n",
       "      <td>No</td>\n",
       "      <td>2015-04-01</td>\n",
       "      <td>No</td>\n",
       "      <td>One year</td>\n",
       "      <td>No</td>\n",
       "      <td>Credit card (automatic)</td>\n",
       "      <td>...</td>\n",
       "      <td>59</td>\n",
       "      <td>Fiber optic</td>\n",
       "      <td>No</td>\n",
       "      <td>No</td>\n",
       "      <td>Yes</td>\n",
       "      <td>No</td>\n",
       "      <td>Yes</td>\n",
       "      <td>Yes</td>\n",
       "      <td>3.000</td>\n",
       "      <td>Yes</td>\n",
       "    </tr>\n",
       "    <tr>\n",
       "      <th>13</th>\n",
       "      <td>0280-XJGEX</td>\n",
       "      <td>Male</td>\n",
       "      <td>0</td>\n",
       "      <td>No</td>\n",
       "      <td>No</td>\n",
       "      <td>2015-09-01</td>\n",
       "      <td>2019-10-01 00:00:00</td>\n",
       "      <td>Month-to-month</td>\n",
       "      <td>Yes</td>\n",
       "      <td>Bank transfer (automatic)</td>\n",
       "      <td>...</td>\n",
       "      <td>49</td>\n",
       "      <td>Fiber optic</td>\n",
       "      <td>No</td>\n",
       "      <td>Yes</td>\n",
       "      <td>Yes</td>\n",
       "      <td>No</td>\n",
       "      <td>Yes</td>\n",
       "      <td>Yes</td>\n",
       "      <td>4.000</td>\n",
       "      <td>Yes</td>\n",
       "    </tr>\n",
       "    <tr>\n",
       "      <th>14</th>\n",
       "      <td>5129-JLPIS</td>\n",
       "      <td>Male</td>\n",
       "      <td>0</td>\n",
       "      <td>No</td>\n",
       "      <td>No</td>\n",
       "      <td>2018-01-01</td>\n",
       "      <td>No</td>\n",
       "      <td>Month-to-month</td>\n",
       "      <td>Yes</td>\n",
       "      <td>Electronic check</td>\n",
       "      <td>...</td>\n",
       "      <td>26</td>\n",
       "      <td>Fiber optic</td>\n",
       "      <td>Yes</td>\n",
       "      <td>No</td>\n",
       "      <td>Yes</td>\n",
       "      <td>Yes</td>\n",
       "      <td>Yes</td>\n",
       "      <td>Yes</td>\n",
       "      <td>5.000</td>\n",
       "      <td>No</td>\n",
       "    </tr>\n",
       "    <tr>\n",
       "      <th>15</th>\n",
       "      <td>3655-SNQYZ</td>\n",
       "      <td>Female</td>\n",
       "      <td>0</td>\n",
       "      <td>Yes</td>\n",
       "      <td>Yes</td>\n",
       "      <td>2014-05-01</td>\n",
       "      <td>No</td>\n",
       "      <td>Two year</td>\n",
       "      <td>No</td>\n",
       "      <td>Credit card (automatic)</td>\n",
       "      <td>...</td>\n",
       "      <td>70</td>\n",
       "      <td>Fiber optic</td>\n",
       "      <td>Yes</td>\n",
       "      <td>Yes</td>\n",
       "      <td>Yes</td>\n",
       "      <td>Yes</td>\n",
       "      <td>Yes</td>\n",
       "      <td>Yes</td>\n",
       "      <td>6.000</td>\n",
       "      <td>Yes</td>\n",
       "    </tr>\n",
       "    <tr>\n",
       "      <th>16</th>\n",
       "      <td>8191-XWSZG</td>\n",
       "      <td>Female</td>\n",
       "      <td>0</td>\n",
       "      <td>No</td>\n",
       "      <td>No</td>\n",
       "      <td>2015-10-01</td>\n",
       "      <td>No</td>\n",
       "      <td>One year</td>\n",
       "      <td>No</td>\n",
       "      <td>Mailed check</td>\n",
       "      <td>...</td>\n",
       "      <td>53</td>\n",
       "      <td>NaN</td>\n",
       "      <td>NaN</td>\n",
       "      <td>NaN</td>\n",
       "      <td>NaN</td>\n",
       "      <td>NaN</td>\n",
       "      <td>NaN</td>\n",
       "      <td>NaN</td>\n",
       "      <td>NaN</td>\n",
       "      <td>No</td>\n",
       "    </tr>\n",
       "    <tr>\n",
       "      <th>17</th>\n",
       "      <td>9959-WOFKT</td>\n",
       "      <td>Male</td>\n",
       "      <td>0</td>\n",
       "      <td>No</td>\n",
       "      <td>Yes</td>\n",
       "      <td>2014-03-01</td>\n",
       "      <td>No</td>\n",
       "      <td>Two year</td>\n",
       "      <td>No</td>\n",
       "      <td>Bank transfer (automatic)</td>\n",
       "      <td>...</td>\n",
       "      <td>72</td>\n",
       "      <td>Fiber optic</td>\n",
       "      <td>Yes</td>\n",
       "      <td>No</td>\n",
       "      <td>Yes</td>\n",
       "      <td>No</td>\n",
       "      <td>Yes</td>\n",
       "      <td>Yes</td>\n",
       "      <td>4.000</td>\n",
       "      <td>Yes</td>\n",
       "    </tr>\n",
       "    <tr>\n",
       "      <th>18</th>\n",
       "      <td>4190-MFLUW</td>\n",
       "      <td>Female</td>\n",
       "      <td>0</td>\n",
       "      <td>Yes</td>\n",
       "      <td>Yes</td>\n",
       "      <td>2019-01-01</td>\n",
       "      <td>2019-11-01 00:00:00</td>\n",
       "      <td>Month-to-month</td>\n",
       "      <td>No</td>\n",
       "      <td>Credit card (automatic)</td>\n",
       "      <td>...</td>\n",
       "      <td>10</td>\n",
       "      <td>DSL</td>\n",
       "      <td>No</td>\n",
       "      <td>No</td>\n",
       "      <td>Yes</td>\n",
       "      <td>Yes</td>\n",
       "      <td>No</td>\n",
       "      <td>No</td>\n",
       "      <td>2.000</td>\n",
       "      <td>No</td>\n",
       "    </tr>\n",
       "    <tr>\n",
       "      <th>19</th>\n",
       "      <td>4183-MYFRB</td>\n",
       "      <td>Female</td>\n",
       "      <td>0</td>\n",
       "      <td>No</td>\n",
       "      <td>No</td>\n",
       "      <td>2018-05-01</td>\n",
       "      <td>No</td>\n",
       "      <td>Month-to-month</td>\n",
       "      <td>Yes</td>\n",
       "      <td>Electronic check</td>\n",
       "      <td>...</td>\n",
       "      <td>22</td>\n",
       "      <td>Fiber optic</td>\n",
       "      <td>No</td>\n",
       "      <td>Yes</td>\n",
       "      <td>Yes</td>\n",
       "      <td>No</td>\n",
       "      <td>No</td>\n",
       "      <td>Yes</td>\n",
       "      <td>3.000</td>\n",
       "      <td>No</td>\n",
       "    </tr>\n",
       "    <tr>\n",
       "      <th>20</th>\n",
       "      <td>8779-QRDMV</td>\n",
       "      <td>Male</td>\n",
       "      <td>1</td>\n",
       "      <td>No</td>\n",
       "      <td>No</td>\n",
       "      <td>2019-11-01</td>\n",
       "      <td>2019-12-01 00:00:00</td>\n",
       "      <td>Month-to-month</td>\n",
       "      <td>Yes</td>\n",
       "      <td>Electronic check</td>\n",
       "      <td>...</td>\n",
       "      <td>1</td>\n",
       "      <td>DSL</td>\n",
       "      <td>No</td>\n",
       "      <td>No</td>\n",
       "      <td>Yes</td>\n",
       "      <td>No</td>\n",
       "      <td>No</td>\n",
       "      <td>Yes</td>\n",
       "      <td>2.000</td>\n",
       "      <td>NaN</td>\n",
       "    </tr>\n",
       "    <tr>\n",
       "      <th>21</th>\n",
       "      <td>1680-VDCWW</td>\n",
       "      <td>Male</td>\n",
       "      <td>0</td>\n",
       "      <td>Yes</td>\n",
       "      <td>No</td>\n",
       "      <td>2019-02-01</td>\n",
       "      <td>No</td>\n",
       "      <td>One year</td>\n",
       "      <td>No</td>\n",
       "      <td>Bank transfer (automatic)</td>\n",
       "      <td>...</td>\n",
       "      <td>12</td>\n",
       "      <td>NaN</td>\n",
       "      <td>NaN</td>\n",
       "      <td>NaN</td>\n",
       "      <td>NaN</td>\n",
       "      <td>NaN</td>\n",
       "      <td>NaN</td>\n",
       "      <td>NaN</td>\n",
       "      <td>NaN</td>\n",
       "      <td>No</td>\n",
       "    </tr>\n",
       "    <tr>\n",
       "      <th>22</th>\n",
       "      <td>1066-JKSGK</td>\n",
       "      <td>Male</td>\n",
       "      <td>0</td>\n",
       "      <td>No</td>\n",
       "      <td>No</td>\n",
       "      <td>2019-11-01</td>\n",
       "      <td>2019-12-01 00:00:00</td>\n",
       "      <td>Month-to-month</td>\n",
       "      <td>No</td>\n",
       "      <td>Mailed check</td>\n",
       "      <td>...</td>\n",
       "      <td>1</td>\n",
       "      <td>NaN</td>\n",
       "      <td>NaN</td>\n",
       "      <td>NaN</td>\n",
       "      <td>NaN</td>\n",
       "      <td>NaN</td>\n",
       "      <td>NaN</td>\n",
       "      <td>NaN</td>\n",
       "      <td>NaN</td>\n",
       "      <td>No</td>\n",
       "    </tr>\n",
       "    <tr>\n",
       "      <th>23</th>\n",
       "      <td>3638-WEABW</td>\n",
       "      <td>Female</td>\n",
       "      <td>0</td>\n",
       "      <td>Yes</td>\n",
       "      <td>No</td>\n",
       "      <td>2015-04-01</td>\n",
       "      <td>No</td>\n",
       "      <td>Two year</td>\n",
       "      <td>Yes</td>\n",
       "      <td>Credit card (automatic)</td>\n",
       "      <td>...</td>\n",
       "      <td>59</td>\n",
       "      <td>DSL</td>\n",
       "      <td>No</td>\n",
       "      <td>Yes</td>\n",
       "      <td>No</td>\n",
       "      <td>Yes</td>\n",
       "      <td>No</td>\n",
       "      <td>No</td>\n",
       "      <td>2.000</td>\n",
       "      <td>Yes</td>\n",
       "    </tr>\n",
       "    <tr>\n",
       "      <th>24</th>\n",
       "      <td>6322-HRPFA</td>\n",
       "      <td>Male</td>\n",
       "      <td>0</td>\n",
       "      <td>Yes</td>\n",
       "      <td>Yes</td>\n",
       "      <td>2016-01-01</td>\n",
       "      <td>No</td>\n",
       "      <td>Month-to-month</td>\n",
       "      <td>No</td>\n",
       "      <td>Credit card (automatic)</td>\n",
       "      <td>...</td>\n",
       "      <td>50</td>\n",
       "      <td>DSL</td>\n",
       "      <td>Yes</td>\n",
       "      <td>Yes</td>\n",
       "      <td>No</td>\n",
       "      <td>Yes</td>\n",
       "      <td>No</td>\n",
       "      <td>No</td>\n",
       "      <td>3.000</td>\n",
       "      <td>No</td>\n",
       "    </tr>\n",
       "    <tr>\n",
       "      <th>25</th>\n",
       "      <td>6865-JZNKO</td>\n",
       "      <td>Female</td>\n",
       "      <td>0</td>\n",
       "      <td>No</td>\n",
       "      <td>No</td>\n",
       "      <td>2017-08-01</td>\n",
       "      <td>No</td>\n",
       "      <td>Month-to-month</td>\n",
       "      <td>Yes</td>\n",
       "      <td>Bank transfer (automatic)</td>\n",
       "      <td>...</td>\n",
       "      <td>31</td>\n",
       "      <td>DSL</td>\n",
       "      <td>Yes</td>\n",
       "      <td>Yes</td>\n",
       "      <td>No</td>\n",
       "      <td>No</td>\n",
       "      <td>No</td>\n",
       "      <td>No</td>\n",
       "      <td>2.000</td>\n",
       "      <td>No</td>\n",
       "    </tr>\n",
       "    <tr>\n",
       "      <th>26</th>\n",
       "      <td>6467-CHFZW</td>\n",
       "      <td>Male</td>\n",
       "      <td>0</td>\n",
       "      <td>Yes</td>\n",
       "      <td>Yes</td>\n",
       "      <td>2015-12-01</td>\n",
       "      <td>2019-11-01 00:00:00</td>\n",
       "      <td>Month-to-month</td>\n",
       "      <td>Yes</td>\n",
       "      <td>Electronic check</td>\n",
       "      <td>...</td>\n",
       "      <td>48</td>\n",
       "      <td>Fiber optic</td>\n",
       "      <td>No</td>\n",
       "      <td>Yes</td>\n",
       "      <td>No</td>\n",
       "      <td>No</td>\n",
       "      <td>Yes</td>\n",
       "      <td>Yes</td>\n",
       "      <td>3.000</td>\n",
       "      <td>Yes</td>\n",
       "    </tr>\n",
       "    <tr>\n",
       "      <th>27</th>\n",
       "      <td>8665-UTDHZ</td>\n",
       "      <td>Male</td>\n",
       "      <td>0</td>\n",
       "      <td>Yes</td>\n",
       "      <td>Yes</td>\n",
       "      <td>2019-11-01</td>\n",
       "      <td>2019-12-01 00:00:00</td>\n",
       "      <td>Month-to-month</td>\n",
       "      <td>No</td>\n",
       "      <td>Electronic check</td>\n",
       "      <td>...</td>\n",
       "      <td>1</td>\n",
       "      <td>DSL</td>\n",
       "      <td>No</td>\n",
       "      <td>Yes</td>\n",
       "      <td>No</td>\n",
       "      <td>No</td>\n",
       "      <td>No</td>\n",
       "      <td>No</td>\n",
       "      <td>1.000</td>\n",
       "      <td>NaN</td>\n",
       "    </tr>\n",
       "    <tr>\n",
       "      <th>28</th>\n",
       "      <td>5248-YGIJN</td>\n",
       "      <td>Male</td>\n",
       "      <td>0</td>\n",
       "      <td>Yes</td>\n",
       "      <td>No</td>\n",
       "      <td>2014-02-01</td>\n",
       "      <td>No</td>\n",
       "      <td>Two year</td>\n",
       "      <td>Yes</td>\n",
       "      <td>Credit card (automatic)</td>\n",
       "      <td>...</td>\n",
       "      <td>72</td>\n",
       "      <td>DSL</td>\n",
       "      <td>Yes</td>\n",
       "      <td>Yes</td>\n",
       "      <td>Yes</td>\n",
       "      <td>Yes</td>\n",
       "      <td>Yes</td>\n",
       "      <td>Yes</td>\n",
       "      <td>6.000</td>\n",
       "      <td>Yes</td>\n",
       "    </tr>\n",
       "    <tr>\n",
       "      <th>29</th>\n",
       "      <td>8773-HHUOZ</td>\n",
       "      <td>Female</td>\n",
       "      <td>0</td>\n",
       "      <td>No</td>\n",
       "      <td>Yes</td>\n",
       "      <td>2018-06-01</td>\n",
       "      <td>2019-11-01 00:00:00</td>\n",
       "      <td>Month-to-month</td>\n",
       "      <td>Yes</td>\n",
       "      <td>Mailed check</td>\n",
       "      <td>...</td>\n",
       "      <td>18</td>\n",
       "      <td>DSL</td>\n",
       "      <td>No</td>\n",
       "      <td>No</td>\n",
       "      <td>No</td>\n",
       "      <td>No</td>\n",
       "      <td>Yes</td>\n",
       "      <td>Yes</td>\n",
       "      <td>2.000</td>\n",
       "      <td>No</td>\n",
       "    </tr>\n",
       "  </tbody>\n",
       "</table>\n",
       "<p>30 rows × 24 columns</p>\n",
       "</div>"
      ],
      "text/plain": [
       "    customerID  gender  SeniorCitizen Partner Dependents  BeginDate  \\\n",
       "0   7590-VHVEG  Female              0     Yes         No 2020-01-01   \n",
       "1   5575-GNVDE    Male              0      No         No 2017-04-01   \n",
       "2   3668-QPYBK    Male              0      No         No 2019-10-01   \n",
       "3   7795-CFOCW    Male              0      No         No 2016-05-01   \n",
       "4   9237-HQITU  Female              0      No         No 2019-09-01   \n",
       "5   9305-CDSKC  Female              0      No         No 2019-03-01   \n",
       "6   1452-KIOVK    Male              0      No        Yes 2018-04-01   \n",
       "7   6713-OKOMC  Female              0      No         No 2019-04-01   \n",
       "8   7892-POOKP  Female              0     Yes         No 2017-07-01   \n",
       "9   6388-TABGU    Male              0      No        Yes 2014-12-01   \n",
       "10  9763-GRSKD    Male              0     Yes        Yes 2019-01-01   \n",
       "11  7469-LKBCI    Male              0      No         No 2018-10-01   \n",
       "12  8091-TTVAX    Male              0     Yes         No 2015-04-01   \n",
       "13  0280-XJGEX    Male              0      No         No 2015-09-01   \n",
       "14  5129-JLPIS    Male              0      No         No 2018-01-01   \n",
       "15  3655-SNQYZ  Female              0     Yes        Yes 2014-05-01   \n",
       "16  8191-XWSZG  Female              0      No         No 2015-10-01   \n",
       "17  9959-WOFKT    Male              0      No        Yes 2014-03-01   \n",
       "18  4190-MFLUW  Female              0     Yes        Yes 2019-01-01   \n",
       "19  4183-MYFRB  Female              0      No         No 2018-05-01   \n",
       "20  8779-QRDMV    Male              1      No         No 2019-11-01   \n",
       "21  1680-VDCWW    Male              0     Yes         No 2019-02-01   \n",
       "22  1066-JKSGK    Male              0      No         No 2019-11-01   \n",
       "23  3638-WEABW  Female              0     Yes         No 2015-04-01   \n",
       "24  6322-HRPFA    Male              0     Yes        Yes 2016-01-01   \n",
       "25  6865-JZNKO  Female              0      No         No 2017-08-01   \n",
       "26  6467-CHFZW    Male              0     Yes        Yes 2015-12-01   \n",
       "27  8665-UTDHZ    Male              0     Yes        Yes 2019-11-01   \n",
       "28  5248-YGIJN    Male              0     Yes         No 2014-02-01   \n",
       "29  8773-HHUOZ  Female              0      No        Yes 2018-06-01   \n",
       "\n",
       "                EndDate            Type PaperlessBilling  \\\n",
       "0                    No  Month-to-month              Yes   \n",
       "1                    No        One year               No   \n",
       "2   2019-12-01 00:00:00  Month-to-month              Yes   \n",
       "3                    No        One year               No   \n",
       "4   2019-11-01 00:00:00  Month-to-month              Yes   \n",
       "5   2019-11-01 00:00:00  Month-to-month              Yes   \n",
       "6                    No  Month-to-month              Yes   \n",
       "7                    No  Month-to-month               No   \n",
       "8   2019-11-01 00:00:00  Month-to-month              Yes   \n",
       "9                    No        One year               No   \n",
       "10                   No  Month-to-month              Yes   \n",
       "11                   No        Two year               No   \n",
       "12                   No        One year               No   \n",
       "13  2019-10-01 00:00:00  Month-to-month              Yes   \n",
       "14                   No  Month-to-month              Yes   \n",
       "15                   No        Two year               No   \n",
       "16                   No        One year               No   \n",
       "17                   No        Two year               No   \n",
       "18  2019-11-01 00:00:00  Month-to-month               No   \n",
       "19                   No  Month-to-month              Yes   \n",
       "20  2019-12-01 00:00:00  Month-to-month              Yes   \n",
       "21                   No        One year               No   \n",
       "22  2019-12-01 00:00:00  Month-to-month               No   \n",
       "23                   No        Two year              Yes   \n",
       "24                   No  Month-to-month               No   \n",
       "25                   No  Month-to-month              Yes   \n",
       "26  2019-11-01 00:00:00  Month-to-month              Yes   \n",
       "27  2019-12-01 00:00:00  Month-to-month               No   \n",
       "28                   No        Two year              Yes   \n",
       "29  2019-11-01 00:00:00  Month-to-month              Yes   \n",
       "\n",
       "                PaymentMethod  ...  ContractPeriod  InternetService  \\\n",
       "0            Electronic check  ...               2              DSL   \n",
       "1                Mailed check  ...              35              DSL   \n",
       "2                Mailed check  ...               3              DSL   \n",
       "3   Bank transfer (automatic)  ...              46              DSL   \n",
       "4            Electronic check  ...               3      Fiber optic   \n",
       "5            Electronic check  ...               9      Fiber optic   \n",
       "6     Credit card (automatic)  ...              23      Fiber optic   \n",
       "7                Mailed check  ...              11              DSL   \n",
       "8            Electronic check  ...              29      Fiber optic   \n",
       "9   Bank transfer (automatic)  ...              63              DSL   \n",
       "10               Mailed check  ...              14              DSL   \n",
       "11    Credit card (automatic)  ...              17              NaN   \n",
       "12    Credit card (automatic)  ...              59      Fiber optic   \n",
       "13  Bank transfer (automatic)  ...              49      Fiber optic   \n",
       "14           Electronic check  ...              26      Fiber optic   \n",
       "15    Credit card (automatic)  ...              70      Fiber optic   \n",
       "16               Mailed check  ...              53              NaN   \n",
       "17  Bank transfer (automatic)  ...              72      Fiber optic   \n",
       "18    Credit card (automatic)  ...              10              DSL   \n",
       "19           Electronic check  ...              22      Fiber optic   \n",
       "20           Electronic check  ...               1              DSL   \n",
       "21  Bank transfer (automatic)  ...              12              NaN   \n",
       "22               Mailed check  ...               1              NaN   \n",
       "23    Credit card (automatic)  ...              59              DSL   \n",
       "24    Credit card (automatic)  ...              50              DSL   \n",
       "25  Bank transfer (automatic)  ...              31              DSL   \n",
       "26           Electronic check  ...              48      Fiber optic   \n",
       "27           Electronic check  ...               1              DSL   \n",
       "28    Credit card (automatic)  ...              72              DSL   \n",
       "29               Mailed check  ...              18              DSL   \n",
       "\n",
       "    OnlineSecurity OnlineBackup  DeviceProtection TechSupport StreamingTV  \\\n",
       "0               No          Yes                No          No          No   \n",
       "1              Yes           No               Yes          No          No   \n",
       "2              Yes          Yes                No          No          No   \n",
       "3              Yes           No               Yes         Yes          No   \n",
       "4               No           No                No          No          No   \n",
       "5               No           No               Yes          No         Yes   \n",
       "6               No          Yes                No          No         Yes   \n",
       "7              Yes           No                No          No          No   \n",
       "8               No           No               Yes         Yes         Yes   \n",
       "9              Yes          Yes                No          No          No   \n",
       "10             Yes           No                No          No          No   \n",
       "11             NaN          NaN               NaN         NaN         NaN   \n",
       "12              No           No               Yes          No         Yes   \n",
       "13              No          Yes               Yes          No         Yes   \n",
       "14             Yes           No               Yes         Yes         Yes   \n",
       "15             Yes          Yes               Yes         Yes         Yes   \n",
       "16             NaN          NaN               NaN         NaN         NaN   \n",
       "17             Yes           No               Yes          No         Yes   \n",
       "18              No           No               Yes         Yes          No   \n",
       "19              No          Yes               Yes          No          No   \n",
       "20              No           No               Yes          No          No   \n",
       "21             NaN          NaN               NaN         NaN         NaN   \n",
       "22             NaN          NaN               NaN         NaN         NaN   \n",
       "23              No          Yes                No         Yes          No   \n",
       "24             Yes          Yes                No         Yes          No   \n",
       "25             Yes          Yes                No          No          No   \n",
       "26              No          Yes                No          No         Yes   \n",
       "27              No          Yes                No          No          No   \n",
       "28             Yes          Yes               Yes         Yes         Yes   \n",
       "29              No           No                No          No         Yes   \n",
       "\n",
       "   StreamingMovies services_count MultipleLines  \n",
       "0               No          1.000           NaN  \n",
       "1               No          2.000            No  \n",
       "2               No          2.000            No  \n",
       "3               No          3.000           NaN  \n",
       "4               No          0.000            No  \n",
       "5              Yes          3.000           Yes  \n",
       "6               No          2.000           Yes  \n",
       "7               No          1.000           NaN  \n",
       "8              Yes          4.000           Yes  \n",
       "9               No          2.000            No  \n",
       "10              No          1.000            No  \n",
       "11             NaN            NaN            No  \n",
       "12             Yes          3.000           Yes  \n",
       "13             Yes          4.000           Yes  \n",
       "14             Yes          5.000            No  \n",
       "15             Yes          6.000           Yes  \n",
       "16             NaN            NaN            No  \n",
       "17             Yes          4.000           Yes  \n",
       "18              No          2.000            No  \n",
       "19             Yes          3.000            No  \n",
       "20             Yes          2.000           NaN  \n",
       "21             NaN            NaN            No  \n",
       "22             NaN            NaN            No  \n",
       "23              No          2.000           Yes  \n",
       "24              No          3.000            No  \n",
       "25              No          2.000            No  \n",
       "26             Yes          3.000           Yes  \n",
       "27              No          1.000           NaN  \n",
       "28             Yes          6.000           Yes  \n",
       "29             Yes          2.000            No  \n",
       "\n",
       "[30 rows x 24 columns]"
      ]
     },
     "execution_count": 38,
     "metadata": {},
     "output_type": "execute_result"
    }
   ],
   "source": [
    "full_data = personal.merge(contract, on='customerID')\n",
    "full_data = full_data.merge(internet, on='customerID', how='left')\n",
    "full_data = full_data.merge(phone, on='customerID', how='left')\n",
    "full_data.head(30)"
   ]
  },
  {
   "cell_type": "code",
   "execution_count": 39,
   "id": "936e0d86",
   "metadata": {},
   "outputs": [
    {
     "name": "stdout",
     "output_type": "stream",
     "text": [
      "<class 'pandas.core.frame.DataFrame'>\n",
      "Int64Index: 7043 entries, 0 to 7042\n",
      "Data columns (total 24 columns):\n",
      " #   Column            Non-Null Count  Dtype         \n",
      "---  ------            --------------  -----         \n",
      " 0   customerID        7043 non-null   object        \n",
      " 1   gender            7043 non-null   object        \n",
      " 2   SeniorCitizen     7043 non-null   int64         \n",
      " 3   Partner           7043 non-null   object        \n",
      " 4   Dependents        7043 non-null   object        \n",
      " 5   BeginDate         7043 non-null   datetime64[ns]\n",
      " 6   EndDate           7043 non-null   object        \n",
      " 7   Type              7043 non-null   object        \n",
      " 8   PaperlessBilling  7043 non-null   object        \n",
      " 9   PaymentMethod     7043 non-null   object        \n",
      " 10  MonthlyCharges    7043 non-null   float64       \n",
      " 11  TotalCharges      7043 non-null   float64       \n",
      " 12  IsChurn           7043 non-null   int64         \n",
      " 13  EndPeriod         7043 non-null   datetime64[ns]\n",
      " 14  ContractPeriod    7043 non-null   int64         \n",
      " 15  InternetService   5517 non-null   object        \n",
      " 16  OnlineSecurity    5517 non-null   object        \n",
      " 17  OnlineBackup      5517 non-null   object        \n",
      " 18  DeviceProtection  5517 non-null   object        \n",
      " 19  TechSupport       5517 non-null   object        \n",
      " 20  StreamingTV       5517 non-null   object        \n",
      " 21  StreamingMovies   5517 non-null   object        \n",
      " 22  services_count    5517 non-null   float64       \n",
      " 23  MultipleLines     6361 non-null   object        \n",
      "dtypes: datetime64[ns](2), float64(3), int64(3), object(16)\n",
      "memory usage: 1.3+ MB\n"
     ]
    }
   ],
   "source": [
    "full_data.info()"
   ]
  },
  {
   "cell_type": "markdown",
   "id": "42d3865f",
   "metadata": {},
   "source": [
    "После слияния таблиц мы видим пропуски у тех абонентов, которые не пользовались соответствующими услугами. Кроме того, в итоговой таблице нет явного признака, показывающего какими основными услугами пользуется абонент (интернет, телефония, или и то, и другое). Разберемся с этими проблемами:"
   ]
  },
  {
   "cell_type": "code",
   "execution_count": 40,
   "id": "7e253946",
   "metadata": {},
   "outputs": [],
   "source": [
    "def get_basic_service(row):\n",
    "    if row['InternetService'] in ['Fiber optic', 'DSL']:\n",
    "        if row['MultipleLines'] in ['Yes', 'No']:\n",
    "            return 'both'\n",
    "        return 'internet'\n",
    "    else:\n",
    "        return 'phone'"
   ]
  },
  {
   "cell_type": "code",
   "execution_count": 41,
   "id": "263dd83c",
   "metadata": {},
   "outputs": [
    {
     "data": {
      "text/plain": [
       "both        4835\n",
       "phone       1526\n",
       "internet     682\n",
       "Name: basic_service, dtype: int64"
      ]
     },
     "execution_count": 41,
     "metadata": {},
     "output_type": "execute_result"
    }
   ],
   "source": [
    "full_data['basic_service'] = full_data.apply(get_basic_service, axis=1)\n",
    "full_data['basic_service'].value_counts()"
   ]
  },
  {
   "cell_type": "markdown",
   "id": "93658340",
   "metadata": {},
   "source": [
    "Все пропуски заполним значением \"No\" поскольку оно точно отражает суть."
   ]
  },
  {
   "cell_type": "code",
   "execution_count": 42,
   "id": "26d3286b",
   "metadata": {},
   "outputs": [
    {
     "name": "stdout",
     "output_type": "stream",
     "text": [
      "<class 'pandas.core.frame.DataFrame'>\n",
      "Int64Index: 7043 entries, 0 to 7042\n",
      "Data columns (total 25 columns):\n",
      " #   Column            Non-Null Count  Dtype         \n",
      "---  ------            --------------  -----         \n",
      " 0   customerID        7043 non-null   object        \n",
      " 1   gender            7043 non-null   object        \n",
      " 2   SeniorCitizen     7043 non-null   int64         \n",
      " 3   Partner           7043 non-null   object        \n",
      " 4   Dependents        7043 non-null   object        \n",
      " 5   BeginDate         7043 non-null   datetime64[ns]\n",
      " 6   EndDate           7043 non-null   object        \n",
      " 7   Type              7043 non-null   object        \n",
      " 8   PaperlessBilling  7043 non-null   object        \n",
      " 9   PaymentMethod     7043 non-null   object        \n",
      " 10  MonthlyCharges    7043 non-null   float64       \n",
      " 11  TotalCharges      7043 non-null   float64       \n",
      " 12  IsChurn           7043 non-null   int64         \n",
      " 13  EndPeriod         7043 non-null   datetime64[ns]\n",
      " 14  ContractPeriod    7043 non-null   int64         \n",
      " 15  InternetService   7043 non-null   object        \n",
      " 16  OnlineSecurity    7043 non-null   object        \n",
      " 17  OnlineBackup      7043 non-null   object        \n",
      " 18  DeviceProtection  7043 non-null   object        \n",
      " 19  TechSupport       7043 non-null   object        \n",
      " 20  StreamingTV       7043 non-null   object        \n",
      " 21  StreamingMovies   7043 non-null   object        \n",
      " 22  services_count    7043 non-null   object        \n",
      " 23  MultipleLines     7043 non-null   object        \n",
      " 24  basic_service     7043 non-null   object        \n",
      "dtypes: datetime64[ns](2), float64(2), int64(3), object(18)\n",
      "memory usage: 1.4+ MB\n"
     ]
    }
   ],
   "source": [
    "full_data = full_data.fillna('Other')\n",
    "full_data.info()"
   ]
  },
  {
   "cell_type": "code",
   "execution_count": 43,
   "id": "febf0416",
   "metadata": {
    "scrolled": true
   },
   "outputs": [
    {
     "data": {
      "text/html": [
       "<div>\n",
       "<style scoped>\n",
       "    .dataframe tbody tr th:only-of-type {\n",
       "        vertical-align: middle;\n",
       "    }\n",
       "\n",
       "    .dataframe tbody tr th {\n",
       "        vertical-align: top;\n",
       "    }\n",
       "\n",
       "    .dataframe thead th {\n",
       "        text-align: right;\n",
       "    }\n",
       "</style>\n",
       "<table border=\"1\" class=\"dataframe\">\n",
       "  <thead>\n",
       "    <tr style=\"text-align: right;\">\n",
       "      <th></th>\n",
       "      <th>customerID</th>\n",
       "      <th>gender</th>\n",
       "      <th>SeniorCitizen</th>\n",
       "      <th>Partner</th>\n",
       "      <th>Dependents</th>\n",
       "      <th>BeginDate</th>\n",
       "      <th>EndDate</th>\n",
       "      <th>Type</th>\n",
       "      <th>PaperlessBilling</th>\n",
       "      <th>PaymentMethod</th>\n",
       "      <th>...</th>\n",
       "      <th>InternetService</th>\n",
       "      <th>OnlineSecurity</th>\n",
       "      <th>OnlineBackup</th>\n",
       "      <th>DeviceProtection</th>\n",
       "      <th>TechSupport</th>\n",
       "      <th>StreamingTV</th>\n",
       "      <th>StreamingMovies</th>\n",
       "      <th>services_count</th>\n",
       "      <th>MultipleLines</th>\n",
       "      <th>basic_service</th>\n",
       "    </tr>\n",
       "  </thead>\n",
       "  <tbody>\n",
       "    <tr>\n",
       "      <th>0</th>\n",
       "      <td>7590-VHVEG</td>\n",
       "      <td>Female</td>\n",
       "      <td>0</td>\n",
       "      <td>Yes</td>\n",
       "      <td>No</td>\n",
       "      <td>2020-01-01</td>\n",
       "      <td>No</td>\n",
       "      <td>Month-to-month</td>\n",
       "      <td>Yes</td>\n",
       "      <td>Electronic check</td>\n",
       "      <td>...</td>\n",
       "      <td>DSL</td>\n",
       "      <td>No</td>\n",
       "      <td>Yes</td>\n",
       "      <td>No</td>\n",
       "      <td>No</td>\n",
       "      <td>No</td>\n",
       "      <td>No</td>\n",
       "      <td>1.000</td>\n",
       "      <td>Other</td>\n",
       "      <td>internet</td>\n",
       "    </tr>\n",
       "    <tr>\n",
       "      <th>1</th>\n",
       "      <td>5575-GNVDE</td>\n",
       "      <td>Male</td>\n",
       "      <td>0</td>\n",
       "      <td>No</td>\n",
       "      <td>No</td>\n",
       "      <td>2017-04-01</td>\n",
       "      <td>No</td>\n",
       "      <td>One year</td>\n",
       "      <td>No</td>\n",
       "      <td>Mailed check</td>\n",
       "      <td>...</td>\n",
       "      <td>DSL</td>\n",
       "      <td>Yes</td>\n",
       "      <td>No</td>\n",
       "      <td>Yes</td>\n",
       "      <td>No</td>\n",
       "      <td>No</td>\n",
       "      <td>No</td>\n",
       "      <td>2.000</td>\n",
       "      <td>No</td>\n",
       "      <td>both</td>\n",
       "    </tr>\n",
       "    <tr>\n",
       "      <th>2</th>\n",
       "      <td>3668-QPYBK</td>\n",
       "      <td>Male</td>\n",
       "      <td>0</td>\n",
       "      <td>No</td>\n",
       "      <td>No</td>\n",
       "      <td>2019-10-01</td>\n",
       "      <td>2019-12-01 00:00:00</td>\n",
       "      <td>Month-to-month</td>\n",
       "      <td>Yes</td>\n",
       "      <td>Mailed check</td>\n",
       "      <td>...</td>\n",
       "      <td>DSL</td>\n",
       "      <td>Yes</td>\n",
       "      <td>Yes</td>\n",
       "      <td>No</td>\n",
       "      <td>No</td>\n",
       "      <td>No</td>\n",
       "      <td>No</td>\n",
       "      <td>2.000</td>\n",
       "      <td>No</td>\n",
       "      <td>both</td>\n",
       "    </tr>\n",
       "    <tr>\n",
       "      <th>3</th>\n",
       "      <td>7795-CFOCW</td>\n",
       "      <td>Male</td>\n",
       "      <td>0</td>\n",
       "      <td>No</td>\n",
       "      <td>No</td>\n",
       "      <td>2016-05-01</td>\n",
       "      <td>No</td>\n",
       "      <td>One year</td>\n",
       "      <td>No</td>\n",
       "      <td>Bank transfer (automatic)</td>\n",
       "      <td>...</td>\n",
       "      <td>DSL</td>\n",
       "      <td>Yes</td>\n",
       "      <td>No</td>\n",
       "      <td>Yes</td>\n",
       "      <td>Yes</td>\n",
       "      <td>No</td>\n",
       "      <td>No</td>\n",
       "      <td>3.000</td>\n",
       "      <td>Other</td>\n",
       "      <td>internet</td>\n",
       "    </tr>\n",
       "    <tr>\n",
       "      <th>4</th>\n",
       "      <td>9237-HQITU</td>\n",
       "      <td>Female</td>\n",
       "      <td>0</td>\n",
       "      <td>No</td>\n",
       "      <td>No</td>\n",
       "      <td>2019-09-01</td>\n",
       "      <td>2019-11-01 00:00:00</td>\n",
       "      <td>Month-to-month</td>\n",
       "      <td>Yes</td>\n",
       "      <td>Electronic check</td>\n",
       "      <td>...</td>\n",
       "      <td>Fiber optic</td>\n",
       "      <td>No</td>\n",
       "      <td>No</td>\n",
       "      <td>No</td>\n",
       "      <td>No</td>\n",
       "      <td>No</td>\n",
       "      <td>No</td>\n",
       "      <td>0.000</td>\n",
       "      <td>No</td>\n",
       "      <td>both</td>\n",
       "    </tr>\n",
       "    <tr>\n",
       "      <th>5</th>\n",
       "      <td>9305-CDSKC</td>\n",
       "      <td>Female</td>\n",
       "      <td>0</td>\n",
       "      <td>No</td>\n",
       "      <td>No</td>\n",
       "      <td>2019-03-01</td>\n",
       "      <td>2019-11-01 00:00:00</td>\n",
       "      <td>Month-to-month</td>\n",
       "      <td>Yes</td>\n",
       "      <td>Electronic check</td>\n",
       "      <td>...</td>\n",
       "      <td>Fiber optic</td>\n",
       "      <td>No</td>\n",
       "      <td>No</td>\n",
       "      <td>Yes</td>\n",
       "      <td>No</td>\n",
       "      <td>Yes</td>\n",
       "      <td>Yes</td>\n",
       "      <td>3.000</td>\n",
       "      <td>Yes</td>\n",
       "      <td>both</td>\n",
       "    </tr>\n",
       "    <tr>\n",
       "      <th>6</th>\n",
       "      <td>1452-KIOVK</td>\n",
       "      <td>Male</td>\n",
       "      <td>0</td>\n",
       "      <td>No</td>\n",
       "      <td>Yes</td>\n",
       "      <td>2018-04-01</td>\n",
       "      <td>No</td>\n",
       "      <td>Month-to-month</td>\n",
       "      <td>Yes</td>\n",
       "      <td>Credit card (automatic)</td>\n",
       "      <td>...</td>\n",
       "      <td>Fiber optic</td>\n",
       "      <td>No</td>\n",
       "      <td>Yes</td>\n",
       "      <td>No</td>\n",
       "      <td>No</td>\n",
       "      <td>Yes</td>\n",
       "      <td>No</td>\n",
       "      <td>2.000</td>\n",
       "      <td>Yes</td>\n",
       "      <td>both</td>\n",
       "    </tr>\n",
       "    <tr>\n",
       "      <th>7</th>\n",
       "      <td>6713-OKOMC</td>\n",
       "      <td>Female</td>\n",
       "      <td>0</td>\n",
       "      <td>No</td>\n",
       "      <td>No</td>\n",
       "      <td>2019-04-01</td>\n",
       "      <td>No</td>\n",
       "      <td>Month-to-month</td>\n",
       "      <td>No</td>\n",
       "      <td>Mailed check</td>\n",
       "      <td>...</td>\n",
       "      <td>DSL</td>\n",
       "      <td>Yes</td>\n",
       "      <td>No</td>\n",
       "      <td>No</td>\n",
       "      <td>No</td>\n",
       "      <td>No</td>\n",
       "      <td>No</td>\n",
       "      <td>1.000</td>\n",
       "      <td>Other</td>\n",
       "      <td>internet</td>\n",
       "    </tr>\n",
       "    <tr>\n",
       "      <th>8</th>\n",
       "      <td>7892-POOKP</td>\n",
       "      <td>Female</td>\n",
       "      <td>0</td>\n",
       "      <td>Yes</td>\n",
       "      <td>No</td>\n",
       "      <td>2017-07-01</td>\n",
       "      <td>2019-11-01 00:00:00</td>\n",
       "      <td>Month-to-month</td>\n",
       "      <td>Yes</td>\n",
       "      <td>Electronic check</td>\n",
       "      <td>...</td>\n",
       "      <td>Fiber optic</td>\n",
       "      <td>No</td>\n",
       "      <td>No</td>\n",
       "      <td>Yes</td>\n",
       "      <td>Yes</td>\n",
       "      <td>Yes</td>\n",
       "      <td>Yes</td>\n",
       "      <td>4.000</td>\n",
       "      <td>Yes</td>\n",
       "      <td>both</td>\n",
       "    </tr>\n",
       "    <tr>\n",
       "      <th>9</th>\n",
       "      <td>6388-TABGU</td>\n",
       "      <td>Male</td>\n",
       "      <td>0</td>\n",
       "      <td>No</td>\n",
       "      <td>Yes</td>\n",
       "      <td>2014-12-01</td>\n",
       "      <td>No</td>\n",
       "      <td>One year</td>\n",
       "      <td>No</td>\n",
       "      <td>Bank transfer (automatic)</td>\n",
       "      <td>...</td>\n",
       "      <td>DSL</td>\n",
       "      <td>Yes</td>\n",
       "      <td>Yes</td>\n",
       "      <td>No</td>\n",
       "      <td>No</td>\n",
       "      <td>No</td>\n",
       "      <td>No</td>\n",
       "      <td>2.000</td>\n",
       "      <td>No</td>\n",
       "      <td>both</td>\n",
       "    </tr>\n",
       "    <tr>\n",
       "      <th>10</th>\n",
       "      <td>9763-GRSKD</td>\n",
       "      <td>Male</td>\n",
       "      <td>0</td>\n",
       "      <td>Yes</td>\n",
       "      <td>Yes</td>\n",
       "      <td>2019-01-01</td>\n",
       "      <td>No</td>\n",
       "      <td>Month-to-month</td>\n",
       "      <td>Yes</td>\n",
       "      <td>Mailed check</td>\n",
       "      <td>...</td>\n",
       "      <td>DSL</td>\n",
       "      <td>Yes</td>\n",
       "      <td>No</td>\n",
       "      <td>No</td>\n",
       "      <td>No</td>\n",
       "      <td>No</td>\n",
       "      <td>No</td>\n",
       "      <td>1.000</td>\n",
       "      <td>No</td>\n",
       "      <td>both</td>\n",
       "    </tr>\n",
       "    <tr>\n",
       "      <th>11</th>\n",
       "      <td>7469-LKBCI</td>\n",
       "      <td>Male</td>\n",
       "      <td>0</td>\n",
       "      <td>No</td>\n",
       "      <td>No</td>\n",
       "      <td>2018-10-01</td>\n",
       "      <td>No</td>\n",
       "      <td>Two year</td>\n",
       "      <td>No</td>\n",
       "      <td>Credit card (automatic)</td>\n",
       "      <td>...</td>\n",
       "      <td>Other</td>\n",
       "      <td>Other</td>\n",
       "      <td>Other</td>\n",
       "      <td>Other</td>\n",
       "      <td>Other</td>\n",
       "      <td>Other</td>\n",
       "      <td>Other</td>\n",
       "      <td>Other</td>\n",
       "      <td>No</td>\n",
       "      <td>phone</td>\n",
       "    </tr>\n",
       "    <tr>\n",
       "      <th>12</th>\n",
       "      <td>8091-TTVAX</td>\n",
       "      <td>Male</td>\n",
       "      <td>0</td>\n",
       "      <td>Yes</td>\n",
       "      <td>No</td>\n",
       "      <td>2015-04-01</td>\n",
       "      <td>No</td>\n",
       "      <td>One year</td>\n",
       "      <td>No</td>\n",
       "      <td>Credit card (automatic)</td>\n",
       "      <td>...</td>\n",
       "      <td>Fiber optic</td>\n",
       "      <td>No</td>\n",
       "      <td>No</td>\n",
       "      <td>Yes</td>\n",
       "      <td>No</td>\n",
       "      <td>Yes</td>\n",
       "      <td>Yes</td>\n",
       "      <td>3.000</td>\n",
       "      <td>Yes</td>\n",
       "      <td>both</td>\n",
       "    </tr>\n",
       "    <tr>\n",
       "      <th>13</th>\n",
       "      <td>0280-XJGEX</td>\n",
       "      <td>Male</td>\n",
       "      <td>0</td>\n",
       "      <td>No</td>\n",
       "      <td>No</td>\n",
       "      <td>2015-09-01</td>\n",
       "      <td>2019-10-01 00:00:00</td>\n",
       "      <td>Month-to-month</td>\n",
       "      <td>Yes</td>\n",
       "      <td>Bank transfer (automatic)</td>\n",
       "      <td>...</td>\n",
       "      <td>Fiber optic</td>\n",
       "      <td>No</td>\n",
       "      <td>Yes</td>\n",
       "      <td>Yes</td>\n",
       "      <td>No</td>\n",
       "      <td>Yes</td>\n",
       "      <td>Yes</td>\n",
       "      <td>4.000</td>\n",
       "      <td>Yes</td>\n",
       "      <td>both</td>\n",
       "    </tr>\n",
       "    <tr>\n",
       "      <th>14</th>\n",
       "      <td>5129-JLPIS</td>\n",
       "      <td>Male</td>\n",
       "      <td>0</td>\n",
       "      <td>No</td>\n",
       "      <td>No</td>\n",
       "      <td>2018-01-01</td>\n",
       "      <td>No</td>\n",
       "      <td>Month-to-month</td>\n",
       "      <td>Yes</td>\n",
       "      <td>Electronic check</td>\n",
       "      <td>...</td>\n",
       "      <td>Fiber optic</td>\n",
       "      <td>Yes</td>\n",
       "      <td>No</td>\n",
       "      <td>Yes</td>\n",
       "      <td>Yes</td>\n",
       "      <td>Yes</td>\n",
       "      <td>Yes</td>\n",
       "      <td>5.000</td>\n",
       "      <td>No</td>\n",
       "      <td>both</td>\n",
       "    </tr>\n",
       "    <tr>\n",
       "      <th>15</th>\n",
       "      <td>3655-SNQYZ</td>\n",
       "      <td>Female</td>\n",
       "      <td>0</td>\n",
       "      <td>Yes</td>\n",
       "      <td>Yes</td>\n",
       "      <td>2014-05-01</td>\n",
       "      <td>No</td>\n",
       "      <td>Two year</td>\n",
       "      <td>No</td>\n",
       "      <td>Credit card (automatic)</td>\n",
       "      <td>...</td>\n",
       "      <td>Fiber optic</td>\n",
       "      <td>Yes</td>\n",
       "      <td>Yes</td>\n",
       "      <td>Yes</td>\n",
       "      <td>Yes</td>\n",
       "      <td>Yes</td>\n",
       "      <td>Yes</td>\n",
       "      <td>6.000</td>\n",
       "      <td>Yes</td>\n",
       "      <td>both</td>\n",
       "    </tr>\n",
       "    <tr>\n",
       "      <th>16</th>\n",
       "      <td>8191-XWSZG</td>\n",
       "      <td>Female</td>\n",
       "      <td>0</td>\n",
       "      <td>No</td>\n",
       "      <td>No</td>\n",
       "      <td>2015-10-01</td>\n",
       "      <td>No</td>\n",
       "      <td>One year</td>\n",
       "      <td>No</td>\n",
       "      <td>Mailed check</td>\n",
       "      <td>...</td>\n",
       "      <td>Other</td>\n",
       "      <td>Other</td>\n",
       "      <td>Other</td>\n",
       "      <td>Other</td>\n",
       "      <td>Other</td>\n",
       "      <td>Other</td>\n",
       "      <td>Other</td>\n",
       "      <td>Other</td>\n",
       "      <td>No</td>\n",
       "      <td>phone</td>\n",
       "    </tr>\n",
       "    <tr>\n",
       "      <th>17</th>\n",
       "      <td>9959-WOFKT</td>\n",
       "      <td>Male</td>\n",
       "      <td>0</td>\n",
       "      <td>No</td>\n",
       "      <td>Yes</td>\n",
       "      <td>2014-03-01</td>\n",
       "      <td>No</td>\n",
       "      <td>Two year</td>\n",
       "      <td>No</td>\n",
       "      <td>Bank transfer (automatic)</td>\n",
       "      <td>...</td>\n",
       "      <td>Fiber optic</td>\n",
       "      <td>Yes</td>\n",
       "      <td>No</td>\n",
       "      <td>Yes</td>\n",
       "      <td>No</td>\n",
       "      <td>Yes</td>\n",
       "      <td>Yes</td>\n",
       "      <td>4.000</td>\n",
       "      <td>Yes</td>\n",
       "      <td>both</td>\n",
       "    </tr>\n",
       "    <tr>\n",
       "      <th>18</th>\n",
       "      <td>4190-MFLUW</td>\n",
       "      <td>Female</td>\n",
       "      <td>0</td>\n",
       "      <td>Yes</td>\n",
       "      <td>Yes</td>\n",
       "      <td>2019-01-01</td>\n",
       "      <td>2019-11-01 00:00:00</td>\n",
       "      <td>Month-to-month</td>\n",
       "      <td>No</td>\n",
       "      <td>Credit card (automatic)</td>\n",
       "      <td>...</td>\n",
       "      <td>DSL</td>\n",
       "      <td>No</td>\n",
       "      <td>No</td>\n",
       "      <td>Yes</td>\n",
       "      <td>Yes</td>\n",
       "      <td>No</td>\n",
       "      <td>No</td>\n",
       "      <td>2.000</td>\n",
       "      <td>No</td>\n",
       "      <td>both</td>\n",
       "    </tr>\n",
       "    <tr>\n",
       "      <th>19</th>\n",
       "      <td>4183-MYFRB</td>\n",
       "      <td>Female</td>\n",
       "      <td>0</td>\n",
       "      <td>No</td>\n",
       "      <td>No</td>\n",
       "      <td>2018-05-01</td>\n",
       "      <td>No</td>\n",
       "      <td>Month-to-month</td>\n",
       "      <td>Yes</td>\n",
       "      <td>Electronic check</td>\n",
       "      <td>...</td>\n",
       "      <td>Fiber optic</td>\n",
       "      <td>No</td>\n",
       "      <td>Yes</td>\n",
       "      <td>Yes</td>\n",
       "      <td>No</td>\n",
       "      <td>No</td>\n",
       "      <td>Yes</td>\n",
       "      <td>3.000</td>\n",
       "      <td>No</td>\n",
       "      <td>both</td>\n",
       "    </tr>\n",
       "    <tr>\n",
       "      <th>20</th>\n",
       "      <td>8779-QRDMV</td>\n",
       "      <td>Male</td>\n",
       "      <td>1</td>\n",
       "      <td>No</td>\n",
       "      <td>No</td>\n",
       "      <td>2019-11-01</td>\n",
       "      <td>2019-12-01 00:00:00</td>\n",
       "      <td>Month-to-month</td>\n",
       "      <td>Yes</td>\n",
       "      <td>Electronic check</td>\n",
       "      <td>...</td>\n",
       "      <td>DSL</td>\n",
       "      <td>No</td>\n",
       "      <td>No</td>\n",
       "      <td>Yes</td>\n",
       "      <td>No</td>\n",
       "      <td>No</td>\n",
       "      <td>Yes</td>\n",
       "      <td>2.000</td>\n",
       "      <td>Other</td>\n",
       "      <td>internet</td>\n",
       "    </tr>\n",
       "    <tr>\n",
       "      <th>21</th>\n",
       "      <td>1680-VDCWW</td>\n",
       "      <td>Male</td>\n",
       "      <td>0</td>\n",
       "      <td>Yes</td>\n",
       "      <td>No</td>\n",
       "      <td>2019-02-01</td>\n",
       "      <td>No</td>\n",
       "      <td>One year</td>\n",
       "      <td>No</td>\n",
       "      <td>Bank transfer (automatic)</td>\n",
       "      <td>...</td>\n",
       "      <td>Other</td>\n",
       "      <td>Other</td>\n",
       "      <td>Other</td>\n",
       "      <td>Other</td>\n",
       "      <td>Other</td>\n",
       "      <td>Other</td>\n",
       "      <td>Other</td>\n",
       "      <td>Other</td>\n",
       "      <td>No</td>\n",
       "      <td>phone</td>\n",
       "    </tr>\n",
       "    <tr>\n",
       "      <th>22</th>\n",
       "      <td>1066-JKSGK</td>\n",
       "      <td>Male</td>\n",
       "      <td>0</td>\n",
       "      <td>No</td>\n",
       "      <td>No</td>\n",
       "      <td>2019-11-01</td>\n",
       "      <td>2019-12-01 00:00:00</td>\n",
       "      <td>Month-to-month</td>\n",
       "      <td>No</td>\n",
       "      <td>Mailed check</td>\n",
       "      <td>...</td>\n",
       "      <td>Other</td>\n",
       "      <td>Other</td>\n",
       "      <td>Other</td>\n",
       "      <td>Other</td>\n",
       "      <td>Other</td>\n",
       "      <td>Other</td>\n",
       "      <td>Other</td>\n",
       "      <td>Other</td>\n",
       "      <td>No</td>\n",
       "      <td>phone</td>\n",
       "    </tr>\n",
       "    <tr>\n",
       "      <th>23</th>\n",
       "      <td>3638-WEABW</td>\n",
       "      <td>Female</td>\n",
       "      <td>0</td>\n",
       "      <td>Yes</td>\n",
       "      <td>No</td>\n",
       "      <td>2015-04-01</td>\n",
       "      <td>No</td>\n",
       "      <td>Two year</td>\n",
       "      <td>Yes</td>\n",
       "      <td>Credit card (automatic)</td>\n",
       "      <td>...</td>\n",
       "      <td>DSL</td>\n",
       "      <td>No</td>\n",
       "      <td>Yes</td>\n",
       "      <td>No</td>\n",
       "      <td>Yes</td>\n",
       "      <td>No</td>\n",
       "      <td>No</td>\n",
       "      <td>2.000</td>\n",
       "      <td>Yes</td>\n",
       "      <td>both</td>\n",
       "    </tr>\n",
       "    <tr>\n",
       "      <th>24</th>\n",
       "      <td>6322-HRPFA</td>\n",
       "      <td>Male</td>\n",
       "      <td>0</td>\n",
       "      <td>Yes</td>\n",
       "      <td>Yes</td>\n",
       "      <td>2016-01-01</td>\n",
       "      <td>No</td>\n",
       "      <td>Month-to-month</td>\n",
       "      <td>No</td>\n",
       "      <td>Credit card (automatic)</td>\n",
       "      <td>...</td>\n",
       "      <td>DSL</td>\n",
       "      <td>Yes</td>\n",
       "      <td>Yes</td>\n",
       "      <td>No</td>\n",
       "      <td>Yes</td>\n",
       "      <td>No</td>\n",
       "      <td>No</td>\n",
       "      <td>3.000</td>\n",
       "      <td>No</td>\n",
       "      <td>both</td>\n",
       "    </tr>\n",
       "    <tr>\n",
       "      <th>25</th>\n",
       "      <td>6865-JZNKO</td>\n",
       "      <td>Female</td>\n",
       "      <td>0</td>\n",
       "      <td>No</td>\n",
       "      <td>No</td>\n",
       "      <td>2017-08-01</td>\n",
       "      <td>No</td>\n",
       "      <td>Month-to-month</td>\n",
       "      <td>Yes</td>\n",
       "      <td>Bank transfer (automatic)</td>\n",
       "      <td>...</td>\n",
       "      <td>DSL</td>\n",
       "      <td>Yes</td>\n",
       "      <td>Yes</td>\n",
       "      <td>No</td>\n",
       "      <td>No</td>\n",
       "      <td>No</td>\n",
       "      <td>No</td>\n",
       "      <td>2.000</td>\n",
       "      <td>No</td>\n",
       "      <td>both</td>\n",
       "    </tr>\n",
       "    <tr>\n",
       "      <th>26</th>\n",
       "      <td>6467-CHFZW</td>\n",
       "      <td>Male</td>\n",
       "      <td>0</td>\n",
       "      <td>Yes</td>\n",
       "      <td>Yes</td>\n",
       "      <td>2015-12-01</td>\n",
       "      <td>2019-11-01 00:00:00</td>\n",
       "      <td>Month-to-month</td>\n",
       "      <td>Yes</td>\n",
       "      <td>Electronic check</td>\n",
       "      <td>...</td>\n",
       "      <td>Fiber optic</td>\n",
       "      <td>No</td>\n",
       "      <td>Yes</td>\n",
       "      <td>No</td>\n",
       "      <td>No</td>\n",
       "      <td>Yes</td>\n",
       "      <td>Yes</td>\n",
       "      <td>3.000</td>\n",
       "      <td>Yes</td>\n",
       "      <td>both</td>\n",
       "    </tr>\n",
       "    <tr>\n",
       "      <th>27</th>\n",
       "      <td>8665-UTDHZ</td>\n",
       "      <td>Male</td>\n",
       "      <td>0</td>\n",
       "      <td>Yes</td>\n",
       "      <td>Yes</td>\n",
       "      <td>2019-11-01</td>\n",
       "      <td>2019-12-01 00:00:00</td>\n",
       "      <td>Month-to-month</td>\n",
       "      <td>No</td>\n",
       "      <td>Electronic check</td>\n",
       "      <td>...</td>\n",
       "      <td>DSL</td>\n",
       "      <td>No</td>\n",
       "      <td>Yes</td>\n",
       "      <td>No</td>\n",
       "      <td>No</td>\n",
       "      <td>No</td>\n",
       "      <td>No</td>\n",
       "      <td>1.000</td>\n",
       "      <td>Other</td>\n",
       "      <td>internet</td>\n",
       "    </tr>\n",
       "    <tr>\n",
       "      <th>28</th>\n",
       "      <td>5248-YGIJN</td>\n",
       "      <td>Male</td>\n",
       "      <td>0</td>\n",
       "      <td>Yes</td>\n",
       "      <td>No</td>\n",
       "      <td>2014-02-01</td>\n",
       "      <td>No</td>\n",
       "      <td>Two year</td>\n",
       "      <td>Yes</td>\n",
       "      <td>Credit card (automatic)</td>\n",
       "      <td>...</td>\n",
       "      <td>DSL</td>\n",
       "      <td>Yes</td>\n",
       "      <td>Yes</td>\n",
       "      <td>Yes</td>\n",
       "      <td>Yes</td>\n",
       "      <td>Yes</td>\n",
       "      <td>Yes</td>\n",
       "      <td>6.000</td>\n",
       "      <td>Yes</td>\n",
       "      <td>both</td>\n",
       "    </tr>\n",
       "    <tr>\n",
       "      <th>29</th>\n",
       "      <td>8773-HHUOZ</td>\n",
       "      <td>Female</td>\n",
       "      <td>0</td>\n",
       "      <td>No</td>\n",
       "      <td>Yes</td>\n",
       "      <td>2018-06-01</td>\n",
       "      <td>2019-11-01 00:00:00</td>\n",
       "      <td>Month-to-month</td>\n",
       "      <td>Yes</td>\n",
       "      <td>Mailed check</td>\n",
       "      <td>...</td>\n",
       "      <td>DSL</td>\n",
       "      <td>No</td>\n",
       "      <td>No</td>\n",
       "      <td>No</td>\n",
       "      <td>No</td>\n",
       "      <td>Yes</td>\n",
       "      <td>Yes</td>\n",
       "      <td>2.000</td>\n",
       "      <td>No</td>\n",
       "      <td>both</td>\n",
       "    </tr>\n",
       "  </tbody>\n",
       "</table>\n",
       "<p>30 rows × 25 columns</p>\n",
       "</div>"
      ],
      "text/plain": [
       "    customerID  gender  SeniorCitizen Partner Dependents  BeginDate  \\\n",
       "0   7590-VHVEG  Female              0     Yes         No 2020-01-01   \n",
       "1   5575-GNVDE    Male              0      No         No 2017-04-01   \n",
       "2   3668-QPYBK    Male              0      No         No 2019-10-01   \n",
       "3   7795-CFOCW    Male              0      No         No 2016-05-01   \n",
       "4   9237-HQITU  Female              0      No         No 2019-09-01   \n",
       "5   9305-CDSKC  Female              0      No         No 2019-03-01   \n",
       "6   1452-KIOVK    Male              0      No        Yes 2018-04-01   \n",
       "7   6713-OKOMC  Female              0      No         No 2019-04-01   \n",
       "8   7892-POOKP  Female              0     Yes         No 2017-07-01   \n",
       "9   6388-TABGU    Male              0      No        Yes 2014-12-01   \n",
       "10  9763-GRSKD    Male              0     Yes        Yes 2019-01-01   \n",
       "11  7469-LKBCI    Male              0      No         No 2018-10-01   \n",
       "12  8091-TTVAX    Male              0     Yes         No 2015-04-01   \n",
       "13  0280-XJGEX    Male              0      No         No 2015-09-01   \n",
       "14  5129-JLPIS    Male              0      No         No 2018-01-01   \n",
       "15  3655-SNQYZ  Female              0     Yes        Yes 2014-05-01   \n",
       "16  8191-XWSZG  Female              0      No         No 2015-10-01   \n",
       "17  9959-WOFKT    Male              0      No        Yes 2014-03-01   \n",
       "18  4190-MFLUW  Female              0     Yes        Yes 2019-01-01   \n",
       "19  4183-MYFRB  Female              0      No         No 2018-05-01   \n",
       "20  8779-QRDMV    Male              1      No         No 2019-11-01   \n",
       "21  1680-VDCWW    Male              0     Yes         No 2019-02-01   \n",
       "22  1066-JKSGK    Male              0      No         No 2019-11-01   \n",
       "23  3638-WEABW  Female              0     Yes         No 2015-04-01   \n",
       "24  6322-HRPFA    Male              0     Yes        Yes 2016-01-01   \n",
       "25  6865-JZNKO  Female              0      No         No 2017-08-01   \n",
       "26  6467-CHFZW    Male              0     Yes        Yes 2015-12-01   \n",
       "27  8665-UTDHZ    Male              0     Yes        Yes 2019-11-01   \n",
       "28  5248-YGIJN    Male              0     Yes         No 2014-02-01   \n",
       "29  8773-HHUOZ  Female              0      No        Yes 2018-06-01   \n",
       "\n",
       "                EndDate            Type PaperlessBilling  \\\n",
       "0                    No  Month-to-month              Yes   \n",
       "1                    No        One year               No   \n",
       "2   2019-12-01 00:00:00  Month-to-month              Yes   \n",
       "3                    No        One year               No   \n",
       "4   2019-11-01 00:00:00  Month-to-month              Yes   \n",
       "5   2019-11-01 00:00:00  Month-to-month              Yes   \n",
       "6                    No  Month-to-month              Yes   \n",
       "7                    No  Month-to-month               No   \n",
       "8   2019-11-01 00:00:00  Month-to-month              Yes   \n",
       "9                    No        One year               No   \n",
       "10                   No  Month-to-month              Yes   \n",
       "11                   No        Two year               No   \n",
       "12                   No        One year               No   \n",
       "13  2019-10-01 00:00:00  Month-to-month              Yes   \n",
       "14                   No  Month-to-month              Yes   \n",
       "15                   No        Two year               No   \n",
       "16                   No        One year               No   \n",
       "17                   No        Two year               No   \n",
       "18  2019-11-01 00:00:00  Month-to-month               No   \n",
       "19                   No  Month-to-month              Yes   \n",
       "20  2019-12-01 00:00:00  Month-to-month              Yes   \n",
       "21                   No        One year               No   \n",
       "22  2019-12-01 00:00:00  Month-to-month               No   \n",
       "23                   No        Two year              Yes   \n",
       "24                   No  Month-to-month               No   \n",
       "25                   No  Month-to-month              Yes   \n",
       "26  2019-11-01 00:00:00  Month-to-month              Yes   \n",
       "27  2019-12-01 00:00:00  Month-to-month               No   \n",
       "28                   No        Two year              Yes   \n",
       "29  2019-11-01 00:00:00  Month-to-month              Yes   \n",
       "\n",
       "                PaymentMethod  ...  InternetService  OnlineSecurity  \\\n",
       "0            Electronic check  ...              DSL              No   \n",
       "1                Mailed check  ...              DSL             Yes   \n",
       "2                Mailed check  ...              DSL             Yes   \n",
       "3   Bank transfer (automatic)  ...              DSL             Yes   \n",
       "4            Electronic check  ...      Fiber optic              No   \n",
       "5            Electronic check  ...      Fiber optic              No   \n",
       "6     Credit card (automatic)  ...      Fiber optic              No   \n",
       "7                Mailed check  ...              DSL             Yes   \n",
       "8            Electronic check  ...      Fiber optic              No   \n",
       "9   Bank transfer (automatic)  ...              DSL             Yes   \n",
       "10               Mailed check  ...              DSL             Yes   \n",
       "11    Credit card (automatic)  ...            Other           Other   \n",
       "12    Credit card (automatic)  ...      Fiber optic              No   \n",
       "13  Bank transfer (automatic)  ...      Fiber optic              No   \n",
       "14           Electronic check  ...      Fiber optic             Yes   \n",
       "15    Credit card (automatic)  ...      Fiber optic             Yes   \n",
       "16               Mailed check  ...            Other           Other   \n",
       "17  Bank transfer (automatic)  ...      Fiber optic             Yes   \n",
       "18    Credit card (automatic)  ...              DSL              No   \n",
       "19           Electronic check  ...      Fiber optic              No   \n",
       "20           Electronic check  ...              DSL              No   \n",
       "21  Bank transfer (automatic)  ...            Other           Other   \n",
       "22               Mailed check  ...            Other           Other   \n",
       "23    Credit card (automatic)  ...              DSL              No   \n",
       "24    Credit card (automatic)  ...              DSL             Yes   \n",
       "25  Bank transfer (automatic)  ...              DSL             Yes   \n",
       "26           Electronic check  ...      Fiber optic              No   \n",
       "27           Electronic check  ...              DSL              No   \n",
       "28    Credit card (automatic)  ...              DSL             Yes   \n",
       "29               Mailed check  ...              DSL              No   \n",
       "\n",
       "    OnlineBackup DeviceProtection  TechSupport StreamingTV StreamingMovies  \\\n",
       "0            Yes               No           No          No              No   \n",
       "1             No              Yes           No          No              No   \n",
       "2            Yes               No           No          No              No   \n",
       "3             No              Yes          Yes          No              No   \n",
       "4             No               No           No          No              No   \n",
       "5             No              Yes           No         Yes             Yes   \n",
       "6            Yes               No           No         Yes              No   \n",
       "7             No               No           No          No              No   \n",
       "8             No              Yes          Yes         Yes             Yes   \n",
       "9            Yes               No           No          No              No   \n",
       "10            No               No           No          No              No   \n",
       "11         Other            Other        Other       Other           Other   \n",
       "12            No              Yes           No         Yes             Yes   \n",
       "13           Yes              Yes           No         Yes             Yes   \n",
       "14            No              Yes          Yes         Yes             Yes   \n",
       "15           Yes              Yes          Yes         Yes             Yes   \n",
       "16         Other            Other        Other       Other           Other   \n",
       "17            No              Yes           No         Yes             Yes   \n",
       "18            No              Yes          Yes          No              No   \n",
       "19           Yes              Yes           No          No             Yes   \n",
       "20            No              Yes           No          No             Yes   \n",
       "21         Other            Other        Other       Other           Other   \n",
       "22         Other            Other        Other       Other           Other   \n",
       "23           Yes               No          Yes          No              No   \n",
       "24           Yes               No          Yes          No              No   \n",
       "25           Yes               No           No          No              No   \n",
       "26           Yes               No           No         Yes             Yes   \n",
       "27           Yes               No           No          No              No   \n",
       "28           Yes              Yes          Yes         Yes             Yes   \n",
       "29            No               No           No         Yes             Yes   \n",
       "\n",
       "   services_count MultipleLines basic_service  \n",
       "0           1.000         Other      internet  \n",
       "1           2.000            No          both  \n",
       "2           2.000            No          both  \n",
       "3           3.000         Other      internet  \n",
       "4           0.000            No          both  \n",
       "5           3.000           Yes          both  \n",
       "6           2.000           Yes          both  \n",
       "7           1.000         Other      internet  \n",
       "8           4.000           Yes          both  \n",
       "9           2.000            No          both  \n",
       "10          1.000            No          both  \n",
       "11          Other            No         phone  \n",
       "12          3.000           Yes          both  \n",
       "13          4.000           Yes          both  \n",
       "14          5.000            No          both  \n",
       "15          6.000           Yes          both  \n",
       "16          Other            No         phone  \n",
       "17          4.000           Yes          both  \n",
       "18          2.000            No          both  \n",
       "19          3.000            No          both  \n",
       "20          2.000         Other      internet  \n",
       "21          Other            No         phone  \n",
       "22          Other            No         phone  \n",
       "23          2.000           Yes          both  \n",
       "24          3.000            No          both  \n",
       "25          2.000            No          both  \n",
       "26          3.000           Yes          both  \n",
       "27          1.000         Other      internet  \n",
       "28          6.000           Yes          both  \n",
       "29          2.000            No          both  \n",
       "\n",
       "[30 rows x 25 columns]"
      ]
     },
     "execution_count": 43,
     "metadata": {},
     "output_type": "execute_result"
    }
   ],
   "source": [
    "full_data.head(30)"
   ]
  },
  {
   "cell_type": "markdown",
   "id": "83661744",
   "metadata": {},
   "source": [
    "#### Вывод:\n",
    "\n",
    "Получена консолидированная таблица с полным набором признаков. Можно приступать к оценки полезности этих признаков"
   ]
  },
  {
   "cell_type": "markdown",
   "id": "08bb63c1",
   "metadata": {},
   "source": [
    "#### Проверка степени влияния признаков на целевой признак и оптимизация датасета"
   ]
  },
  {
   "cell_type": "markdown",
   "id": "a416b782",
   "metadata": {},
   "source": [
    "Проверим сначала на степень влияния на целевой признак категориальные признаки нашего объединенного датасета. Для этого сохраним в переменной список всех этих столбцов"
   ]
  },
  {
   "cell_type": "code",
   "execution_count": 44,
   "id": "18e115bb",
   "metadata": {
    "scrolled": false
   },
   "outputs": [
    {
     "data": {
      "text/plain": [
       "['customerID',\n",
       " 'gender',\n",
       " 'Partner',\n",
       " 'Dependents',\n",
       " 'EndDate',\n",
       " 'Type',\n",
       " 'PaperlessBilling',\n",
       " 'PaymentMethod',\n",
       " 'InternetService',\n",
       " 'OnlineSecurity',\n",
       " 'OnlineBackup',\n",
       " 'DeviceProtection',\n",
       " 'TechSupport',\n",
       " 'StreamingTV',\n",
       " 'StreamingMovies',\n",
       " 'services_count',\n",
       " 'MultipleLines',\n",
       " 'basic_service']"
      ]
     },
     "execution_count": 44,
     "metadata": {},
     "output_type": "execute_result"
    }
   ],
   "source": [
    "cat_columns = list(full_data.select_dtypes(include=['object']).columns)\n",
    "cat_columns"
   ]
  },
  {
   "cell_type": "code",
   "execution_count": 45,
   "id": "535c4671",
   "metadata": {},
   "outputs": [
    {
     "data": {
      "text/plain": [
       "'EndDate'"
      ]
     },
     "execution_count": 45,
     "metadata": {},
     "output_type": "execute_result"
    }
   ],
   "source": [
    "cat_columns.pop(0)\n",
    "cat_columns.pop(3)"
   ]
  },
  {
   "cell_type": "code",
   "execution_count": 46,
   "id": "d4b05fea",
   "metadata": {},
   "outputs": [
    {
     "data": {
      "text/plain": [
       "['gender',\n",
       " 'Partner',\n",
       " 'Dependents',\n",
       " 'Type',\n",
       " 'PaperlessBilling',\n",
       " 'PaymentMethod',\n",
       " 'InternetService',\n",
       " 'OnlineSecurity',\n",
       " 'OnlineBackup',\n",
       " 'DeviceProtection',\n",
       " 'TechSupport',\n",
       " 'StreamingTV',\n",
       " 'StreamingMovies',\n",
       " 'services_count',\n",
       " 'MultipleLines',\n",
       " 'basic_service',\n",
       " 'SeniorCitizen']"
      ]
     },
     "execution_count": 46,
     "metadata": {},
     "output_type": "execute_result"
    }
   ],
   "source": [
    "cat_columns.append('SeniorCitizen')\n",
    "cat_columns"
   ]
  },
  {
   "cell_type": "code",
   "execution_count": 47,
   "id": "f24cd86e",
   "metadata": {
    "scrolled": true
   },
   "outputs": [
    {
     "name": "stdout",
     "output_type": "stream",
     "text": [
      "        count  sum  mean\n",
      "gender                  \n",
      "Female   3488  939 0.269\n",
      "Male     3555  930 0.262\n",
      "------------------------------------\n",
      "         count   sum  mean\n",
      "Partner                   \n",
      "No        3641  1200 0.330\n",
      "Yes       3402   669 0.197\n",
      "------------------------------------\n",
      "            count   sum  mean\n",
      "Dependents                   \n",
      "No           4933  1543 0.313\n",
      "Yes          2110   326 0.155\n",
      "------------------------------------\n",
      "                count   sum  mean\n",
      "Type                             \n",
      "Month-to-month   3875  1655 0.427\n",
      "One year         1473   166 0.113\n",
      "Two year         1695    48 0.028\n",
      "------------------------------------\n",
      "                  count   sum  mean\n",
      "PaperlessBilling                   \n",
      "No                 2872   469 0.163\n",
      "Yes                4171  1400 0.336\n",
      "------------------------------------\n",
      "                           count   sum  mean\n",
      "PaymentMethod                               \n",
      "Bank transfer (automatic)   1544   258 0.167\n",
      "Credit card (automatic)     1522   232 0.152\n",
      "Electronic check            2365  1071 0.453\n",
      "Mailed check                1612   308 0.191\n",
      "------------------------------------\n",
      "                 count   sum  mean\n",
      "InternetService                   \n",
      "DSL               2421   459 0.190\n",
      "Fiber optic       3096  1297 0.419\n",
      "Other             1526   113 0.074\n",
      "------------------------------------\n",
      "                count   sum  mean\n",
      "OnlineSecurity                   \n",
      "No               3498  1461 0.418\n",
      "Other            1526   113 0.074\n",
      "Yes              2019   295 0.146\n",
      "------------------------------------\n",
      "              count   sum  mean\n",
      "OnlineBackup                   \n",
      "No             3088  1233 0.399\n",
      "Other          1526   113 0.074\n",
      "Yes            2429   523 0.215\n",
      "------------------------------------\n",
      "                  count   sum  mean\n",
      "DeviceProtection                   \n",
      "No                 3095  1211 0.391\n",
      "Other              1526   113 0.074\n",
      "Yes                2422   545 0.225\n",
      "------------------------------------\n",
      "             count   sum  mean\n",
      "TechSupport                   \n",
      "No            3473  1446 0.416\n",
      "Other         1526   113 0.074\n",
      "Yes           2044   310 0.152\n",
      "------------------------------------\n",
      "             count  sum  mean\n",
      "StreamingTV                  \n",
      "No            2810  942 0.335\n",
      "Other         1526  113 0.074\n",
      "Yes           2707  814 0.301\n",
      "------------------------------------\n",
      "                 count  sum  mean\n",
      "StreamingMovies                  \n",
      "No                2785  938 0.337\n",
      "Other             1526  113 0.074\n",
      "Yes               2732  818 0.299\n",
      "------------------------------------\n",
      "                count  sum  mean\n",
      "services_count                  \n",
      "0.0               693  362 0.522\n",
      "1.0               966  442 0.458\n",
      "2.0              1033  370 0.358\n",
      "3.0              1118  306 0.274\n",
      "4.0               852  190 0.223\n",
      "5.0               571   71 0.124\n",
      "6.0               284   15 0.053\n",
      "Other            1526  113 0.074\n",
      "------------------------------------\n",
      "               count  sum  mean\n",
      "MultipleLines                  \n",
      "No              3390  849 0.250\n",
      "Other            682  170 0.249\n",
      "Yes             2971  850 0.286\n",
      "------------------------------------\n",
      "               count   sum  mean\n",
      "basic_service                   \n",
      "both            4835  1586 0.328\n",
      "internet         682   170 0.249\n",
      "phone           1526   113 0.074\n",
      "------------------------------------\n",
      "               count   sum  mean\n",
      "SeniorCitizen                   \n",
      "0               5901  1393 0.236\n",
      "1               1142   476 0.417\n",
      "------------------------------------\n"
     ]
    }
   ],
   "source": [
    "for col in cat_columns:\n",
    "    print(full_data.groupby(col)['IsChurn'].agg(['count', 'sum', 'mean']))\n",
    "    print('------------------------------------')"
   ]
  },
  {
   "cell_type": "markdown",
   "id": "9e6e702a",
   "metadata": {},
   "source": [
    "Из полученного анализа делаем следующие выводы:\n",
    " 1. Пол абонента практически не влияет на отток, но все же небольшая разница есть.\n",
    " \n",
    " 2. Признак *Partner*, который коллеги, готовившие описание, почему-то определили как наличие супруга(и) (мне кажется этот столбец имеет другое значение, например, статус \"ключевого абонента\") существенно снижает отток.\n",
    " \n",
    " 3. То же самое можно сказать про признак наличия иждивенцев.\n",
    " \n",
    " 4. Тип контракта существенно влияет на отток. Мы видим, что 43% контрактов типа *Month-to-month* были прекращены, зато доля закрывшихся двухгодичных контрактов всего 3%. Важный признак!\n",
    " \n",
    " 5. А вот отказ от бумажных счетов неожиданно повышает вероятность закрытия контракта!\n",
    " \n",
    " 6. Из способов оплаты сильно выделяется электронная оплата - среди этих абонентов ушло 45%, хотя в остальных видах оплаты всего 15 - 19%\n",
    " \n",
    " 7. Также оказалось, что 42% пенсионеров отказалось от услуг, а из остальных пользователей всего 24%. Скорее всего, кто-то из конкурентов активно заманивает эту целевую аудиторию.\n",
    " \n",
    " 8. Что касается пользования основными услугами, то чаще уходят пользователи обоих услуг - 33% и реже всего пользователи только телефонии - всего 7%.\n",
    " \n",
    " 9. Что касается дополнительных услуг интернет, то их количество снижает вероятность оттока. Так уходят:\n",
    "      * 52% пользователей услуг интернет без доп. услуг, \n",
    "      * 27% пользователей услуг интернет с тремя услугами,\n",
    "      * 7% пользователей услуг интернет с шестью услугами.\n",
    "      Степень влияния на отток каждой услуги также различна.\n",
    " 10. 42% пользователей оптоволоконной технологии закрыли контракт, в DSL - только 19%\n",
    " 11. Наличие многоканальной телефонной линии немного повышает вероятность ухода абонента, что не совсем логично. Возможно это просто случайность."
   ]
  },
  {
   "cell_type": "markdown",
   "id": "55964e61",
   "metadata": {},
   "source": [
    "Теперь посмотрим корреляцию с целевым признаком числовых данных: непрерывных (MonthlyCharges, TotalCharges) и дискретных (ContractPeriod)."
   ]
  },
  {
   "cell_type": "code",
   "execution_count": 48,
   "id": "ceb3148d",
   "metadata": {
    "scrolled": false
   },
   "outputs": [
    {
     "data": {
      "image/png": "[encoded data removed]",
      "text/plain": [
       "<Figure size 1080x216 with 2 Axes>"
      ]
     },
     "metadata": {
      "needs_background": "light"
     },
     "output_type": "display_data"
    }
   ],
   "source": [
    "plt.figure(figsize=(15, 3))\n",
    "plt.subplot(1, 2, 1)\n",
    "plt.scatter(full_data['MonthlyCharges'], full_data['IsChurn'], alpha=0.01)\n",
    "plt.subplot(1, 2, 2)\n",
    "plt.scatter(full_data['TotalCharges'], full_data['IsChurn'], alpha=0.01);"
   ]
  },
  {
   "cell_type": "code",
   "execution_count": 49,
   "id": "aaa03ba6",
   "metadata": {},
   "outputs": [
    {
     "data": {
      "image/png": "[encoded data removed]",
      "text/plain": [
       "<Figure size 1080x216 with 2 Axes>"
      ]
     },
     "metadata": {
      "needs_background": "light"
     },
     "output_type": "display_data"
    }
   ],
   "source": [
    "plt.figure(figsize=(15, 3))\n",
    "plt.subplot(1, 2, 1)\n",
    "plt.hist(full_data[full_data['IsChurn'] == 1]['MonthlyCharges'], bins=100)\n",
    "plt.subplot(1, 2, 2)\n",
    "plt.hist(full_data[full_data['IsChurn'] == 1]['TotalCharges'], bins=100);"
   ]
  },
  {
   "cell_type": "code",
   "execution_count": 50,
   "id": "f038f0e0",
   "metadata": {},
   "outputs": [
    {
     "data": {
      "text/plain": [
       "0.19335642223784705"
      ]
     },
     "execution_count": 50,
     "metadata": {},
     "output_type": "execute_result"
    }
   ],
   "source": [
    "full_data['IsChurn'].corr(full_data['MonthlyCharges'])"
   ]
  },
  {
   "cell_type": "code",
   "execution_count": 51,
   "id": "1b90b59e",
   "metadata": {},
   "outputs": [
    {
     "data": {
      "text/plain": [
       "-0.19834704174611756"
      ]
     },
     "execution_count": 51,
     "metadata": {},
     "output_type": "execute_result"
    }
   ],
   "source": [
    "full_data['IsChurn'].corr(full_data['TotalCharges'])"
   ]
  },
  {
   "cell_type": "markdown",
   "id": "d132da7a",
   "metadata": {},
   "source": [
    "Из исследования видно:\n",
    "\n",
    "1. Ежемесячный средний чек показывает небольшую положительную корреляцию с вероятностью оттока. Зависимость нечеткая, но на графиках можно выявить несколько большую плотность закрытых контрактов в диапазоне от 70 до 100 ед. валюты в мес. \n",
    "\n",
    "2. Общий доход от абонента показывает отрицательную корреляцию с целевым признаком. Из графиков видно, что уходят в основном те, кто в целом потратил мало денег. Может просто не успел? Посмотрим какая ситуации в зависимости от длительности контракта.\n",
    "\n",
    "Корреляция слишком мала, связь может быть случайной"
   ]
  },
  {
   "cell_type": "code",
   "execution_count": 52,
   "id": "efc81dc1",
   "metadata": {},
   "outputs": [
    {
     "data": {
      "image/png": "[encoded data removed]",
      "text/plain": [
       "<Figure size 432x288 with 1 Axes>"
      ]
     },
     "metadata": {
      "needs_background": "light"
     },
     "output_type": "display_data"
    }
   ],
   "source": [
    "full_data.plot('IsChurn', 'ContractPeriod', kind='scatter', alpha=0.01);"
   ]
  },
  {
   "cell_type": "code",
   "execution_count": 53,
   "id": "0afc6b07",
   "metadata": {},
   "outputs": [
    {
     "data": {
      "image/png": "[encoded data removed]",
      "text/plain": [
       "<Figure size 864x216 with 1 Axes>"
      ]
     },
     "metadata": {
      "needs_background": "light"
     },
     "output_type": "display_data"
    }
   ],
   "source": [
    "full_data[full_data['IsChurn'] == 1]['ContractPeriod'].hist(bins=75, figsize=(12, 3));"
   ]
  },
  {
   "cell_type": "code",
   "execution_count": 54,
   "id": "2d6b815e",
   "metadata": {},
   "outputs": [
    {
     "data": {
      "text/plain": [
       "-0.35723185249687783"
      ]
     },
     "execution_count": 54,
     "metadata": {},
     "output_type": "execute_result"
    }
   ],
   "source": [
    "full_data['IsChurn'].corr(full_data['ContractPeriod'])"
   ]
  },
  {
   "cell_type": "markdown",
   "id": "c1e28deb",
   "metadata": {},
   "source": [
    "Из графиков видно, что существенная доля абонентов расторгает контракт в первые 3 мес. пользования услугами, а спустя год вероятность оттока уже сильно падает. Видимо часть \"свежих\" абонентов, что-то не устраивает в сервисе либо качестве услуг и спустя пробный период они уходят."
   ]
  },
  {
   "cell_type": "markdown",
   "id": "33056619",
   "metadata": {},
   "source": [
    "Посмотрим на тепловую карту корелляции количественных признаков между собой."
   ]
  },
  {
   "cell_type": "code",
   "execution_count": 55,
   "id": "b11b70e9",
   "metadata": {
    "scrolled": true
   },
   "outputs": [
    {
     "data": {
      "text/plain": [
       "<AxesSubplot:>"
      ]
     },
     "execution_count": 55,
     "metadata": {},
     "output_type": "execute_result"
    },
    {
     "data": {
      "image/png": "[encoded data removed]",
      "text/plain": [
       "<Figure size 432x288 with 2 Axes>"
      ]
     },
     "metadata": {
      "needs_background": "light"
     },
     "output_type": "display_data"
    }
   ],
   "source": [
    "sns.heatmap(full_data[['MonthlyCharges', 'TotalCharges', 'ContractPeriod']].corr(), vmin = -1, vmax = +1, annot = True, cmap = 'coolwarm')"
   ]
  },
  {
   "cell_type": "markdown",
   "id": "7703964a",
   "metadata": {},
   "source": [
    "Из диаграммы видим, что между средним чеком и общими доходами от абонента довольно большая корреляция, а между общими доходами от абонента и периодом контрактов корреляция еще больше. Это и понятно, значения в графе 'TotalCharges' по сути произведение колонки 'MonthlyCharges' на 'ContractPeriod'.<br>\n",
    "Такая зависимость между независимыми признаками называется мультиколлинеарностью и может быть вредна для линейных моделей."
   ]
  },
  {
   "cell_type": "markdown",
   "id": "d65dd4cd",
   "metadata": {},
   "source": [
    "Удалим из нашего датасета все столбцы, которые мы посчитали неэффективными для установления зависимостей тестируемых моделей + столбец с датами и идентификационным номером абонентов."
   ]
  },
  {
   "cell_type": "code",
   "execution_count": 56,
   "id": "5ec08c3e",
   "metadata": {
    "scrolled": true
   },
   "outputs": [
    {
     "name": "stdout",
     "output_type": "stream",
     "text": [
      "<class 'pandas.core.frame.DataFrame'>\n",
      "Int64Index: 7043 entries, 0 to 7042\n",
      "Data columns (total 20 columns):\n",
      " #   Column            Non-Null Count  Dtype  \n",
      "---  ------            --------------  -----  \n",
      " 0   gender            7043 non-null   object \n",
      " 1   SeniorCitizen     7043 non-null   int64  \n",
      " 2   Partner           7043 non-null   object \n",
      " 3   Dependents        7043 non-null   object \n",
      " 4   Type              7043 non-null   object \n",
      " 5   PaperlessBilling  7043 non-null   object \n",
      " 6   PaymentMethod     7043 non-null   object \n",
      " 7   MonthlyCharges    7043 non-null   float64\n",
      " 8   IsChurn           7043 non-null   int64  \n",
      " 9   ContractPeriod    7043 non-null   int64  \n",
      " 10  InternetService   7043 non-null   object \n",
      " 11  OnlineSecurity    7043 non-null   object \n",
      " 12  OnlineBackup      7043 non-null   object \n",
      " 13  DeviceProtection  7043 non-null   object \n",
      " 14  TechSupport       7043 non-null   object \n",
      " 15  StreamingTV       7043 non-null   object \n",
      " 16  StreamingMovies   7043 non-null   object \n",
      " 17  services_count    7043 non-null   object \n",
      " 18  MultipleLines     7043 non-null   object \n",
      " 19  basic_service     7043 non-null   object \n",
      "dtypes: float64(1), int64(3), object(16)\n",
      "memory usage: 1.4+ MB\n"
     ]
    }
   ],
   "source": [
    "good_data = full_data.drop(['customerID', 'BeginDate', 'EndDate', 'EndPeriod', 'TotalCharges'], axis=1)\n",
    "good_data.info()"
   ]
  },
  {
   "cell_type": "markdown",
   "id": "d7c5a5e6",
   "metadata": {},
   "source": [
    "#### Вывод:\n",
    "\n",
    "В результате исследования зависимости целевого признака от признаков в датасете были установлены разные степени влияния этих признаков на отток:\n",
    "\n",
    "1. Загадочная колонка *Partner*, наличие иждевенцев, наличие длительных типов контрактов, длительность контракта, наличие доп. услуг при пользовании интернетом, сами эти услуги в разной степени - снижают вероятность оттока клиента.\n",
    "\n",
    "2. Пенсионный возраст, отказ от бумажных счетов, в некоторой степени среднемесячный чек повышают вероятность ухода абонента.\n",
    "\n",
    "3. Отток больше у пользователей сразу двумя услугами - 33%, у пользователей только услугой интернет - 25%, а телефонией - всего 7%. На услуге интернет отток больше с оптоволоконных линий, чем с DSL.\n",
    "\n",
    "Таким образом мы выделили наиболее значимые признаки и оставили их в наборе данных для дальнейшей работы. Из датасета были удалены след столбцы:\n",
    "\n",
    "<br>\n",
    "  'customerID', 'BeginDate', 'EndDate', 'EndPeriod' - как не несущие никакого смысла для обучения модели<br>  "
   ]
  },
  {
   "cell_type": "markdown",
   "id": "ca9c40c2",
   "metadata": {},
   "source": [
    "#### Разделение выборки"
   ]
  },
  {
   "cell_type": "code",
   "execution_count": 57,
   "id": "ef6f4133",
   "metadata": {},
   "outputs": [],
   "source": [
    "features = good_data.drop('IsChurn', axis=1)\n",
    "target = good_data['IsChurn']"
   ]
  },
  {
   "cell_type": "code",
   "execution_count": 58,
   "id": "9348fcb0",
   "metadata": {},
   "outputs": [],
   "source": [
    "train_features, test_features, train_target, test_target = train_test_split(features, target, test_size=0.25, random_state=120922)\n"
   ]
  },
  {
   "cell_type": "code",
   "execution_count": 59,
   "id": "3a184b65",
   "metadata": {
    "scrolled": true
   },
   "outputs": [
    {
     "data": {
      "text/plain": [
       "(0   0.735\n",
       " 1   0.265\n",
       " Name: IsChurn, dtype: float64,\n",
       " 0   0.734\n",
       " 1   0.266\n",
       " Name: IsChurn, dtype: float64)"
      ]
     },
     "execution_count": 59,
     "metadata": {},
     "output_type": "execute_result"
    }
   ],
   "source": [
    "train_target.value_counts(1), test_target.value_counts(1)"
   ]
  },
  {
   "cell_type": "code",
   "execution_count": 60,
   "id": "c8dd039f",
   "metadata": {
    "scrolled": true
   },
   "outputs": [
    {
     "data": {
      "text/html": [
       "<div>\n",
       "<style scoped>\n",
       "    .dataframe tbody tr th:only-of-type {\n",
       "        vertical-align: middle;\n",
       "    }\n",
       "\n",
       "    .dataframe tbody tr th {\n",
       "        vertical-align: top;\n",
       "    }\n",
       "\n",
       "    .dataframe thead th {\n",
       "        text-align: right;\n",
       "    }\n",
       "</style>\n",
       "<table border=\"1\" class=\"dataframe\">\n",
       "  <thead>\n",
       "    <tr style=\"text-align: right;\">\n",
       "      <th></th>\n",
       "      <th>gender</th>\n",
       "      <th>SeniorCitizen</th>\n",
       "      <th>Partner</th>\n",
       "      <th>Dependents</th>\n",
       "      <th>Type</th>\n",
       "      <th>PaperlessBilling</th>\n",
       "      <th>PaymentMethod</th>\n",
       "      <th>MonthlyCharges</th>\n",
       "      <th>ContractPeriod</th>\n",
       "      <th>InternetService</th>\n",
       "      <th>OnlineSecurity</th>\n",
       "      <th>OnlineBackup</th>\n",
       "      <th>DeviceProtection</th>\n",
       "      <th>TechSupport</th>\n",
       "      <th>StreamingTV</th>\n",
       "      <th>StreamingMovies</th>\n",
       "      <th>services_count</th>\n",
       "      <th>MultipleLines</th>\n",
       "      <th>basic_service</th>\n",
       "    </tr>\n",
       "  </thead>\n",
       "  <tbody>\n",
       "    <tr>\n",
       "      <th>1827</th>\n",
       "      <td>Female</td>\n",
       "      <td>0</td>\n",
       "      <td>Yes</td>\n",
       "      <td>Yes</td>\n",
       "      <td>Month-to-month</td>\n",
       "      <td>Yes</td>\n",
       "      <td>Bank transfer (automatic)</td>\n",
       "      <td>50.900</td>\n",
       "      <td>46</td>\n",
       "      <td>DSL</td>\n",
       "      <td>Yes</td>\n",
       "      <td>No</td>\n",
       "      <td>No</td>\n",
       "      <td>No</td>\n",
       "      <td>Yes</td>\n",
       "      <td>Yes</td>\n",
       "      <td>3.000</td>\n",
       "      <td>Other</td>\n",
       "      <td>internet</td>\n",
       "    </tr>\n",
       "    <tr>\n",
       "      <th>3836</th>\n",
       "      <td>Female</td>\n",
       "      <td>0</td>\n",
       "      <td>Yes</td>\n",
       "      <td>No</td>\n",
       "      <td>One year</td>\n",
       "      <td>No</td>\n",
       "      <td>Bank transfer (automatic)</td>\n",
       "      <td>58.350</td>\n",
       "      <td>65</td>\n",
       "      <td>DSL</td>\n",
       "      <td>No</td>\n",
       "      <td>No</td>\n",
       "      <td>Yes</td>\n",
       "      <td>Yes</td>\n",
       "      <td>No</td>\n",
       "      <td>No</td>\n",
       "      <td>2.000</td>\n",
       "      <td>Yes</td>\n",
       "      <td>both</td>\n",
       "    </tr>\n",
       "    <tr>\n",
       "      <th>6893</th>\n",
       "      <td>Female</td>\n",
       "      <td>0</td>\n",
       "      <td>Yes</td>\n",
       "      <td>Yes</td>\n",
       "      <td>Month-to-month</td>\n",
       "      <td>No</td>\n",
       "      <td>Credit card (automatic)</td>\n",
       "      <td>55.900</td>\n",
       "      <td>7</td>\n",
       "      <td>DSL</td>\n",
       "      <td>Yes</td>\n",
       "      <td>Yes</td>\n",
       "      <td>No</td>\n",
       "      <td>No</td>\n",
       "      <td>No</td>\n",
       "      <td>No</td>\n",
       "      <td>2.000</td>\n",
       "      <td>No</td>\n",
       "      <td>both</td>\n",
       "    </tr>\n",
       "    <tr>\n",
       "      <th>5930</th>\n",
       "      <td>Female</td>\n",
       "      <td>0</td>\n",
       "      <td>No</td>\n",
       "      <td>No</td>\n",
       "      <td>Two year</td>\n",
       "      <td>Yes</td>\n",
       "      <td>Bank transfer (automatic)</td>\n",
       "      <td>84.700</td>\n",
       "      <td>72</td>\n",
       "      <td>Fiber optic</td>\n",
       "      <td>Yes</td>\n",
       "      <td>No</td>\n",
       "      <td>No</td>\n",
       "      <td>Yes</td>\n",
       "      <td>No</td>\n",
       "      <td>No</td>\n",
       "      <td>2.000</td>\n",
       "      <td>Yes</td>\n",
       "      <td>both</td>\n",
       "    </tr>\n",
       "    <tr>\n",
       "      <th>4592</th>\n",
       "      <td>Female</td>\n",
       "      <td>0</td>\n",
       "      <td>Yes</td>\n",
       "      <td>Yes</td>\n",
       "      <td>One year</td>\n",
       "      <td>Yes</td>\n",
       "      <td>Mailed check</td>\n",
       "      <td>24.200</td>\n",
       "      <td>39</td>\n",
       "      <td>Other</td>\n",
       "      <td>Other</td>\n",
       "      <td>Other</td>\n",
       "      <td>Other</td>\n",
       "      <td>Other</td>\n",
       "      <td>Other</td>\n",
       "      <td>Other</td>\n",
       "      <td>Other</td>\n",
       "      <td>Yes</td>\n",
       "      <td>phone</td>\n",
       "    </tr>\n",
       "    <tr>\n",
       "      <th>...</th>\n",
       "      <td>...</td>\n",
       "      <td>...</td>\n",
       "      <td>...</td>\n",
       "      <td>...</td>\n",
       "      <td>...</td>\n",
       "      <td>...</td>\n",
       "      <td>...</td>\n",
       "      <td>...</td>\n",
       "      <td>...</td>\n",
       "      <td>...</td>\n",
       "      <td>...</td>\n",
       "      <td>...</td>\n",
       "      <td>...</td>\n",
       "      <td>...</td>\n",
       "      <td>...</td>\n",
       "      <td>...</td>\n",
       "      <td>...</td>\n",
       "      <td>...</td>\n",
       "      <td>...</td>\n",
       "    </tr>\n",
       "    <tr>\n",
       "      <th>1050</th>\n",
       "      <td>Male</td>\n",
       "      <td>1</td>\n",
       "      <td>No</td>\n",
       "      <td>No</td>\n",
       "      <td>Month-to-month</td>\n",
       "      <td>Yes</td>\n",
       "      <td>Electronic check</td>\n",
       "      <td>43.650</td>\n",
       "      <td>12</td>\n",
       "      <td>DSL</td>\n",
       "      <td>No</td>\n",
       "      <td>No</td>\n",
       "      <td>Yes</td>\n",
       "      <td>Yes</td>\n",
       "      <td>No</td>\n",
       "      <td>Yes</td>\n",
       "      <td>3.000</td>\n",
       "      <td>Other</td>\n",
       "      <td>internet</td>\n",
       "    </tr>\n",
       "    <tr>\n",
       "      <th>5233</th>\n",
       "      <td>Female</td>\n",
       "      <td>0</td>\n",
       "      <td>Yes</td>\n",
       "      <td>No</td>\n",
       "      <td>Month-to-month</td>\n",
       "      <td>No</td>\n",
       "      <td>Electronic check</td>\n",
       "      <td>101.150</td>\n",
       "      <td>9</td>\n",
       "      <td>Fiber optic</td>\n",
       "      <td>No</td>\n",
       "      <td>Yes</td>\n",
       "      <td>Yes</td>\n",
       "      <td>No</td>\n",
       "      <td>Yes</td>\n",
       "      <td>Yes</td>\n",
       "      <td>4.000</td>\n",
       "      <td>No</td>\n",
       "      <td>both</td>\n",
       "    </tr>\n",
       "    <tr>\n",
       "      <th>1466</th>\n",
       "      <td>Male</td>\n",
       "      <td>0</td>\n",
       "      <td>Yes</td>\n",
       "      <td>Yes</td>\n",
       "      <td>Month-to-month</td>\n",
       "      <td>Yes</td>\n",
       "      <td>Electronic check</td>\n",
       "      <td>49.200</td>\n",
       "      <td>12</td>\n",
       "      <td>DSL</td>\n",
       "      <td>Yes</td>\n",
       "      <td>No</td>\n",
       "      <td>No</td>\n",
       "      <td>No</td>\n",
       "      <td>No</td>\n",
       "      <td>No</td>\n",
       "      <td>1.000</td>\n",
       "      <td>No</td>\n",
       "      <td>both</td>\n",
       "    </tr>\n",
       "    <tr>\n",
       "      <th>1854</th>\n",
       "      <td>Male</td>\n",
       "      <td>1</td>\n",
       "      <td>No</td>\n",
       "      <td>No</td>\n",
       "      <td>Month-to-month</td>\n",
       "      <td>Yes</td>\n",
       "      <td>Electronic check</td>\n",
       "      <td>43.300</td>\n",
       "      <td>1</td>\n",
       "      <td>DSL</td>\n",
       "      <td>No</td>\n",
       "      <td>Yes</td>\n",
       "      <td>Yes</td>\n",
       "      <td>No</td>\n",
       "      <td>No</td>\n",
       "      <td>Yes</td>\n",
       "      <td>3.000</td>\n",
       "      <td>Other</td>\n",
       "      <td>internet</td>\n",
       "    </tr>\n",
       "    <tr>\n",
       "      <th>6040</th>\n",
       "      <td>Female</td>\n",
       "      <td>0</td>\n",
       "      <td>No</td>\n",
       "      <td>No</td>\n",
       "      <td>Month-to-month</td>\n",
       "      <td>No</td>\n",
       "      <td>Mailed check</td>\n",
       "      <td>70.750</td>\n",
       "      <td>2</td>\n",
       "      <td>Fiber optic</td>\n",
       "      <td>No</td>\n",
       "      <td>No</td>\n",
       "      <td>No</td>\n",
       "      <td>No</td>\n",
       "      <td>No</td>\n",
       "      <td>No</td>\n",
       "      <td>0.000</td>\n",
       "      <td>No</td>\n",
       "      <td>both</td>\n",
       "    </tr>\n",
       "  </tbody>\n",
       "</table>\n",
       "<p>5282 rows × 19 columns</p>\n",
       "</div>"
      ],
      "text/plain": [
       "      gender  SeniorCitizen Partner Dependents            Type  \\\n",
       "1827  Female              0     Yes        Yes  Month-to-month   \n",
       "3836  Female              0     Yes         No        One year   \n",
       "6893  Female              0     Yes        Yes  Month-to-month   \n",
       "5930  Female              0      No         No        Two year   \n",
       "4592  Female              0     Yes        Yes        One year   \n",
       "...      ...            ...     ...        ...             ...   \n",
       "1050    Male              1      No         No  Month-to-month   \n",
       "5233  Female              0     Yes         No  Month-to-month   \n",
       "1466    Male              0     Yes        Yes  Month-to-month   \n",
       "1854    Male              1      No         No  Month-to-month   \n",
       "6040  Female              0      No         No  Month-to-month   \n",
       "\n",
       "     PaperlessBilling              PaymentMethod  MonthlyCharges  \\\n",
       "1827              Yes  Bank transfer (automatic)          50.900   \n",
       "3836               No  Bank transfer (automatic)          58.350   \n",
       "6893               No    Credit card (automatic)          55.900   \n",
       "5930              Yes  Bank transfer (automatic)          84.700   \n",
       "4592              Yes               Mailed check          24.200   \n",
       "...               ...                        ...             ...   \n",
       "1050              Yes           Electronic check          43.650   \n",
       "5233               No           Electronic check         101.150   \n",
       "1466              Yes           Electronic check          49.200   \n",
       "1854              Yes           Electronic check          43.300   \n",
       "6040               No               Mailed check          70.750   \n",
       "\n",
       "      ContractPeriod InternetService OnlineSecurity OnlineBackup  \\\n",
       "1827              46             DSL            Yes           No   \n",
       "3836              65             DSL             No           No   \n",
       "6893               7             DSL            Yes          Yes   \n",
       "5930              72     Fiber optic            Yes           No   \n",
       "4592              39           Other          Other        Other   \n",
       "...              ...             ...            ...          ...   \n",
       "1050              12             DSL             No           No   \n",
       "5233               9     Fiber optic             No          Yes   \n",
       "1466              12             DSL            Yes           No   \n",
       "1854               1             DSL             No          Yes   \n",
       "6040               2     Fiber optic             No           No   \n",
       "\n",
       "     DeviceProtection TechSupport StreamingTV StreamingMovies services_count  \\\n",
       "1827               No          No         Yes             Yes          3.000   \n",
       "3836              Yes         Yes          No              No          2.000   \n",
       "6893               No          No          No              No          2.000   \n",
       "5930               No         Yes          No              No          2.000   \n",
       "4592            Other       Other       Other           Other          Other   \n",
       "...               ...         ...         ...             ...            ...   \n",
       "1050              Yes         Yes          No             Yes          3.000   \n",
       "5233              Yes          No         Yes             Yes          4.000   \n",
       "1466               No          No          No              No          1.000   \n",
       "1854              Yes          No          No             Yes          3.000   \n",
       "6040               No          No          No              No          0.000   \n",
       "\n",
       "     MultipleLines basic_service  \n",
       "1827         Other      internet  \n",
       "3836           Yes          both  \n",
       "6893            No          both  \n",
       "5930           Yes          both  \n",
       "4592           Yes         phone  \n",
       "...            ...           ...  \n",
       "1050         Other      internet  \n",
       "5233            No          both  \n",
       "1466            No          both  \n",
       "1854         Other      internet  \n",
       "6040            No          both  \n",
       "\n",
       "[5282 rows x 19 columns]"
      ]
     },
     "execution_count": 60,
     "metadata": {},
     "output_type": "execute_result"
    }
   ],
   "source": [
    "train_features\n"
   ]
  },
  {
   "cell_type": "markdown",
   "id": "ce0315ea",
   "metadata": {},
   "source": [
    "#### Вывод:\n",
    "\n",
    "Выборка разделена на обучающую и тестовую в соотношении 3:1."
   ]
  },
  {
   "cell_type": "markdown",
   "id": "69c66ae8",
   "metadata": {},
   "source": [
    "#### Кодирование категориальных признаков"
   ]
  },
  {
   "cell_type": "markdown",
   "id": "32e47819",
   "metadata": {},
   "source": [
    "Поскольку у нас есть часть признаков с числом категорий больше 2, то оптимальным способом кодирования будет Ординарное кодирование."
   ]
  },
  {
   "cell_type": "code",
   "execution_count": 61,
   "id": "a8ee2d7b",
   "metadata": {},
   "outputs": [],
   "source": [
    "train_features = train_features.replace('Other', 'No')\n",
    "test_features = test_features.replace('Other', 'No')"
   ]
  },
  {
   "cell_type": "code",
   "execution_count": 62,
   "id": "cd06b266",
   "metadata": {},
   "outputs": [],
   "source": [
    "cat_columns = train_features.select_dtypes(include=['object']).columns\n",
    "cat_columns = cat_columns.drop('services_count')\n",
    "    \n",
    "enc = OrdinalEncoder(dtype='int64')\n",
    "enc.fit(train_features[cat_columns])\n",
    "train_features[cat_columns] = enc.transform(train_features[cat_columns])    "
   ]
  },
  {
   "cell_type": "code",
   "execution_count": 63,
   "id": "07fa94ed",
   "metadata": {},
   "outputs": [],
   "source": [
    "test_features[cat_columns] = enc.transform(test_features[cat_columns]) "
   ]
  },
  {
   "cell_type": "code",
   "execution_count": 64,
   "id": "1c1088cf",
   "metadata": {},
   "outputs": [],
   "source": [
    "train_features = train_features.replace('No', 10)\n",
    "train_features['services_count'] = train_features['services_count'].astype('int64')\n",
    "test_features = test_features.replace('No', 10)\n",
    "test_features['services_count'] = test_features['services_count'].astype('int64')"
   ]
  },
  {
   "cell_type": "code",
   "execution_count": 67,
   "id": "3a77aa9d",
   "metadata": {},
   "outputs": [
    {
     "data": {
      "text/html": [
       "<div>\n",
       "<style scoped>\n",
       "    .dataframe tbody tr th:only-of-type {\n",
       "        vertical-align: middle;\n",
       "    }\n",
       "\n",
       "    .dataframe tbody tr th {\n",
       "        vertical-align: top;\n",
       "    }\n",
       "\n",
       "    .dataframe thead th {\n",
       "        text-align: right;\n",
       "    }\n",
       "</style>\n",
       "<table border=\"1\" class=\"dataframe\">\n",
       "  <thead>\n",
       "    <tr style=\"text-align: right;\">\n",
       "      <th></th>\n",
       "      <th>gender</th>\n",
       "      <th>SeniorCitizen</th>\n",
       "      <th>Partner</th>\n",
       "      <th>Dependents</th>\n",
       "      <th>Type</th>\n",
       "      <th>PaperlessBilling</th>\n",
       "      <th>PaymentMethod</th>\n",
       "      <th>MonthlyCharges</th>\n",
       "      <th>ContractPeriod</th>\n",
       "      <th>InternetService</th>\n",
       "      <th>OnlineSecurity</th>\n",
       "      <th>OnlineBackup</th>\n",
       "      <th>DeviceProtection</th>\n",
       "      <th>TechSupport</th>\n",
       "      <th>StreamingTV</th>\n",
       "      <th>StreamingMovies</th>\n",
       "      <th>services_count</th>\n",
       "      <th>MultipleLines</th>\n",
       "      <th>basic_service</th>\n",
       "    </tr>\n",
       "  </thead>\n",
       "  <tbody>\n",
       "    <tr>\n",
       "      <th>1827</th>\n",
       "      <td>0</td>\n",
       "      <td>0</td>\n",
       "      <td>1</td>\n",
       "      <td>1</td>\n",
       "      <td>0</td>\n",
       "      <td>1</td>\n",
       "      <td>0</td>\n",
       "      <td>50.900</td>\n",
       "      <td>46</td>\n",
       "      <td>0</td>\n",
       "      <td>1</td>\n",
       "      <td>0</td>\n",
       "      <td>0</td>\n",
       "      <td>0</td>\n",
       "      <td>1</td>\n",
       "      <td>1</td>\n",
       "      <td>3</td>\n",
       "      <td>0</td>\n",
       "      <td>1</td>\n",
       "    </tr>\n",
       "    <tr>\n",
       "      <th>3836</th>\n",
       "      <td>0</td>\n",
       "      <td>0</td>\n",
       "      <td>1</td>\n",
       "      <td>0</td>\n",
       "      <td>1</td>\n",
       "      <td>0</td>\n",
       "      <td>0</td>\n",
       "      <td>58.350</td>\n",
       "      <td>65</td>\n",
       "      <td>0</td>\n",
       "      <td>0</td>\n",
       "      <td>0</td>\n",
       "      <td>1</td>\n",
       "      <td>1</td>\n",
       "      <td>0</td>\n",
       "      <td>0</td>\n",
       "      <td>2</td>\n",
       "      <td>1</td>\n",
       "      <td>0</td>\n",
       "    </tr>\n",
       "    <tr>\n",
       "      <th>6893</th>\n",
       "      <td>0</td>\n",
       "      <td>0</td>\n",
       "      <td>1</td>\n",
       "      <td>1</td>\n",
       "      <td>0</td>\n",
       "      <td>0</td>\n",
       "      <td>1</td>\n",
       "      <td>55.900</td>\n",
       "      <td>7</td>\n",
       "      <td>0</td>\n",
       "      <td>1</td>\n",
       "      <td>1</td>\n",
       "      <td>0</td>\n",
       "      <td>0</td>\n",
       "      <td>0</td>\n",
       "      <td>0</td>\n",
       "      <td>2</td>\n",
       "      <td>0</td>\n",
       "      <td>0</td>\n",
       "    </tr>\n",
       "    <tr>\n",
       "      <th>5930</th>\n",
       "      <td>0</td>\n",
       "      <td>0</td>\n",
       "      <td>0</td>\n",
       "      <td>0</td>\n",
       "      <td>2</td>\n",
       "      <td>1</td>\n",
       "      <td>0</td>\n",
       "      <td>84.700</td>\n",
       "      <td>72</td>\n",
       "      <td>1</td>\n",
       "      <td>1</td>\n",
       "      <td>0</td>\n",
       "      <td>0</td>\n",
       "      <td>1</td>\n",
       "      <td>0</td>\n",
       "      <td>0</td>\n",
       "      <td>2</td>\n",
       "      <td>1</td>\n",
       "      <td>0</td>\n",
       "    </tr>\n",
       "    <tr>\n",
       "      <th>4592</th>\n",
       "      <td>0</td>\n",
       "      <td>0</td>\n",
       "      <td>1</td>\n",
       "      <td>1</td>\n",
       "      <td>1</td>\n",
       "      <td>1</td>\n",
       "      <td>3</td>\n",
       "      <td>24.200</td>\n",
       "      <td>39</td>\n",
       "      <td>2</td>\n",
       "      <td>0</td>\n",
       "      <td>0</td>\n",
       "      <td>0</td>\n",
       "      <td>0</td>\n",
       "      <td>0</td>\n",
       "      <td>0</td>\n",
       "      <td>10</td>\n",
       "      <td>1</td>\n",
       "      <td>2</td>\n",
       "    </tr>\n",
       "    <tr>\n",
       "      <th>...</th>\n",
       "      <td>...</td>\n",
       "      <td>...</td>\n",
       "      <td>...</td>\n",
       "      <td>...</td>\n",
       "      <td>...</td>\n",
       "      <td>...</td>\n",
       "      <td>...</td>\n",
       "      <td>...</td>\n",
       "      <td>...</td>\n",
       "      <td>...</td>\n",
       "      <td>...</td>\n",
       "      <td>...</td>\n",
       "      <td>...</td>\n",
       "      <td>...</td>\n",
       "      <td>...</td>\n",
       "      <td>...</td>\n",
       "      <td>...</td>\n",
       "      <td>...</td>\n",
       "      <td>...</td>\n",
       "    </tr>\n",
       "    <tr>\n",
       "      <th>1050</th>\n",
       "      <td>1</td>\n",
       "      <td>1</td>\n",
       "      <td>0</td>\n",
       "      <td>0</td>\n",
       "      <td>0</td>\n",
       "      <td>1</td>\n",
       "      <td>2</td>\n",
       "      <td>43.650</td>\n",
       "      <td>12</td>\n",
       "      <td>0</td>\n",
       "      <td>0</td>\n",
       "      <td>0</td>\n",
       "      <td>1</td>\n",
       "      <td>1</td>\n",
       "      <td>0</td>\n",
       "      <td>1</td>\n",
       "      <td>3</td>\n",
       "      <td>0</td>\n",
       "      <td>1</td>\n",
       "    </tr>\n",
       "    <tr>\n",
       "      <th>5233</th>\n",
       "      <td>0</td>\n",
       "      <td>0</td>\n",
       "      <td>1</td>\n",
       "      <td>0</td>\n",
       "      <td>0</td>\n",
       "      <td>0</td>\n",
       "      <td>2</td>\n",
       "      <td>101.150</td>\n",
       "      <td>9</td>\n",
       "      <td>1</td>\n",
       "      <td>0</td>\n",
       "      <td>1</td>\n",
       "      <td>1</td>\n",
       "      <td>0</td>\n",
       "      <td>1</td>\n",
       "      <td>1</td>\n",
       "      <td>4</td>\n",
       "      <td>0</td>\n",
       "      <td>0</td>\n",
       "    </tr>\n",
       "    <tr>\n",
       "      <th>1466</th>\n",
       "      <td>1</td>\n",
       "      <td>0</td>\n",
       "      <td>1</td>\n",
       "      <td>1</td>\n",
       "      <td>0</td>\n",
       "      <td>1</td>\n",
       "      <td>2</td>\n",
       "      <td>49.200</td>\n",
       "      <td>12</td>\n",
       "      <td>0</td>\n",
       "      <td>1</td>\n",
       "      <td>0</td>\n",
       "      <td>0</td>\n",
       "      <td>0</td>\n",
       "      <td>0</td>\n",
       "      <td>0</td>\n",
       "      <td>1</td>\n",
       "      <td>0</td>\n",
       "      <td>0</td>\n",
       "    </tr>\n",
       "    <tr>\n",
       "      <th>1854</th>\n",
       "      <td>1</td>\n",
       "      <td>1</td>\n",
       "      <td>0</td>\n",
       "      <td>0</td>\n",
       "      <td>0</td>\n",
       "      <td>1</td>\n",
       "      <td>2</td>\n",
       "      <td>43.300</td>\n",
       "      <td>1</td>\n",
       "      <td>0</td>\n",
       "      <td>0</td>\n",
       "      <td>1</td>\n",
       "      <td>1</td>\n",
       "      <td>0</td>\n",
       "      <td>0</td>\n",
       "      <td>1</td>\n",
       "      <td>3</td>\n",
       "      <td>0</td>\n",
       "      <td>1</td>\n",
       "    </tr>\n",
       "    <tr>\n",
       "      <th>6040</th>\n",
       "      <td>0</td>\n",
       "      <td>0</td>\n",
       "      <td>0</td>\n",
       "      <td>0</td>\n",
       "      <td>0</td>\n",
       "      <td>0</td>\n",
       "      <td>3</td>\n",
       "      <td>70.750</td>\n",
       "      <td>2</td>\n",
       "      <td>1</td>\n",
       "      <td>0</td>\n",
       "      <td>0</td>\n",
       "      <td>0</td>\n",
       "      <td>0</td>\n",
       "      <td>0</td>\n",
       "      <td>0</td>\n",
       "      <td>0</td>\n",
       "      <td>0</td>\n",
       "      <td>0</td>\n",
       "    </tr>\n",
       "  </tbody>\n",
       "</table>\n",
       "<p>5282 rows × 19 columns</p>\n",
       "</div>"
      ],
      "text/plain": [
       "      gender  SeniorCitizen  Partner  Dependents  Type  PaperlessBilling  \\\n",
       "1827       0              0        1           1     0                 1   \n",
       "3836       0              0        1           0     1                 0   \n",
       "6893       0              0        1           1     0                 0   \n",
       "5930       0              0        0           0     2                 1   \n",
       "4592       0              0        1           1     1                 1   \n",
       "...      ...            ...      ...         ...   ...               ...   \n",
       "1050       1              1        0           0     0                 1   \n",
       "5233       0              0        1           0     0                 0   \n",
       "1466       1              0        1           1     0                 1   \n",
       "1854       1              1        0           0     0                 1   \n",
       "6040       0              0        0           0     0                 0   \n",
       "\n",
       "      PaymentMethod  MonthlyCharges  ContractPeriod  InternetService  \\\n",
       "1827              0          50.900              46                0   \n",
       "3836              0          58.350              65                0   \n",
       "6893              1          55.900               7                0   \n",
       "5930              0          84.700              72                1   \n",
       "4592              3          24.200              39                2   \n",
       "...             ...             ...             ...              ...   \n",
       "1050              2          43.650              12                0   \n",
       "5233              2         101.150               9                1   \n",
       "1466              2          49.200              12                0   \n",
       "1854              2          43.300               1                0   \n",
       "6040              3          70.750               2                1   \n",
       "\n",
       "      OnlineSecurity  OnlineBackup  DeviceProtection  TechSupport  \\\n",
       "1827               1             0                 0            0   \n",
       "3836               0             0                 1            1   \n",
       "6893               1             1                 0            0   \n",
       "5930               1             0                 0            1   \n",
       "4592               0             0                 0            0   \n",
       "...              ...           ...               ...          ...   \n",
       "1050               0             0                 1            1   \n",
       "5233               0             1                 1            0   \n",
       "1466               1             0                 0            0   \n",
       "1854               0             1                 1            0   \n",
       "6040               0             0                 0            0   \n",
       "\n",
       "      StreamingTV  StreamingMovies  services_count  MultipleLines  \\\n",
       "1827            1                1               3              0   \n",
       "3836            0                0               2              1   \n",
       "6893            0                0               2              0   \n",
       "5930            0                0               2              1   \n",
       "4592            0                0              10              1   \n",
       "...           ...              ...             ...            ...   \n",
       "1050            0                1               3              0   \n",
       "5233            1                1               4              0   \n",
       "1466            0                0               1              0   \n",
       "1854            0                1               3              0   \n",
       "6040            0                0               0              0   \n",
       "\n",
       "      basic_service  \n",
       "1827              1  \n",
       "3836              0  \n",
       "6893              0  \n",
       "5930              0  \n",
       "4592              2  \n",
       "...             ...  \n",
       "1050              1  \n",
       "5233              0  \n",
       "1466              0  \n",
       "1854              1  \n",
       "6040              0  \n",
       "\n",
       "[5282 rows x 19 columns]"
      ]
     },
     "execution_count": 67,
     "metadata": {},
     "output_type": "execute_result"
    }
   ],
   "source": [
    "train_features"
   ]
  },
  {
   "cell_type": "code",
   "execution_count": 65,
   "id": "0fd0b765",
   "metadata": {
    "scrolled": false
   },
   "outputs": [
    {
     "data": {
      "text/html": [
       "<div>\n",
       "<style scoped>\n",
       "    .dataframe tbody tr th:only-of-type {\n",
       "        vertical-align: middle;\n",
       "    }\n",
       "\n",
       "    .dataframe tbody tr th {\n",
       "        vertical-align: top;\n",
       "    }\n",
       "\n",
       "    .dataframe thead th {\n",
       "        text-align: right;\n",
       "    }\n",
       "</style>\n",
       "<table border=\"1\" class=\"dataframe\">\n",
       "  <thead>\n",
       "    <tr style=\"text-align: right;\">\n",
       "      <th></th>\n",
       "      <th>gender</th>\n",
       "      <th>SeniorCitizen</th>\n",
       "      <th>Partner</th>\n",
       "      <th>Dependents</th>\n",
       "      <th>Type</th>\n",
       "      <th>PaperlessBilling</th>\n",
       "      <th>PaymentMethod</th>\n",
       "      <th>MonthlyCharges</th>\n",
       "      <th>ContractPeriod</th>\n",
       "      <th>InternetService</th>\n",
       "      <th>OnlineSecurity</th>\n",
       "      <th>OnlineBackup</th>\n",
       "      <th>DeviceProtection</th>\n",
       "      <th>TechSupport</th>\n",
       "      <th>StreamingTV</th>\n",
       "      <th>StreamingMovies</th>\n",
       "      <th>services_count</th>\n",
       "      <th>MultipleLines</th>\n",
       "      <th>basic_service</th>\n",
       "    </tr>\n",
       "  </thead>\n",
       "  <tbody>\n",
       "    <tr>\n",
       "      <th>5114</th>\n",
       "      <td>0</td>\n",
       "      <td>1</td>\n",
       "      <td>0</td>\n",
       "      <td>0</td>\n",
       "      <td>0</td>\n",
       "      <td>1</td>\n",
       "      <td>2</td>\n",
       "      <td>83.400</td>\n",
       "      <td>51</td>\n",
       "      <td>1</td>\n",
       "      <td>1</td>\n",
       "      <td>1</td>\n",
       "      <td>0</td>\n",
       "      <td>0</td>\n",
       "      <td>0</td>\n",
       "      <td>0</td>\n",
       "      <td>2</td>\n",
       "      <td>1</td>\n",
       "      <td>0</td>\n",
       "    </tr>\n",
       "    <tr>\n",
       "      <th>4804</th>\n",
       "      <td>0</td>\n",
       "      <td>0</td>\n",
       "      <td>0</td>\n",
       "      <td>0</td>\n",
       "      <td>1</td>\n",
       "      <td>1</td>\n",
       "      <td>2</td>\n",
       "      <td>118.600</td>\n",
       "      <td>62</td>\n",
       "      <td>1</td>\n",
       "      <td>1</td>\n",
       "      <td>1</td>\n",
       "      <td>1</td>\n",
       "      <td>1</td>\n",
       "      <td>1</td>\n",
       "      <td>1</td>\n",
       "      <td>6</td>\n",
       "      <td>1</td>\n",
       "      <td>0</td>\n",
       "    </tr>\n",
       "    <tr>\n",
       "      <th>1875</th>\n",
       "      <td>1</td>\n",
       "      <td>0</td>\n",
       "      <td>1</td>\n",
       "      <td>0</td>\n",
       "      <td>2</td>\n",
       "      <td>1</td>\n",
       "      <td>1</td>\n",
       "      <td>114.100</td>\n",
       "      <td>72</td>\n",
       "      <td>1</td>\n",
       "      <td>1</td>\n",
       "      <td>1</td>\n",
       "      <td>1</td>\n",
       "      <td>1</td>\n",
       "      <td>1</td>\n",
       "      <td>1</td>\n",
       "      <td>6</td>\n",
       "      <td>1</td>\n",
       "      <td>0</td>\n",
       "    </tr>\n",
       "    <tr>\n",
       "      <th>3685</th>\n",
       "      <td>1</td>\n",
       "      <td>0</td>\n",
       "      <td>1</td>\n",
       "      <td>0</td>\n",
       "      <td>1</td>\n",
       "      <td>1</td>\n",
       "      <td>0</td>\n",
       "      <td>44.450</td>\n",
       "      <td>51</td>\n",
       "      <td>0</td>\n",
       "      <td>1</td>\n",
       "      <td>0</td>\n",
       "      <td>0</td>\n",
       "      <td>1</td>\n",
       "      <td>1</td>\n",
       "      <td>0</td>\n",
       "      <td>3</td>\n",
       "      <td>0</td>\n",
       "      <td>1</td>\n",
       "    </tr>\n",
       "    <tr>\n",
       "      <th>543</th>\n",
       "      <td>1</td>\n",
       "      <td>0</td>\n",
       "      <td>0</td>\n",
       "      <td>0</td>\n",
       "      <td>0</td>\n",
       "      <td>1</td>\n",
       "      <td>0</td>\n",
       "      <td>86.050</td>\n",
       "      <td>10</td>\n",
       "      <td>1</td>\n",
       "      <td>0</td>\n",
       "      <td>0</td>\n",
       "      <td>0</td>\n",
       "      <td>0</td>\n",
       "      <td>1</td>\n",
       "      <td>0</td>\n",
       "      <td>1</td>\n",
       "      <td>1</td>\n",
       "      <td>0</td>\n",
       "    </tr>\n",
       "    <tr>\n",
       "      <th>...</th>\n",
       "      <td>...</td>\n",
       "      <td>...</td>\n",
       "      <td>...</td>\n",
       "      <td>...</td>\n",
       "      <td>...</td>\n",
       "      <td>...</td>\n",
       "      <td>...</td>\n",
       "      <td>...</td>\n",
       "      <td>...</td>\n",
       "      <td>...</td>\n",
       "      <td>...</td>\n",
       "      <td>...</td>\n",
       "      <td>...</td>\n",
       "      <td>...</td>\n",
       "      <td>...</td>\n",
       "      <td>...</td>\n",
       "      <td>...</td>\n",
       "      <td>...</td>\n",
       "      <td>...</td>\n",
       "    </tr>\n",
       "    <tr>\n",
       "      <th>3865</th>\n",
       "      <td>0</td>\n",
       "      <td>0</td>\n",
       "      <td>0</td>\n",
       "      <td>1</td>\n",
       "      <td>0</td>\n",
       "      <td>0</td>\n",
       "      <td>3</td>\n",
       "      <td>24.000</td>\n",
       "      <td>2</td>\n",
       "      <td>2</td>\n",
       "      <td>0</td>\n",
       "      <td>0</td>\n",
       "      <td>0</td>\n",
       "      <td>0</td>\n",
       "      <td>0</td>\n",
       "      <td>0</td>\n",
       "      <td>10</td>\n",
       "      <td>1</td>\n",
       "      <td>2</td>\n",
       "    </tr>\n",
       "    <tr>\n",
       "      <th>3578</th>\n",
       "      <td>0</td>\n",
       "      <td>0</td>\n",
       "      <td>0</td>\n",
       "      <td>0</td>\n",
       "      <td>0</td>\n",
       "      <td>0</td>\n",
       "      <td>3</td>\n",
       "      <td>65.100</td>\n",
       "      <td>41</td>\n",
       "      <td>0</td>\n",
       "      <td>1</td>\n",
       "      <td>1</td>\n",
       "      <td>0</td>\n",
       "      <td>0</td>\n",
       "      <td>1</td>\n",
       "      <td>0</td>\n",
       "      <td>3</td>\n",
       "      <td>0</td>\n",
       "      <td>0</td>\n",
       "    </tr>\n",
       "    <tr>\n",
       "      <th>3506</th>\n",
       "      <td>1</td>\n",
       "      <td>0</td>\n",
       "      <td>0</td>\n",
       "      <td>0</td>\n",
       "      <td>0</td>\n",
       "      <td>1</td>\n",
       "      <td>2</td>\n",
       "      <td>84.750</td>\n",
       "      <td>20</td>\n",
       "      <td>1</td>\n",
       "      <td>1</td>\n",
       "      <td>0</td>\n",
       "      <td>1</td>\n",
       "      <td>0</td>\n",
       "      <td>0</td>\n",
       "      <td>0</td>\n",
       "      <td>2</td>\n",
       "      <td>1</td>\n",
       "      <td>0</td>\n",
       "    </tr>\n",
       "    <tr>\n",
       "      <th>460</th>\n",
       "      <td>1</td>\n",
       "      <td>0</td>\n",
       "      <td>0</td>\n",
       "      <td>1</td>\n",
       "      <td>0</td>\n",
       "      <td>0</td>\n",
       "      <td>3</td>\n",
       "      <td>19.650</td>\n",
       "      <td>7</td>\n",
       "      <td>2</td>\n",
       "      <td>0</td>\n",
       "      <td>0</td>\n",
       "      <td>0</td>\n",
       "      <td>0</td>\n",
       "      <td>0</td>\n",
       "      <td>0</td>\n",
       "      <td>10</td>\n",
       "      <td>0</td>\n",
       "      <td>2</td>\n",
       "    </tr>\n",
       "    <tr>\n",
       "      <th>4291</th>\n",
       "      <td>0</td>\n",
       "      <td>0</td>\n",
       "      <td>1</td>\n",
       "      <td>1</td>\n",
       "      <td>2</td>\n",
       "      <td>0</td>\n",
       "      <td>0</td>\n",
       "      <td>110.300</td>\n",
       "      <td>65</td>\n",
       "      <td>1</td>\n",
       "      <td>1</td>\n",
       "      <td>1</td>\n",
       "      <td>0</td>\n",
       "      <td>1</td>\n",
       "      <td>1</td>\n",
       "      <td>1</td>\n",
       "      <td>5</td>\n",
       "      <td>1</td>\n",
       "      <td>0</td>\n",
       "    </tr>\n",
       "  </tbody>\n",
       "</table>\n",
       "<p>1761 rows × 19 columns</p>\n",
       "</div>"
      ],
      "text/plain": [
       "      gender  SeniorCitizen  Partner  Dependents  Type  PaperlessBilling  \\\n",
       "5114       0              1        0           0     0                 1   \n",
       "4804       0              0        0           0     1                 1   \n",
       "1875       1              0        1           0     2                 1   \n",
       "3685       1              0        1           0     1                 1   \n",
       "543        1              0        0           0     0                 1   \n",
       "...      ...            ...      ...         ...   ...               ...   \n",
       "3865       0              0        0           1     0                 0   \n",
       "3578       0              0        0           0     0                 0   \n",
       "3506       1              0        0           0     0                 1   \n",
       "460        1              0        0           1     0                 0   \n",
       "4291       0              0        1           1     2                 0   \n",
       "\n",
       "      PaymentMethod  MonthlyCharges  ContractPeriod  InternetService  \\\n",
       "5114              2          83.400              51                1   \n",
       "4804              2         118.600              62                1   \n",
       "1875              1         114.100              72                1   \n",
       "3685              0          44.450              51                0   \n",
       "543               0          86.050              10                1   \n",
       "...             ...             ...             ...              ...   \n",
       "3865              3          24.000               2                2   \n",
       "3578              3          65.100              41                0   \n",
       "3506              2          84.750              20                1   \n",
       "460               3          19.650               7                2   \n",
       "4291              0         110.300              65                1   \n",
       "\n",
       "      OnlineSecurity  OnlineBackup  DeviceProtection  TechSupport  \\\n",
       "5114               1             1                 0            0   \n",
       "4804               1             1                 1            1   \n",
       "1875               1             1                 1            1   \n",
       "3685               1             0                 0            1   \n",
       "543                0             0                 0            0   \n",
       "...              ...           ...               ...          ...   \n",
       "3865               0             0                 0            0   \n",
       "3578               1             1                 0            0   \n",
       "3506               1             0                 1            0   \n",
       "460                0             0                 0            0   \n",
       "4291               1             1                 0            1   \n",
       "\n",
       "      StreamingTV  StreamingMovies  services_count  MultipleLines  \\\n",
       "5114            0                0               2              1   \n",
       "4804            1                1               6              1   \n",
       "1875            1                1               6              1   \n",
       "3685            1                0               3              0   \n",
       "543             1                0               1              1   \n",
       "...           ...              ...             ...            ...   \n",
       "3865            0                0              10              1   \n",
       "3578            1                0               3              0   \n",
       "3506            0                0               2              1   \n",
       "460             0                0              10              0   \n",
       "4291            1                1               5              1   \n",
       "\n",
       "      basic_service  \n",
       "5114              0  \n",
       "4804              0  \n",
       "1875              0  \n",
       "3685              1  \n",
       "543               0  \n",
       "...             ...  \n",
       "3865              2  \n",
       "3578              0  \n",
       "3506              0  \n",
       "460               2  \n",
       "4291              0  \n",
       "\n",
       "[1761 rows x 19 columns]"
      ]
     },
     "execution_count": 65,
     "metadata": {},
     "output_type": "execute_result"
    }
   ],
   "source": [
    "test_features"
   ]
  },
  {
   "cell_type": "code",
   "execution_count": 66,
   "id": "7890ff41",
   "metadata": {
    "scrolled": true
   },
   "outputs": [
    {
     "name": "stdout",
     "output_type": "stream",
     "text": [
      "<class 'pandas.core.frame.DataFrame'>\n",
      "Int64Index: 5282 entries, 1827 to 6040\n",
      "Data columns (total 19 columns):\n",
      " #   Column            Non-Null Count  Dtype  \n",
      "---  ------            --------------  -----  \n",
      " 0   gender            5282 non-null   int64  \n",
      " 1   SeniorCitizen     5282 non-null   int64  \n",
      " 2   Partner           5282 non-null   int64  \n",
      " 3   Dependents        5282 non-null   int64  \n",
      " 4   Type              5282 non-null   int64  \n",
      " 5   PaperlessBilling  5282 non-null   int64  \n",
      " 6   PaymentMethod     5282 non-null   int64  \n",
      " 7   MonthlyCharges    5282 non-null   float64\n",
      " 8   ContractPeriod    5282 non-null   int64  \n",
      " 9   InternetService   5282 non-null   int64  \n",
      " 10  OnlineSecurity    5282 non-null   int64  \n",
      " 11  OnlineBackup      5282 non-null   int64  \n",
      " 12  DeviceProtection  5282 non-null   int64  \n",
      " 13  TechSupport       5282 non-null   int64  \n",
      " 14  StreamingTV       5282 non-null   int64  \n",
      " 15  StreamingMovies   5282 non-null   int64  \n",
      " 16  services_count    5282 non-null   int64  \n",
      " 17  MultipleLines     5282 non-null   int64  \n",
      " 18  basic_service     5282 non-null   int64  \n",
      "dtypes: float64(1), int64(18)\n",
      "memory usage: 825.3 KB\n"
     ]
    }
   ],
   "source": [
    "train_features.info()"
   ]
  },
  {
   "cell_type": "markdown",
   "id": "f690c35a",
   "metadata": {},
   "source": [
    "#### Вывод:\n",
    "\n",
    "Все категориальные признаки перекодированы в цифровой вид, это позволит нам использовать их в обучении разных моделей, в том числе и тех, которые не умеют работать с обычныеми категориальными признаками."
   ]
  },
  {
   "cell_type": "markdown",
   "id": "f4c80543",
   "metadata": {},
   "source": [
    "**Стандартизация**"
   ]
  },
  {
   "cell_type": "markdown",
   "id": "45da731a",
   "metadata": {},
   "source": [
    "Осталось разобраться с непрерывными числовыми столбцами. Для того, чтобы модель не считала эти столбцы более важными из-за наличия больших значений проведем стандартизацию этих столбцов, т.е. перекодируем значения таким образом, чтобы среднее их было равно 0, а стандартное отклонение 1"
   ]
  },
  {
   "cell_type": "code",
   "execution_count": 487,
   "id": "81e6142d",
   "metadata": {},
   "outputs": [],
   "source": [
    "numeric = ['MonthlyCharges']"
   ]
  },
  {
   "cell_type": "code",
   "execution_count": 488,
   "id": "cc140bac",
   "metadata": {
    "scrolled": true
   },
   "outputs": [
    {
     "data": {
      "text/html": [
       "<div>\n",
       "<style scoped>\n",
       "    .dataframe tbody tr th:only-of-type {\n",
       "        vertical-align: middle;\n",
       "    }\n",
       "\n",
       "    .dataframe tbody tr th {\n",
       "        vertical-align: top;\n",
       "    }\n",
       "\n",
       "    .dataframe thead th {\n",
       "        text-align: right;\n",
       "    }\n",
       "</style>\n",
       "<table border=\"1\" class=\"dataframe\">\n",
       "  <thead>\n",
       "    <tr style=\"text-align: right;\">\n",
       "      <th></th>\n",
       "      <th>gender</th>\n",
       "      <th>SeniorCitizen</th>\n",
       "      <th>Partner</th>\n",
       "      <th>Dependents</th>\n",
       "      <th>Type</th>\n",
       "      <th>PaperlessBilling</th>\n",
       "      <th>PaymentMethod</th>\n",
       "      <th>MonthlyCharges</th>\n",
       "      <th>ContractPeriod</th>\n",
       "      <th>InternetService</th>\n",
       "      <th>OnlineSecurity</th>\n",
       "      <th>OnlineBackup</th>\n",
       "      <th>DeviceProtection</th>\n",
       "      <th>TechSupport</th>\n",
       "      <th>StreamingTV</th>\n",
       "      <th>StreamingMovies</th>\n",
       "      <th>services_count</th>\n",
       "      <th>MultipleLines</th>\n",
       "      <th>basic_service</th>\n",
       "    </tr>\n",
       "  </thead>\n",
       "  <tbody>\n",
       "    <tr>\n",
       "      <th>1827</th>\n",
       "      <td>0</td>\n",
       "      <td>0</td>\n",
       "      <td>1</td>\n",
       "      <td>1</td>\n",
       "      <td>0</td>\n",
       "      <td>1</td>\n",
       "      <td>0</td>\n",
       "      <td>-0.453</td>\n",
       "      <td>46</td>\n",
       "      <td>0</td>\n",
       "      <td>1</td>\n",
       "      <td>0</td>\n",
       "      <td>0</td>\n",
       "      <td>0</td>\n",
       "      <td>1</td>\n",
       "      <td>1</td>\n",
       "      <td>3</td>\n",
       "      <td>0</td>\n",
       "      <td>1</td>\n",
       "    </tr>\n",
       "    <tr>\n",
       "      <th>3836</th>\n",
       "      <td>0</td>\n",
       "      <td>0</td>\n",
       "      <td>1</td>\n",
       "      <td>0</td>\n",
       "      <td>1</td>\n",
       "      <td>0</td>\n",
       "      <td>0</td>\n",
       "      <td>-0.206</td>\n",
       "      <td>65</td>\n",
       "      <td>0</td>\n",
       "      <td>0</td>\n",
       "      <td>0</td>\n",
       "      <td>1</td>\n",
       "      <td>1</td>\n",
       "      <td>0</td>\n",
       "      <td>0</td>\n",
       "      <td>2</td>\n",
       "      <td>1</td>\n",
       "      <td>0</td>\n",
       "    </tr>\n",
       "    <tr>\n",
       "      <th>6893</th>\n",
       "      <td>0</td>\n",
       "      <td>0</td>\n",
       "      <td>1</td>\n",
       "      <td>1</td>\n",
       "      <td>0</td>\n",
       "      <td>0</td>\n",
       "      <td>1</td>\n",
       "      <td>-0.288</td>\n",
       "      <td>7</td>\n",
       "      <td>0</td>\n",
       "      <td>1</td>\n",
       "      <td>1</td>\n",
       "      <td>0</td>\n",
       "      <td>0</td>\n",
       "      <td>0</td>\n",
       "      <td>0</td>\n",
       "      <td>2</td>\n",
       "      <td>0</td>\n",
       "      <td>0</td>\n",
       "    </tr>\n",
       "    <tr>\n",
       "      <th>5930</th>\n",
       "      <td>0</td>\n",
       "      <td>0</td>\n",
       "      <td>0</td>\n",
       "      <td>0</td>\n",
       "      <td>2</td>\n",
       "      <td>1</td>\n",
       "      <td>0</td>\n",
       "      <td>0.667</td>\n",
       "      <td>72</td>\n",
       "      <td>1</td>\n",
       "      <td>1</td>\n",
       "      <td>0</td>\n",
       "      <td>0</td>\n",
       "      <td>1</td>\n",
       "      <td>0</td>\n",
       "      <td>0</td>\n",
       "      <td>2</td>\n",
       "      <td>1</td>\n",
       "      <td>0</td>\n",
       "    </tr>\n",
       "    <tr>\n",
       "      <th>4592</th>\n",
       "      <td>0</td>\n",
       "      <td>0</td>\n",
       "      <td>1</td>\n",
       "      <td>1</td>\n",
       "      <td>1</td>\n",
       "      <td>1</td>\n",
       "      <td>3</td>\n",
       "      <td>-1.338</td>\n",
       "      <td>39</td>\n",
       "      <td>2</td>\n",
       "      <td>0</td>\n",
       "      <td>0</td>\n",
       "      <td>0</td>\n",
       "      <td>0</td>\n",
       "      <td>0</td>\n",
       "      <td>0</td>\n",
       "      <td>10</td>\n",
       "      <td>1</td>\n",
       "      <td>2</td>\n",
       "    </tr>\n",
       "    <tr>\n",
       "      <th>...</th>\n",
       "      <td>...</td>\n",
       "      <td>...</td>\n",
       "      <td>...</td>\n",
       "      <td>...</td>\n",
       "      <td>...</td>\n",
       "      <td>...</td>\n",
       "      <td>...</td>\n",
       "      <td>...</td>\n",
       "      <td>...</td>\n",
       "      <td>...</td>\n",
       "      <td>...</td>\n",
       "      <td>...</td>\n",
       "      <td>...</td>\n",
       "      <td>...</td>\n",
       "      <td>...</td>\n",
       "      <td>...</td>\n",
       "      <td>...</td>\n",
       "      <td>...</td>\n",
       "      <td>...</td>\n",
       "    </tr>\n",
       "    <tr>\n",
       "      <th>1050</th>\n",
       "      <td>1</td>\n",
       "      <td>1</td>\n",
       "      <td>0</td>\n",
       "      <td>0</td>\n",
       "      <td>0</td>\n",
       "      <td>1</td>\n",
       "      <td>2</td>\n",
       "      <td>-0.694</td>\n",
       "      <td>12</td>\n",
       "      <td>0</td>\n",
       "      <td>0</td>\n",
       "      <td>0</td>\n",
       "      <td>1</td>\n",
       "      <td>1</td>\n",
       "      <td>0</td>\n",
       "      <td>1</td>\n",
       "      <td>3</td>\n",
       "      <td>0</td>\n",
       "      <td>1</td>\n",
       "    </tr>\n",
       "    <tr>\n",
       "      <th>5233</th>\n",
       "      <td>0</td>\n",
       "      <td>0</td>\n",
       "      <td>1</td>\n",
       "      <td>0</td>\n",
       "      <td>0</td>\n",
       "      <td>0</td>\n",
       "      <td>2</td>\n",
       "      <td>1.212</td>\n",
       "      <td>9</td>\n",
       "      <td>1</td>\n",
       "      <td>0</td>\n",
       "      <td>1</td>\n",
       "      <td>1</td>\n",
       "      <td>0</td>\n",
       "      <td>1</td>\n",
       "      <td>1</td>\n",
       "      <td>4</td>\n",
       "      <td>0</td>\n",
       "      <td>0</td>\n",
       "    </tr>\n",
       "    <tr>\n",
       "      <th>1466</th>\n",
       "      <td>1</td>\n",
       "      <td>0</td>\n",
       "      <td>1</td>\n",
       "      <td>1</td>\n",
       "      <td>0</td>\n",
       "      <td>1</td>\n",
       "      <td>2</td>\n",
       "      <td>-0.510</td>\n",
       "      <td>12</td>\n",
       "      <td>0</td>\n",
       "      <td>1</td>\n",
       "      <td>0</td>\n",
       "      <td>0</td>\n",
       "      <td>0</td>\n",
       "      <td>0</td>\n",
       "      <td>0</td>\n",
       "      <td>1</td>\n",
       "      <td>0</td>\n",
       "      <td>0</td>\n",
       "    </tr>\n",
       "    <tr>\n",
       "      <th>1854</th>\n",
       "      <td>1</td>\n",
       "      <td>1</td>\n",
       "      <td>0</td>\n",
       "      <td>0</td>\n",
       "      <td>0</td>\n",
       "      <td>1</td>\n",
       "      <td>2</td>\n",
       "      <td>-0.705</td>\n",
       "      <td>1</td>\n",
       "      <td>0</td>\n",
       "      <td>0</td>\n",
       "      <td>1</td>\n",
       "      <td>1</td>\n",
       "      <td>0</td>\n",
       "      <td>0</td>\n",
       "      <td>1</td>\n",
       "      <td>3</td>\n",
       "      <td>0</td>\n",
       "      <td>1</td>\n",
       "    </tr>\n",
       "    <tr>\n",
       "      <th>6040</th>\n",
       "      <td>0</td>\n",
       "      <td>0</td>\n",
       "      <td>0</td>\n",
       "      <td>0</td>\n",
       "      <td>0</td>\n",
       "      <td>0</td>\n",
       "      <td>3</td>\n",
       "      <td>0.205</td>\n",
       "      <td>2</td>\n",
       "      <td>1</td>\n",
       "      <td>0</td>\n",
       "      <td>0</td>\n",
       "      <td>0</td>\n",
       "      <td>0</td>\n",
       "      <td>0</td>\n",
       "      <td>0</td>\n",
       "      <td>0</td>\n",
       "      <td>0</td>\n",
       "      <td>0</td>\n",
       "    </tr>\n",
       "  </tbody>\n",
       "</table>\n",
       "<p>5282 rows × 19 columns</p>\n",
       "</div>"
      ],
      "text/plain": [
       "      gender  SeniorCitizen  Partner  Dependents  Type  PaperlessBilling  \\\n",
       "1827       0              0        1           1     0                 1   \n",
       "3836       0              0        1           0     1                 0   \n",
       "6893       0              0        1           1     0                 0   \n",
       "5930       0              0        0           0     2                 1   \n",
       "4592       0              0        1           1     1                 1   \n",
       "...      ...            ...      ...         ...   ...               ...   \n",
       "1050       1              1        0           0     0                 1   \n",
       "5233       0              0        1           0     0                 0   \n",
       "1466       1              0        1           1     0                 1   \n",
       "1854       1              1        0           0     0                 1   \n",
       "6040       0              0        0           0     0                 0   \n",
       "\n",
       "      PaymentMethod  MonthlyCharges  ContractPeriod  InternetService  \\\n",
       "1827              0          -0.453              46                0   \n",
       "3836              0          -0.206              65                0   \n",
       "6893              1          -0.288               7                0   \n",
       "5930              0           0.667              72                1   \n",
       "4592              3          -1.338              39                2   \n",
       "...             ...             ...             ...              ...   \n",
       "1050              2          -0.694              12                0   \n",
       "5233              2           1.212               9                1   \n",
       "1466              2          -0.510              12                0   \n",
       "1854              2          -0.705               1                0   \n",
       "6040              3           0.205               2                1   \n",
       "\n",
       "      OnlineSecurity  OnlineBackup  DeviceProtection  TechSupport  \\\n",
       "1827               1             0                 0            0   \n",
       "3836               0             0                 1            1   \n",
       "6893               1             1                 0            0   \n",
       "5930               1             0                 0            1   \n",
       "4592               0             0                 0            0   \n",
       "...              ...           ...               ...          ...   \n",
       "1050               0             0                 1            1   \n",
       "5233               0             1                 1            0   \n",
       "1466               1             0                 0            0   \n",
       "1854               0             1                 1            0   \n",
       "6040               0             0                 0            0   \n",
       "\n",
       "      StreamingTV  StreamingMovies  services_count  MultipleLines  \\\n",
       "1827            1                1               3              0   \n",
       "3836            0                0               2              1   \n",
       "6893            0                0               2              0   \n",
       "5930            0                0               2              1   \n",
       "4592            0                0              10              1   \n",
       "...           ...              ...             ...            ...   \n",
       "1050            0                1               3              0   \n",
       "5233            1                1               4              0   \n",
       "1466            0                0               1              0   \n",
       "1854            0                1               3              0   \n",
       "6040            0                0               0              0   \n",
       "\n",
       "      basic_service  \n",
       "1827              1  \n",
       "3836              0  \n",
       "6893              0  \n",
       "5930              0  \n",
       "4592              2  \n",
       "...             ...  \n",
       "1050              1  \n",
       "5233              0  \n",
       "1466              0  \n",
       "1854              1  \n",
       "6040              0  \n",
       "\n",
       "[5282 rows x 19 columns]"
      ]
     },
     "execution_count": 488,
     "metadata": {},
     "output_type": "execute_result"
    }
   ],
   "source": [
    "scaler = StandardScaler()\n",
    "scaler.fit(train_features[numeric]) \n",
    "\n",
    "for elem in train_features, test_features:\n",
    "    elem[numeric] = scaler.transform(elem[numeric])\n",
    "train_features"
   ]
  },
  {
   "cell_type": "markdown",
   "id": "84e862d4",
   "metadata": {},
   "source": [
    "#### Вывод:\n",
    "Стандартизирован столбец 'MonthlyCharges'"
   ]
  },
  {
   "cell_type": "markdown",
   "id": "e4aa0f05",
   "metadata": {},
   "source": [
    "#### Устранение дисбаланса классов"
   ]
  },
  {
   "cell_type": "code",
   "execution_count": 489,
   "id": "28ef74f1",
   "metadata": {
    "scrolled": true
   },
   "outputs": [
    {
     "data": {
      "text/plain": [
       "(0   0.735\n",
       " 1   0.265\n",
       " Name: IsChurn, dtype: float64,\n",
       " 0   0.734\n",
       " 1   0.266\n",
       " Name: IsChurn, dtype: float64)"
      ]
     },
     "execution_count": 489,
     "metadata": {},
     "output_type": "execute_result"
    }
   ],
   "source": [
    "train_target.value_counts(1), test_target.value_counts(1)"
   ]
  },
  {
   "cell_type": "markdown",
   "id": "ae4fc86b",
   "metadata": {},
   "source": [
    "Поскольку наша основная метрика не чувствительна к дисбалансу классов, оптимальным решением видится подбор порога классификации. Это не изменит иетрику ROC_AUC, но позволит максимизировать вторичную метрику Accuracy. Сделаем это на этапе обучения моделей путем написания и применения соответствующей функции."
   ]
  },
  {
   "cell_type": "markdown",
   "id": "0a54486a",
   "metadata": {},
   "source": [
    "#### Вывод:\n",
    "\n",
    "Используем метод изменения порога классификации"
   ]
  },
  {
   "cell_type": "markdown",
   "id": "b3bbfcea",
   "metadata": {},
   "source": [
    "### Обучение моделей"
   ]
  },
  {
   "cell_type": "code",
   "execution_count": 490,
   "id": "d8ec274f",
   "metadata": {},
   "outputs": [],
   "source": [
    "def model_fit(model):\n",
    "    model.fit(train_features, train_target)"
   ]
  },
  {
   "cell_type": "code",
   "execution_count": 491,
   "id": "58605513",
   "metadata": {},
   "outputs": [],
   "source": [
    "def model_train_results(model, threshold):\n",
    "    # train_predictions = model.predict(train_features)\n",
    "    model_fit(model)\n",
    "    train_prob_one = model.predict_proba(train_features)[:, 1]\n",
    "    train_predictions = train_prob_one > threshold\n",
    "    roc_auc = roc_auc_score(train_target, train_prob_one)\n",
    "    accuracy = accuracy_score(train_target, train_predictions)\n",
    "    return roc_auc, accuracy"
   ]
  },
  {
   "cell_type": "code",
   "execution_count": 492,
   "id": "38f77890",
   "metadata": {},
   "outputs": [],
   "source": [
    "def threshold_sel(model):\n",
    "    model_fit(model)\n",
    "    best_threshold = 0\n",
    "    best_rocauc = 0\n",
    "    best_accuracy = 0\n",
    "    for threshold in np.arange(0.1, 0.5, 0.02):\n",
    "        roc_auc, accuracy = model_train_results(model, threshold)\n",
    "        if accuracy > best_accuracy:\n",
    "            best_threshold, best_rocauc, best_accuracy = threshold, roc_auc, accuracy\n",
    "        print(threshold, roc_auc, accuracy)\n",
    "    return str(model), best_threshold, best_rocauc, best_accuracy"
   ]
  },
  {
   "cell_type": "code",
   "execution_count": 493,
   "id": "dcdd10cc",
   "metadata": {},
   "outputs": [],
   "source": [
    "training_results = []"
   ]
  },
  {
   "cell_type": "markdown",
   "id": "c731501d",
   "metadata": {},
   "source": [
    "Обучим ряд известных нам моделей и подберем оптимальные гиперпараметры для них"
   ]
  },
  {
   "cell_type": "markdown",
   "id": "59ede10c",
   "metadata": {},
   "source": [
    "**1. Логистическая регрессия**"
   ]
  },
  {
   "cell_type": "markdown",
   "id": "130a898f",
   "metadata": {},
   "source": [
    "Для проверки на мультиколлинеарность построим тепловую карту корреляций между признаками"
   ]
  },
  {
   "cell_type": "code",
   "execution_count": 72,
   "id": "c5bf5208",
   "metadata": {
    "scrolled": true
   },
   "outputs": [
    {
     "name": "stderr",
     "output_type": "stream",
     "text": [
      "C:\\ProgramData\\Anaconda3\\lib\\site-packages\\sklearn\\model_selection\\_search.py:285: UserWarning: The total space of parameters 5 is smaller than n_iter=10. Running 5 iterations. For exhaustive searches, use GridSearchCV.\n",
      "  warnings.warn(\n"
     ]
    },
    {
     "name": "stdout",
     "output_type": "stream",
     "text": [
      "Fitting 5 folds for each of 5 candidates, totalling 25 fits\n",
      "[CV 1/5] END ......penalty=l2, solver=newton-cg;, score=0.851 total time=   0.0s\n",
      "[CV 2/5] END ......penalty=l2, solver=newton-cg;, score=0.854 total time=   0.0s\n",
      "[CV 3/5] END ......penalty=l2, solver=newton-cg;, score=0.839 total time=   0.0s\n",
      "[CV 4/5] END ......penalty=l2, solver=newton-cg;, score=0.822 total time=   0.1s\n",
      "[CV 5/5] END ......penalty=l2, solver=newton-cg;, score=0.848 total time=   0.1s\n"
     ]
    },
    {
     "name": "stderr",
     "output_type": "stream",
     "text": [
      "C:\\ProgramData\\Anaconda3\\lib\\site-packages\\sklearn\\linear_model\\_sag.py:328: ConvergenceWarning: The max_iter was reached which means the coef_ did not converge\n",
      "  warnings.warn(\"The max_iter was reached which means \"\n"
     ]
    },
    {
     "name": "stdout",
     "output_type": "stream",
     "text": [
      "[CV 1/5] END ...........penalty=l2, solver=saga;, score=0.850 total time=   2.5s\n"
     ]
    },
    {
     "name": "stderr",
     "output_type": "stream",
     "text": [
      "C:\\ProgramData\\Anaconda3\\lib\\site-packages\\sklearn\\linear_model\\_sag.py:328: ConvergenceWarning: The max_iter was reached which means the coef_ did not converge\n",
      "  warnings.warn(\"The max_iter was reached which means \"\n"
     ]
    },
    {
     "name": "stdout",
     "output_type": "stream",
     "text": [
      "[CV 2/5] END ...........penalty=l2, solver=saga;, score=0.853 total time=   2.6s\n"
     ]
    },
    {
     "name": "stderr",
     "output_type": "stream",
     "text": [
      "C:\\ProgramData\\Anaconda3\\lib\\site-packages\\sklearn\\linear_model\\_sag.py:328: ConvergenceWarning: The max_iter was reached which means the coef_ did not converge\n",
      "  warnings.warn(\"The max_iter was reached which means \"\n"
     ]
    },
    {
     "name": "stdout",
     "output_type": "stream",
     "text": [
      "[CV 3/5] END ...........penalty=l2, solver=saga;, score=0.839 total time=   2.1s\n"
     ]
    },
    {
     "name": "stderr",
     "output_type": "stream",
     "text": [
      "C:\\ProgramData\\Anaconda3\\lib\\site-packages\\sklearn\\linear_model\\_sag.py:328: ConvergenceWarning: The max_iter was reached which means the coef_ did not converge\n",
      "  warnings.warn(\"The max_iter was reached which means \"\n"
     ]
    },
    {
     "name": "stdout",
     "output_type": "stream",
     "text": [
      "[CV 4/5] END ...........penalty=l2, solver=saga;, score=0.822 total time=   2.2s\n",
      "[CV 5/5] END ...........penalty=l2, solver=saga;, score=0.848 total time=   1.4s\n",
      "[CV 1/5] END ......penalty=l2, solver=newton-cg;, score=0.851 total time=   0.0s\n",
      "[CV 2/5] END ......penalty=l2, solver=newton-cg;, score=0.854 total time=   0.0s\n",
      "[CV 3/5] END ......penalty=l2, solver=newton-cg;, score=0.839 total time=   0.0s\n",
      "[CV 4/5] END ......penalty=l2, solver=newton-cg;, score=0.822 total time=   0.0s\n",
      "[CV 5/5] END ......penalty=l2, solver=newton-cg;, score=0.848 total time=   0.1s\n",
      "[CV 1/5] END ..........penalty=l2, solver=lbfgs;, score=0.851 total time=   0.3s\n",
      "[CV 2/5] END ..........penalty=l2, solver=lbfgs;, score=0.854 total time=   0.0s\n",
      "[CV 3/5] END ..........penalty=l2, solver=lbfgs;, score=0.839 total time=   0.1s\n",
      "[CV 4/5] END ..........penalty=l2, solver=lbfgs;, score=0.822 total time=   0.1s\n",
      "[CV 5/5] END ..........penalty=l2, solver=lbfgs;, score=0.848 total time=   0.1s\n"
     ]
    },
    {
     "name": "stderr",
     "output_type": "stream",
     "text": [
      "C:\\ProgramData\\Anaconda3\\lib\\site-packages\\sklearn\\linear_model\\_sag.py:328: ConvergenceWarning: The max_iter was reached which means the coef_ did not converge\n",
      "  warnings.warn(\"The max_iter was reached which means \"\n"
     ]
    },
    {
     "name": "stdout",
     "output_type": "stream",
     "text": [
      "[CV 1/5] END ............penalty=l2, solver=sag;, score=0.850 total time=   1.8s\n"
     ]
    },
    {
     "name": "stderr",
     "output_type": "stream",
     "text": [
      "C:\\ProgramData\\Anaconda3\\lib\\site-packages\\sklearn\\linear_model\\_sag.py:328: ConvergenceWarning: The max_iter was reached which means the coef_ did not converge\n",
      "  warnings.warn(\"The max_iter was reached which means \"\n"
     ]
    },
    {
     "name": "stdout",
     "output_type": "stream",
     "text": [
      "[CV 2/5] END ............penalty=l2, solver=sag;, score=0.853 total time=   1.5s\n"
     ]
    },
    {
     "name": "stderr",
     "output_type": "stream",
     "text": [
      "C:\\ProgramData\\Anaconda3\\lib\\site-packages\\sklearn\\linear_model\\_sag.py:328: ConvergenceWarning: The max_iter was reached which means the coef_ did not converge\n",
      "  warnings.warn(\"The max_iter was reached which means \"\n"
     ]
    },
    {
     "name": "stdout",
     "output_type": "stream",
     "text": [
      "[CV 3/5] END ............penalty=l2, solver=sag;, score=0.839 total time=   1.6s\n"
     ]
    },
    {
     "name": "stderr",
     "output_type": "stream",
     "text": [
      "C:\\ProgramData\\Anaconda3\\lib\\site-packages\\sklearn\\linear_model\\_sag.py:328: ConvergenceWarning: The max_iter was reached which means the coef_ did not converge\n",
      "  warnings.warn(\"The max_iter was reached which means \"\n"
     ]
    },
    {
     "name": "stdout",
     "output_type": "stream",
     "text": [
      "[CV 4/5] END ............penalty=l2, solver=sag;, score=0.822 total time=   1.5s\n"
     ]
    },
    {
     "name": "stderr",
     "output_type": "stream",
     "text": [
      "C:\\ProgramData\\Anaconda3\\lib\\site-packages\\sklearn\\linear_model\\_sag.py:328: ConvergenceWarning: The max_iter was reached which means the coef_ did not converge\n",
      "  warnings.warn(\"The max_iter was reached which means \"\n"
     ]
    },
    {
     "name": "stdout",
     "output_type": "stream",
     "text": [
      "[CV 5/5] END ............penalty=l2, solver=sag;, score=0.848 total time=   1.6s\n"
     ]
    },
    {
     "data": {
      "text/plain": [
       "{'solver': 'lbfgs', 'penalty': 'l2'}"
      ]
     },
     "execution_count": 72,
     "metadata": {},
     "output_type": "execute_result"
    }
   ],
   "source": [
    "model = LogisticRegression(max_iter=1000, random_state=120922)\n",
    "solver = ['newton-cg', 'saga', 'newton-cg', 'lbfgs', 'sag']\n",
    "penalty = ['l2']\n",
    "params = {'penalty': penalty, 'solver': solver,}\n",
    "lr_model = RandomizedSearchCV(model, params, verbose=3, scoring='roc_auc', random_state=120922)\n",
    "lr_model.fit(train_features, train_target)\n",
    "lr_best_params = lr_model.best_params_\n",
    "lr_best_params"
   ]
  },
  {
   "cell_type": "code",
   "execution_count": 494,
   "id": "d27135f7",
   "metadata": {},
   "outputs": [],
   "source": [
    "# lr_best_params = {'solver': 'lbfgs', 'penalty': 'l2'}"
   ]
  },
  {
   "cell_type": "code",
   "execution_count": 495,
   "id": "05b7a796",
   "metadata": {},
   "outputs": [],
   "source": [
    "lr_model_searched = LogisticRegression(**lr_best_params, max_iter=1000, random_state=120922)"
   ]
  },
  {
   "cell_type": "code",
   "execution_count": 496,
   "id": "0300d403",
   "metadata": {},
   "outputs": [],
   "source": [
    "lr_model_default = LogisticRegression(max_iter=1000, random_state=120922)"
   ]
  },
  {
   "cell_type": "code",
   "execution_count": 497,
   "id": "0c1eaf6d",
   "metadata": {
    "scrolled": false
   },
   "outputs": [
    {
     "name": "stdout",
     "output_type": "stream",
     "text": [
      "0.1 0.8452369851769661 0.6082923135176069\n",
      "0.12000000000000001 0.8452369851769661 0.6323362362741386\n",
      "0.14 0.8452369851769661 0.6550549034456645\n",
      "0.16000000000000003 0.8452369851769661 0.6745550927678909\n",
      "0.18000000000000002 0.8452369851769661 0.691404770920106\n",
      "0.2 0.8452369851769661 0.7107156380159031\n",
      "0.22000000000000003 0.8452369851769661 0.722074971601666\n",
      "0.24000000000000002 0.8452369851769661 0.733434305187429\n",
      "0.26 0.8452369851769661 0.7455509276789095\n",
      "0.28 0.8452369851769661 0.7552063612268081\n",
      "0.30000000000000004 0.8452369851769661 0.7637258614161303\n",
      "0.32000000000000006 0.8452369851769661 0.7701628171147292\n",
      "0.3400000000000001 0.8452369851769661 0.7756531616811814\n",
      "0.3600000000000001 0.8452369851769661 0.7817114729269217\n",
      "0.38 0.8452369851769661 0.7877697841726619\n",
      "0.4 0.8452369851769661 0.7923135176069671\n",
      "0.42000000000000004 0.8452369851769661 0.7926921620598258\n",
      "0.44000000000000006 0.8452369851769661 0.7955319954562665\n",
      "0.4600000000000001 0.8452369851769661 0.799697084437713\n",
      "0.4800000000000001 0.8452369851769661 0.8038621734191594\n"
     ]
    }
   ],
   "source": [
    "training_results.append(threshold_sel(lr_model_searched))"
   ]
  },
  {
   "cell_type": "code",
   "execution_count": 498,
   "id": "de66d1f1",
   "metadata": {},
   "outputs": [
    {
     "name": "stdout",
     "output_type": "stream",
     "text": [
      "0.1 0.8452369851769661 0.6082923135176069\n",
      "0.12000000000000001 0.8452369851769661 0.6323362362741386\n",
      "0.14 0.8452369851769661 0.6550549034456645\n",
      "0.16000000000000003 0.8452369851769661 0.6745550927678909\n",
      "0.18000000000000002 0.8452369851769661 0.691404770920106\n",
      "0.2 0.8452369851769661 0.7107156380159031\n",
      "0.22000000000000003 0.8452369851769661 0.722074971601666\n",
      "0.24000000000000002 0.8452369851769661 0.733434305187429\n",
      "0.26 0.8452369851769661 0.7455509276789095\n",
      "0.28 0.8452369851769661 0.7552063612268081\n",
      "0.30000000000000004 0.8452369851769661 0.7637258614161303\n",
      "0.32000000000000006 0.8452369851769661 0.7701628171147292\n",
      "0.3400000000000001 0.8452369851769661 0.7756531616811814\n",
      "0.3600000000000001 0.8452369851769661 0.7817114729269217\n",
      "0.38 0.8452369851769661 0.7877697841726619\n",
      "0.4 0.8452369851769661 0.7923135176069671\n",
      "0.42000000000000004 0.8452369851769661 0.7926921620598258\n",
      "0.44000000000000006 0.8452369851769661 0.7955319954562665\n",
      "0.4600000000000001 0.8452369851769661 0.799697084437713\n",
      "0.4800000000000001 0.8452369851769661 0.8038621734191594\n"
     ]
    }
   ],
   "source": [
    "training_results.append(threshold_sel(lr_model_default))"
   ]
  },
  {
   "cell_type": "markdown",
   "id": "318763b2",
   "metadata": {},
   "source": [
    "**2. Случайный лес**"
   ]
  },
  {
   "cell_type": "code",
   "execution_count": 512,
   "id": "7e98ad25",
   "metadata": {
    "scrolled": true
   },
   "outputs": [
    {
     "name": "stdout",
     "output_type": "stream",
     "text": [
      "Fitting 5 folds for each of 20 candidates, totalling 100 fits\n",
      "[CV 1/5] END ......max_depth=95, n_estimators=1;, score=0.652 total time=   0.0s\n",
      "[CV 2/5] END ......max_depth=95, n_estimators=1;, score=0.655 total time=   0.0s\n",
      "[CV 3/5] END ......max_depth=95, n_estimators=1;, score=0.682 total time=   0.0s\n",
      "[CV 4/5] END ......max_depth=95, n_estimators=1;, score=0.679 total time=   0.0s\n",
      "[CV 5/5] END ......max_depth=95, n_estimators=1;, score=0.697 total time=   0.0s\n",
      "[CV 1/5] END ....max_depth=53, n_estimators=431;, score=0.834 total time=   2.7s\n",
      "[CV 2/5] END ....max_depth=53, n_estimators=431;, score=0.830 total time=   2.6s\n",
      "[CV 3/5] END ....max_depth=53, n_estimators=431;, score=0.830 total time=   2.9s\n",
      "[CV 4/5] END ....max_depth=53, n_estimators=431;, score=0.812 total time=   3.0s\n",
      "[CV 5/5] END ....max_depth=53, n_estimators=431;, score=0.849 total time=   3.4s\n",
      "[CV 1/5] END ....max_depth=60, n_estimators=310;, score=0.833 total time=   2.1s\n",
      "[CV 2/5] END ....max_depth=60, n_estimators=310;, score=0.829 total time=   3.1s\n",
      "[CV 3/5] END ....max_depth=60, n_estimators=310;, score=0.830 total time=   2.8s\n",
      "[CV 4/5] END ....max_depth=60, n_estimators=310;, score=0.812 total time=   2.7s\n",
      "[CV 5/5] END ....max_depth=60, n_estimators=310;, score=0.850 total time=   3.2s\n",
      "[CV 1/5] END .....max_depth=85, n_estimators=11;, score=0.789 total time=   0.0s\n",
      "[CV 2/5] END .....max_depth=85, n_estimators=11;, score=0.794 total time=   0.0s\n",
      "[CV 3/5] END .....max_depth=85, n_estimators=11;, score=0.810 total time=   0.0s\n",
      "[CV 4/5] END .....max_depth=85, n_estimators=11;, score=0.788 total time=   0.0s\n",
      "[CV 5/5] END .....max_depth=85, n_estimators=11;, score=0.825 total time=   0.0s\n",
      "[CV 1/5] END .....max_depth=89, n_estimators=16;, score=0.803 total time=   0.0s\n",
      "[CV 2/5] END .....max_depth=89, n_estimators=16;, score=0.806 total time=   0.0s\n",
      "[CV 3/5] END .....max_depth=89, n_estimators=16;, score=0.818 total time=   0.0s\n",
      "[CV 4/5] END .....max_depth=89, n_estimators=16;, score=0.794 total time=   0.0s\n",
      "[CV 5/5] END .....max_depth=89, n_estimators=16;, score=0.833 total time=   0.0s\n",
      "[CV 1/5] END ....max_depth=22, n_estimators=379;, score=0.835 total time=   2.3s\n",
      "[CV 2/5] END ....max_depth=22, n_estimators=379;, score=0.831 total time=   2.3s\n",
      "[CV 3/5] END ....max_depth=22, n_estimators=379;, score=0.830 total time=   2.3s\n",
      "[CV 4/5] END ....max_depth=22, n_estimators=379;, score=0.815 total time=   2.7s\n",
      "[CV 5/5] END ....max_depth=22, n_estimators=379;, score=0.847 total time=   2.6s\n",
      "[CV 1/5] END ....max_depth=58, n_estimators=258;, score=0.834 total time=   1.8s\n",
      "[CV 2/5] END ....max_depth=58, n_estimators=258;, score=0.830 total time=   1.5s\n",
      "[CV 3/5] END ....max_depth=58, n_estimators=258;, score=0.830 total time=   1.7s\n",
      "[CV 4/5] END ....max_depth=58, n_estimators=258;, score=0.812 total time=   1.6s\n",
      "[CV 5/5] END ....max_depth=58, n_estimators=258;, score=0.850 total time=   1.5s\n",
      "[CV 1/5] END ....max_depth=94, n_estimators=109;, score=0.835 total time=   0.6s\n",
      "[CV 2/5] END ....max_depth=94, n_estimators=109;, score=0.829 total time=   0.6s\n",
      "[CV 3/5] END ....max_depth=94, n_estimators=109;, score=0.828 total time=   0.6s\n",
      "[CV 4/5] END ....max_depth=94, n_estimators=109;, score=0.808 total time=   0.6s\n",
      "[CV 5/5] END ....max_depth=94, n_estimators=109;, score=0.847 total time=   0.6s\n",
      "[CV 1/5] END .....max_depth=64, n_estimators=93;, score=0.835 total time=   0.5s\n",
      "[CV 2/5] END .....max_depth=64, n_estimators=93;, score=0.827 total time=   0.5s\n",
      "[CV 3/5] END .....max_depth=64, n_estimators=93;, score=0.827 total time=   0.5s\n",
      "[CV 4/5] END .....max_depth=64, n_estimators=93;, score=0.807 total time=   0.7s\n",
      "[CV 5/5] END .....max_depth=64, n_estimators=93;, score=0.845 total time=   0.6s\n",
      "[CV 1/5] END ....max_depth=91, n_estimators=244;, score=0.834 total time=   1.4s\n",
      "[CV 2/5] END ....max_depth=91, n_estimators=244;, score=0.829 total time=   1.4s\n",
      "[CV 3/5] END ....max_depth=91, n_estimators=244;, score=0.830 total time=   1.6s\n",
      "[CV 4/5] END ....max_depth=91, n_estimators=244;, score=0.812 total time=   1.4s\n",
      "[CV 5/5] END ....max_depth=91, n_estimators=244;, score=0.849 total time=   1.4s\n",
      "[CV 1/5] END .....max_depth=41, n_estimators=51;, score=0.828 total time=   0.2s\n",
      "[CV 2/5] END .....max_depth=41, n_estimators=51;, score=0.824 total time=   0.2s\n",
      "[CV 3/5] END .....max_depth=41, n_estimators=51;, score=0.825 total time=   0.2s\n",
      "[CV 4/5] END .....max_depth=41, n_estimators=51;, score=0.805 total time=   0.2s\n",
      "[CV 5/5] END .....max_depth=41, n_estimators=51;, score=0.843 total time=   0.2s\n",
      "[CV 1/5] END ....max_depth=18, n_estimators=182;, score=0.837 total time=   1.0s\n",
      "[CV 2/5] END ....max_depth=18, n_estimators=182;, score=0.836 total time=   1.1s\n",
      "[CV 3/5] END ....max_depth=18, n_estimators=182;, score=0.830 total time=   1.0s\n",
      "[CV 4/5] END ....max_depth=18, n_estimators=182;, score=0.811 total time=   1.0s\n",
      "[CV 5/5] END ....max_depth=18, n_estimators=182;, score=0.846 total time=   1.0s\n",
      "[CV 1/5] END ....max_depth=98, n_estimators=105;, score=0.834 total time=   0.6s\n",
      "[CV 2/5] END ....max_depth=98, n_estimators=105;, score=0.828 total time=   0.6s\n",
      "[CV 3/5] END ....max_depth=98, n_estimators=105;, score=0.828 total time=   0.6s\n",
      "[CV 4/5] END ....max_depth=98, n_estimators=105;, score=0.808 total time=   0.6s\n",
      "[CV 5/5] END ....max_depth=98, n_estimators=105;, score=0.846 total time=   0.6s\n",
      "[CV 1/5] END ....max_depth=10, n_estimators=370;, score=0.854 total time=   1.8s\n",
      "[CV 2/5] END ....max_depth=10, n_estimators=370;, score=0.855 total time=   1.8s\n",
      "[CV 3/5] END ....max_depth=10, n_estimators=370;, score=0.846 total time=   1.8s\n",
      "[CV 4/5] END ....max_depth=10, n_estimators=370;, score=0.827 total time=   1.8s\n",
      "[CV 5/5] END ....max_depth=10, n_estimators=370;, score=0.860 total time=   1.8s\n",
      "[CV 1/5] END ....max_depth=76, n_estimators=178;, score=0.833 total time=   1.0s\n",
      "[CV 2/5] END ....max_depth=76, n_estimators=178;, score=0.829 total time=   1.0s\n",
      "[CV 3/5] END ....max_depth=76, n_estimators=178;, score=0.829 total time=   1.0s\n",
      "[CV 4/5] END ....max_depth=76, n_estimators=178;, score=0.812 total time=   1.0s\n",
      "[CV 5/5] END ....max_depth=76, n_estimators=178;, score=0.850 total time=   1.0s\n",
      "[CV 1/5] END .....max_depth=31, n_estimators=25;, score=0.817 total time=   0.1s\n",
      "[CV 2/5] END .....max_depth=31, n_estimators=25;, score=0.818 total time=   0.1s\n",
      "[CV 3/5] END .....max_depth=31, n_estimators=25;, score=0.820 total time=   0.1s\n",
      "[CV 4/5] END .....max_depth=31, n_estimators=25;, score=0.799 total time=   0.1s\n",
      "[CV 5/5] END .....max_depth=31, n_estimators=25;, score=0.845 total time=   0.1s\n",
      "[CV 1/5] END ....max_depth=96, n_estimators=459;, score=0.834 total time=   2.8s\n",
      "[CV 2/5] END ....max_depth=96, n_estimators=459;, score=0.829 total time=   2.8s\n",
      "[CV 3/5] END ....max_depth=96, n_estimators=459;, score=0.830 total time=   2.8s\n",
      "[CV 4/5] END ....max_depth=96, n_estimators=459;, score=0.812 total time=   2.8s\n",
      "[CV 5/5] END ....max_depth=96, n_estimators=459;, score=0.849 total time=   2.8s\n",
      "[CV 1/5] END ....max_depth=20, n_estimators=350;, score=0.836 total time=   2.1s\n",
      "[CV 2/5] END ....max_depth=20, n_estimators=350;, score=0.832 total time=   2.1s\n",
      "[CV 3/5] END ....max_depth=20, n_estimators=350;, score=0.829 total time=   2.1s\n",
      "[CV 4/5] END ....max_depth=20, n_estimators=350;, score=0.811 total time=   2.0s\n",
      "[CV 5/5] END ....max_depth=20, n_estimators=350;, score=0.847 total time=   2.1s\n",
      "[CV 1/5] END ....max_depth=89, n_estimators=259;, score=0.834 total time=   1.5s\n",
      "[CV 2/5] END ....max_depth=89, n_estimators=259;, score=0.829 total time=   1.5s\n",
      "[CV 3/5] END ....max_depth=89, n_estimators=259;, score=0.830 total time=   1.5s\n",
      "[CV 4/5] END ....max_depth=89, n_estimators=259;, score=0.812 total time=   1.5s\n",
      "[CV 5/5] END ....max_depth=89, n_estimators=259;, score=0.850 total time=   1.5s\n",
      "[CV 1/5] END ....max_depth=40, n_estimators=182;, score=0.833 total time=   1.0s\n",
      "[CV 2/5] END ....max_depth=40, n_estimators=182;, score=0.829 total time=   1.1s\n",
      "[CV 3/5] END ....max_depth=40, n_estimators=182;, score=0.829 total time=   1.0s\n",
      "[CV 4/5] END ....max_depth=40, n_estimators=182;, score=0.811 total time=   1.0s\n",
      "[CV 5/5] END ....max_depth=40, n_estimators=182;, score=0.850 total time=   1.0s\n",
      "Wall time: 2min 14s\n"
     ]
    },
    {
     "data": {
      "text/plain": [
       "{'n_estimators': 370, 'max_depth': 10}"
      ]
     },
     "execution_count": 512,
     "metadata": {},
     "output_type": "execute_result"
    }
   ],
   "source": [
    "%%time\n",
    "\n",
    "model = RandomForestClassifier(random_state=120922)\n",
    "depth_range = list(range(1, 101))\n",
    "est_range = list(range(1, 501))\n",
    "params = {'max_depth': depth_range, 'n_estimators': est_range}\n",
    "rf_model = RandomizedSearchCV(model, params, verbose=3, n_iter=20, scoring='roc_auc', random_state=120922)\n",
    "rf_model.fit(train_features, train_target)\n",
    "rf_best_params = rf_model.best_params_\n",
    "rf_best_params"
   ]
  },
  {
   "cell_type": "code",
   "execution_count": 499,
   "id": "136d6756",
   "metadata": {},
   "outputs": [],
   "source": [
    "# rf_best_params = {'n_estimators': 370, 'max_depth': 10}"
   ]
  },
  {
   "cell_type": "code",
   "execution_count": 500,
   "id": "11140981",
   "metadata": {},
   "outputs": [],
   "source": [
    "rf_model_searched = RandomForestClassifier(**rf_best_params, random_state=120922)"
   ]
  },
  {
   "cell_type": "code",
   "execution_count": 501,
   "id": "e499ab87",
   "metadata": {},
   "outputs": [],
   "source": [
    "rf_model_default = RandomForestClassifier(random_state=120922)"
   ]
  },
  {
   "cell_type": "code",
   "execution_count": 502,
   "id": "533f9001",
   "metadata": {},
   "outputs": [
    {
     "name": "stdout",
     "output_type": "stream",
     "text": [
      "0.1 0.9538128524164927 0.6561908368042408\n",
      "0.12000000000000001 0.9538128524164927 0.6908368042408178\n",
      "0.14 0.9538128524164927 0.7184778492995078\n",
      "0.16000000000000003 0.9538128524164927 0.7476334721696327\n",
      "0.18000000000000002 0.9538128524164927 0.7747065505490345\n",
      "0.2 0.9538128524164927 0.7940174176448315\n",
      "0.22000000000000003 0.9538128524164927 0.8133282847406286\n",
      "0.24000000000000002 0.9538128524164927 0.8292313517606967\n",
      "0.26 0.9538128524164927 0.8407800075728891\n",
      "0.28 0.9538128524164927 0.8511927300265051\n",
      "0.30000000000000004 0.9538128524164927 0.8589549413101099\n",
      "0.32000000000000006 0.9538128524164927 0.8646346081029913\n",
      "0.3400000000000001 0.9538128524164927 0.8714502082544491\n",
      "0.3600000000000001 0.9538128524164927 0.8759939416887542\n",
      "0.38 0.9538128524164927 0.8818629307080651\n",
      "0.4 0.9538128524164927 0.8831881862930708\n",
      "0.42000000000000004 0.9538128524164927 0.8822415751609239\n",
      "0.44000000000000006 0.9538128524164927 0.8845134418780765\n",
      "0.4600000000000001 0.9538128524164927 0.883756152972359\n",
      "0.4800000000000001 0.9538128524164927 0.8811056418023476\n"
     ]
    }
   ],
   "source": [
    "training_results.append(threshold_sel(rf_model_searched))"
   ]
  },
  {
   "cell_type": "code",
   "execution_count": 503,
   "id": "3033be7b",
   "metadata": {},
   "outputs": [
    {
     "name": "stdout",
     "output_type": "stream",
     "text": [
      "0.1 0.999955492460294 0.8229837182885271\n",
      "0.12000000000000001 0.999955492460294 0.8553578190079515\n",
      "0.14 0.999955492460294 0.8811056418023476\n",
      "0.16000000000000003 0.999955492460294 0.9072321090496024\n",
      "0.18000000000000002 0.999955492460294 0.9265429761453995\n",
      "0.2 0.999955492460294 0.9447179098826202\n",
      "0.22000000000000003 0.999955492460294 0.9574024990533889\n",
      "0.24000000000000002 0.999955492460294 0.9672472548277168\n",
      "0.26 0.999955492460294 0.9778492995077622\n",
      "0.28 0.999955492460294 0.9825823551684968\n",
      "0.30000000000000004 0.999955492460294 0.9884513441878077\n",
      "0.32000000000000006 0.999955492460294 0.9914804998106778\n",
      "0.3400000000000001 0.999955492460294 0.995077622112836\n",
      "0.3600000000000001 0.999955492460294 0.9965921999242711\n",
      "0.38 0.999955492460294 0.9977281332828474\n",
      "0.4 0.999955492460294 0.9981067777357062\n",
      "0.42000000000000004 0.999955492460294 0.9986747444149944\n",
      "0.44000000000000006 0.999955492460294 0.9988640666414237\n",
      "0.4600000000000001 0.999955492460294 0.9988640666414237\n",
      "0.4800000000000001 0.999955492460294 0.9988640666414237\n"
     ]
    }
   ],
   "source": [
    "training_results.append(threshold_sel(rf_model_default))"
   ]
  },
  {
   "cell_type": "markdown",
   "id": "e209bfec",
   "metadata": {},
   "source": [
    "**3. LightGBM**"
   ]
  },
  {
   "cell_type": "code",
   "execution_count": 84,
   "id": "d71049ff",
   "metadata": {
    "scrolled": true
   },
   "outputs": [
    {
     "name": "stdout",
     "output_type": "stream",
     "text": [
      "Fitting 5 folds for each of 20 candidates, totalling 100 fits\n",
      "[CV 1/5] END learning_rate=0.03, max_depth=32, n_estimators=3000;, score=0.827 total time=   4.1s\n",
      "[CV 2/5] END learning_rate=0.03, max_depth=32, n_estimators=3000;, score=0.825 total time=   4.6s\n",
      "[CV 3/5] END learning_rate=0.03, max_depth=32, n_estimators=3000;, score=0.820 total time=   4.2s\n",
      "[CV 4/5] END learning_rate=0.03, max_depth=32, n_estimators=3000;, score=0.806 total time=   4.0s\n",
      "[CV 5/5] END learning_rate=0.03, max_depth=32, n_estimators=3000;, score=0.827 total time=   4.4s\n",
      "[CV 1/5] END learning_rate=0.01, max_depth=84, n_estimators=100;, score=0.861 total time=   0.1s\n",
      "[CV 2/5] END learning_rate=0.01, max_depth=84, n_estimators=100;, score=0.850 total time=   0.1s\n",
      "[CV 3/5] END learning_rate=0.01, max_depth=84, n_estimators=100;, score=0.840 total time=   0.1s\n",
      "[CV 4/5] END learning_rate=0.01, max_depth=84, n_estimators=100;, score=0.836 total time=   0.1s\n",
      "[CV 5/5] END learning_rate=0.01, max_depth=84, n_estimators=100;, score=0.862 total time=   0.1s\n",
      "[CV 1/5] END learning_rate=1, max_depth=55, n_estimators=20;, score=0.815 total time=   0.0s\n",
      "[CV 2/5] END learning_rate=1, max_depth=55, n_estimators=20;, score=0.803 total time=   0.0s\n",
      "[CV 3/5] END learning_rate=1, max_depth=55, n_estimators=20;, score=0.808 total time=   0.0s\n",
      "[CV 4/5] END learning_rate=1, max_depth=55, n_estimators=20;, score=0.803 total time=   0.0s\n",
      "[CV 5/5] END learning_rate=1, max_depth=55, n_estimators=20;, score=0.813 total time=   0.0s\n",
      "[CV 1/5] END learning_rate=0.01, max_depth=32, n_estimators=100;, score=0.861 total time=   0.1s\n",
      "[CV 2/5] END learning_rate=0.01, max_depth=32, n_estimators=100;, score=0.850 total time=   0.1s\n",
      "[CV 3/5] END learning_rate=0.01, max_depth=32, n_estimators=100;, score=0.840 total time=   0.1s\n",
      "[CV 4/5] END learning_rate=0.01, max_depth=32, n_estimators=100;, score=0.836 total time=   0.1s\n",
      "[CV 5/5] END learning_rate=0.01, max_depth=32, n_estimators=100;, score=0.862 total time=   0.1s\n",
      "[CV 1/5] END learning_rate=0.1, max_depth=24, n_estimators=2000;, score=0.815 total time=   2.6s\n",
      "[CV 2/5] END learning_rate=0.1, max_depth=24, n_estimators=2000;, score=0.814 total time=   2.8s\n",
      "[CV 3/5] END learning_rate=0.1, max_depth=24, n_estimators=2000;, score=0.815 total time=   3.0s\n",
      "[CV 4/5] END learning_rate=0.1, max_depth=24, n_estimators=2000;, score=0.800 total time=   2.7s\n",
      "[CV 5/5] END learning_rate=0.1, max_depth=24, n_estimators=2000;, score=0.822 total time=   2.7s\n",
      "[CV 1/5] END learning_rate=0.1, max_depth=82, n_estimators=5000;, score=0.797 total time=   7.2s\n",
      "[CV 2/5] END learning_rate=0.1, max_depth=82, n_estimators=5000;, score=0.804 total time=   7.3s\n",
      "[CV 3/5] END learning_rate=0.1, max_depth=82, n_estimators=5000;, score=0.802 total time=   8.2s\n",
      "[CV 4/5] END learning_rate=0.1, max_depth=82, n_estimators=5000;, score=0.788 total time=  10.2s\n",
      "[CV 5/5] END learning_rate=0.1, max_depth=82, n_estimators=5000;, score=0.808 total time=  10.3s\n",
      "[CV 1/5] END learning_rate=0.1, max_depth=36, n_estimators=3000;, score=0.804 total time=   6.0s\n",
      "[CV 2/5] END learning_rate=0.1, max_depth=36, n_estimators=3000;, score=0.807 total time=   6.3s\n",
      "[CV 3/5] END learning_rate=0.1, max_depth=36, n_estimators=3000;, score=0.809 total time=   4.3s\n",
      "[CV 4/5] END learning_rate=0.1, max_depth=36, n_estimators=3000;, score=0.793 total time=   4.2s\n",
      "[CV 5/5] END learning_rate=0.1, max_depth=36, n_estimators=3000;, score=0.816 total time=   4.6s\n",
      "[CV 1/5] END learning_rate=0.7, max_depth=23, n_estimators=2000;, score=0.792 total time=   2.5s\n",
      "[CV 2/5] END learning_rate=0.7, max_depth=23, n_estimators=2000;, score=0.806 total time=   2.4s\n",
      "[CV 3/5] END learning_rate=0.7, max_depth=23, n_estimators=2000;, score=0.798 total time=   2.1s\n",
      "[CV 4/5] END learning_rate=0.7, max_depth=23, n_estimators=2000;, score=0.777 total time=   2.3s\n",
      "[CV 5/5] END learning_rate=0.7, max_depth=23, n_estimators=2000;, score=0.800 total time=   2.3s\n",
      "[CV 1/5] END learning_rate=0.03, max_depth=94, n_estimators=2000;, score=0.832 total time=   2.6s\n",
      "[CV 2/5] END learning_rate=0.03, max_depth=94, n_estimators=2000;, score=0.828 total time=   2.6s\n",
      "[CV 3/5] END learning_rate=0.03, max_depth=94, n_estimators=2000;, score=0.824 total time=   2.6s\n",
      "[CV 4/5] END learning_rate=0.03, max_depth=94, n_estimators=2000;, score=0.811 total time=   2.7s\n",
      "[CV 5/5] END learning_rate=0.03, max_depth=94, n_estimators=2000;, score=0.831 total time=   2.6s\n",
      "[CV 1/5] END learning_rate=0.7, max_depth=36, n_estimators=500;, score=0.796 total time=   0.6s\n",
      "[CV 2/5] END learning_rate=0.7, max_depth=36, n_estimators=500;, score=0.806 total time=   0.6s\n",
      "[CV 3/5] END learning_rate=0.7, max_depth=36, n_estimators=500;, score=0.803 total time=   0.6s\n",
      "[CV 4/5] END learning_rate=0.7, max_depth=36, n_estimators=500;, score=0.775 total time=   0.6s\n",
      "[CV 5/5] END learning_rate=0.7, max_depth=36, n_estimators=500;, score=0.804 total time=   0.6s\n",
      "[CV 1/5] END learning_rate=0.5, max_depth=59, n_estimators=100;, score=0.825 total time=   0.1s\n",
      "[CV 2/5] END learning_rate=0.5, max_depth=59, n_estimators=100;, score=0.823 total time=   0.1s\n",
      "[CV 3/5] END learning_rate=0.5, max_depth=59, n_estimators=100;, score=0.812 total time=   0.1s\n",
      "[CV 4/5] END learning_rate=0.5, max_depth=59, n_estimators=100;, score=0.804 total time=   0.1s\n",
      "[CV 5/5] END learning_rate=0.5, max_depth=59, n_estimators=100;, score=0.830 total time=   0.1s\n",
      "[CV 1/5] END learning_rate=0.001, max_depth=62, n_estimators=20;, score=0.847 total time=   0.0s\n",
      "[CV 2/5] END learning_rate=0.001, max_depth=62, n_estimators=20;, score=0.846 total time=   0.0s\n",
      "[CV 3/5] END learning_rate=0.001, max_depth=62, n_estimators=20;, score=0.835 total time=   0.0s\n",
      "[CV 4/5] END learning_rate=0.001, max_depth=62, n_estimators=20;, score=0.834 total time=   0.0s\n",
      "[CV 5/5] END learning_rate=0.001, max_depth=62, n_estimators=20;, score=0.855 total time=   0.0s\n",
      "[CV 1/5] END learning_rate=0.1, max_depth=60, n_estimators=20;, score=0.855 total time=   0.0s\n",
      "[CV 2/5] END learning_rate=0.1, max_depth=60, n_estimators=20;, score=0.852 total time=   0.0s\n",
      "[CV 3/5] END learning_rate=0.1, max_depth=60, n_estimators=20;, score=0.843 total time=   0.0s\n",
      "[CV 4/5] END learning_rate=0.1, max_depth=60, n_estimators=20;, score=0.836 total time=   0.0s\n",
      "[CV 5/5] END learning_rate=0.1, max_depth=60, n_estimators=20;, score=0.864 total time=   0.0s\n",
      "[CV 1/5] END learning_rate=1, max_depth=9, n_estimators=2000;, score=0.625 total time=   0.8s\n",
      "[CV 2/5] END learning_rate=1, max_depth=9, n_estimators=2000;, score=0.801 total time=   2.0s\n",
      "[CV 3/5] END learning_rate=1, max_depth=9, n_estimators=2000;, score=0.788 total time=   2.2s\n",
      "[CV 4/5] END learning_rate=1, max_depth=9, n_estimators=2000;, score=0.780 total time=   2.0s\n",
      "[CV 5/5] END learning_rate=1, max_depth=9, n_estimators=2000;, score=0.796 total time=   2.0s\n",
      "[CV 1/5] END learning_rate=1, max_depth=14, n_estimators=2000;, score=0.791 total time=   2.5s\n",
      "[CV 2/5] END learning_rate=1, max_depth=14, n_estimators=2000;, score=0.799 total time=   2.3s\n",
      "[CV 3/5] END learning_rate=1, max_depth=14, n_estimators=2000;, score=0.794 total time=   2.0s\n",
      "[CV 4/5] END learning_rate=1, max_depth=14, n_estimators=2000;, score=0.775 total time=   2.0s\n",
      "[CV 5/5] END learning_rate=1, max_depth=14, n_estimators=2000;, score=0.805 total time=   2.1s\n",
      "[CV 1/5] END learning_rate=0.03, max_depth=8, n_estimators=20;, score=0.860 total time=   0.0s\n",
      "[CV 2/5] END learning_rate=0.03, max_depth=8, n_estimators=20;, score=0.849 total time=   0.0s\n",
      "[CV 3/5] END learning_rate=0.03, max_depth=8, n_estimators=20;, score=0.842 total time=   0.0s\n",
      "[CV 4/5] END learning_rate=0.03, max_depth=8, n_estimators=20;, score=0.836 total time=   0.0s\n",
      "[CV 5/5] END learning_rate=0.03, max_depth=8, n_estimators=20;, score=0.862 total time=   0.0s\n",
      "[CV 1/5] END learning_rate=1, max_depth=48, n_estimators=10;, score=0.817 total time=   0.0s\n",
      "[CV 2/5] END learning_rate=1, max_depth=48, n_estimators=10;, score=0.810 total time=   0.0s\n",
      "[CV 3/5] END learning_rate=1, max_depth=48, n_estimators=10;, score=0.814 total time=   0.0s\n",
      "[CV 4/5] END learning_rate=1, max_depth=48, n_estimators=10;, score=0.810 total time=   0.0s\n",
      "[CV 5/5] END learning_rate=1, max_depth=48, n_estimators=10;, score=0.834 total time=   0.0s\n",
      "[CV 1/5] END learning_rate=0.5, max_depth=13, n_estimators=100;, score=0.825 total time=   0.1s\n",
      "[CV 2/5] END learning_rate=0.5, max_depth=13, n_estimators=100;, score=0.819 total time=   0.1s\n",
      "[CV 3/5] END learning_rate=0.5, max_depth=13, n_estimators=100;, score=0.819 total time=   0.1s\n",
      "[CV 4/5] END learning_rate=0.5, max_depth=13, n_estimators=100;, score=0.804 total time=   0.1s\n",
      "[CV 5/5] END learning_rate=0.5, max_depth=13, n_estimators=100;, score=0.824 total time=   0.2s\n",
      "[CV 1/5] END learning_rate=0.5, max_depth=13, n_estimators=20;, score=0.839 total time=   0.0s\n",
      "[CV 2/5] END learning_rate=0.5, max_depth=13, n_estimators=20;, score=0.840 total time=   0.0s\n",
      "[CV 3/5] END learning_rate=0.5, max_depth=13, n_estimators=20;, score=0.834 total time=   0.0s\n",
      "[CV 4/5] END learning_rate=0.5, max_depth=13, n_estimators=20;, score=0.824 total time=   0.0s\n",
      "[CV 5/5] END learning_rate=0.5, max_depth=13, n_estimators=20;, score=0.841 total time=   0.0s\n",
      "[CV 1/5] END learning_rate=0.5, max_depth=85, n_estimators=2000;, score=0.796 total time=   2.3s\n",
      "[CV 2/5] END learning_rate=0.5, max_depth=85, n_estimators=2000;, score=0.810 total time=   2.4s\n",
      "[CV 3/5] END learning_rate=0.5, max_depth=85, n_estimators=2000;, score=0.800 total time=   2.4s\n",
      "[CV 4/5] END learning_rate=0.5, max_depth=85, n_estimators=2000;, score=0.785 total time=   2.3s\n",
      "[CV 5/5] END learning_rate=0.5, max_depth=85, n_estimators=2000;, score=0.801 total time=   2.5s\n",
      "Wall time: 2min 54s\n"
     ]
    },
    {
     "data": {
      "text/plain": [
       "{'n_estimators': 20, 'max_depth': 60, 'learning_rate': 0.1}"
      ]
     },
     "execution_count": 84,
     "metadata": {},
     "output_type": "execute_result"
    }
   ],
   "source": [
    "%%time\n",
    "\n",
    "model = LGBMClassifier(random_state=120922)\n",
    "depth_range = list(range(1, 101))\n",
    "est_range = [10, 20, 100, 500, 1000, 2000, 3000, 5000]\n",
    "speed_range = [0.001, 0.01, 0.03, 0.1, 0.5, 0.7, 1]\n",
    "params = {'max_depth': depth_range, 'n_estimators': est_range, 'learning_rate': speed_range}\n",
    "lgbm_model = RandomizedSearchCV(model, params, scoring='roc_auc', n_iter=20, verbose=3, random_state=120922)\n",
    "lgbm_model.fit(train_features, train_target)\n",
    "lgbm_best_params1 = lgbm_model.best_params_\n",
    "lgbm_best_params1"
   ]
  },
  {
   "cell_type": "code",
   "execution_count": 504,
   "id": "31abda5d",
   "metadata": {},
   "outputs": [],
   "source": [
    "# lgbm_best_params1 = {'n_estimators': 20, 'max_depth': 8, 'learning_rate': 0.03}"
   ]
  },
  {
   "cell_type": "code",
   "execution_count": 505,
   "id": "90086b01",
   "metadata": {},
   "outputs": [],
   "source": [
    "lgbm_model_searched = LGBMClassifier(**lgbm_best_params1, random_state=120922)\n"
   ]
  },
  {
   "cell_type": "code",
   "execution_count": 506,
   "id": "82a61428",
   "metadata": {},
   "outputs": [],
   "source": [
    "lgbm_model_default = LGBMClassifier(random_state=120922)"
   ]
  },
  {
   "cell_type": "code",
   "execution_count": 507,
   "id": "b2b99a25",
   "metadata": {},
   "outputs": [
    {
     "name": "stdout",
     "output_type": "stream",
     "text": [
      "0.1 0.873902323606229 0.2652404392275653\n",
      "0.12000000000000001 0.873902323606229 0.2652404392275653\n",
      "0.14 0.873902323606229 0.2652404392275653\n",
      "0.16000000000000003 0.873902323606229 0.5261264672472549\n",
      "0.18000000000000002 0.873902323606229 0.5316168118137069\n",
      "0.2 0.873902323606229 0.6510791366906474\n",
      "0.22000000000000003 0.873902323606229 0.6719045815978796\n",
      "0.24000000000000002 0.873902323606229 0.7599394168875426\n",
      "0.26 0.873902323606229 0.7836046951912155\n",
      "0.28 0.873902323606229 0.7925028398333964\n",
      "0.30000000000000004 0.873902323606229 0.8015903067020068\n",
      "0.32000000000000006 0.873902323606229 0.8112457402499054\n",
      "0.3400000000000001 0.873902323606229 0.8246876183263915\n",
      "0.3600000000000001 0.873902323606229 0.829420673987126\n",
      "0.38 0.873902323606229 0.8288527073078379\n",
      "0.4 0.873902323606229 0.8227943960620977\n",
      "0.42000000000000004 0.873902323606229 0.8154108292313518\n",
      "0.44000000000000006 0.873902323606229 0.8048087845513063\n",
      "0.4600000000000001 0.873902323606229 0.8006436955698599\n",
      "0.4800000000000001 0.873902323606229 0.7983718288527073\n"
     ]
    }
   ],
   "source": [
    "training_results.append(threshold_sel(lgbm_model_searched))"
   ]
  },
  {
   "cell_type": "code",
   "execution_count": 508,
   "id": "1010487e",
   "metadata": {},
   "outputs": [
    {
     "name": "stdout",
     "output_type": "stream",
     "text": [
      "0.1 0.9573928586732965 0.7025747822794396\n",
      "0.12000000000000001 0.9573928586732965 0.733434305187429\n",
      "0.14 0.9573928586732965 0.7548277167739492\n",
      "0.16000000000000003 0.9573928586732965 0.775463839454752\n",
      "0.18000000000000002 0.9573928586732965 0.798750473305566\n",
      "0.2 0.9573928586732965 0.8148428625520636\n",
      "0.22000000000000003 0.9573928586732965 0.827906096175691\n",
      "0.24000000000000002 0.9573928586732965 0.8400227186671715\n",
      "0.26 0.9573928586732965 0.8528966300643696\n",
      "0.28 0.9573928586732965 0.8599015524422567\n",
      "0.30000000000000004 0.9573928586732965 0.8687996970844377\n",
      "0.32000000000000006 0.9573928586732965 0.8741007194244604\n",
      "0.3400000000000001 0.9573928586732965 0.8792124195380537\n",
      "0.3600000000000001 0.9573928586732965 0.8856493752366528\n",
      "0.38 0.9573928586732965 0.8881105641802347\n",
      "0.4 0.9573928586732965 0.889246497538811\n",
      "0.42000000000000004 0.9573928586732965 0.8903824308973873\n",
      "0.44000000000000006 0.9573928586732965 0.8943581976524044\n",
      "0.4600000000000001 0.9573928586732965 0.8934115865202574\n",
      "0.4800000000000001 0.9573928586732965 0.8943581976524044\n"
     ]
    }
   ],
   "source": [
    "training_results.append(threshold_sel(lgbm_model_default))"
   ]
  },
  {
   "cell_type": "markdown",
   "id": "f27d356f",
   "metadata": {},
   "source": [
    "### Выбор лучшей модели"
   ]
  },
  {
   "cell_type": "code",
   "execution_count": 509,
   "id": "92dd2b1f",
   "metadata": {
    "scrolled": true
   },
   "outputs": [
    {
     "data": {
      "text/html": [
       "<div>\n",
       "<style scoped>\n",
       "    .dataframe tbody tr th:only-of-type {\n",
       "        vertical-align: middle;\n",
       "    }\n",
       "\n",
       "    .dataframe tbody tr th {\n",
       "        vertical-align: top;\n",
       "    }\n",
       "\n",
       "    .dataframe thead th {\n",
       "        text-align: right;\n",
       "    }\n",
       "</style>\n",
       "<table border=\"1\" class=\"dataframe\">\n",
       "  <thead>\n",
       "    <tr style=\"text-align: right;\">\n",
       "      <th></th>\n",
       "      <th>Model</th>\n",
       "      <th>Threshold</th>\n",
       "      <th>ROC_AUC</th>\n",
       "      <th>Accuracy</th>\n",
       "    </tr>\n",
       "  </thead>\n",
       "  <tbody>\n",
       "    <tr>\n",
       "      <th>0</th>\n",
       "      <td>LogisticRegression(max_iter=1000, random_state...</td>\n",
       "      <td>0.480</td>\n",
       "      <td>0.845</td>\n",
       "      <td>0.804</td>\n",
       "    </tr>\n",
       "    <tr>\n",
       "      <th>1</th>\n",
       "      <td>LogisticRegression(max_iter=1000, random_state...</td>\n",
       "      <td>0.480</td>\n",
       "      <td>0.845</td>\n",
       "      <td>0.804</td>\n",
       "    </tr>\n",
       "    <tr>\n",
       "      <th>2</th>\n",
       "      <td>RandomForestClassifier(max_depth=10, n_estimat...</td>\n",
       "      <td>0.440</td>\n",
       "      <td>0.954</td>\n",
       "      <td>0.885</td>\n",
       "    </tr>\n",
       "    <tr>\n",
       "      <th>3</th>\n",
       "      <td>RandomForestClassifier(random_state=120922)</td>\n",
       "      <td>0.440</td>\n",
       "      <td>1.000</td>\n",
       "      <td>0.999</td>\n",
       "    </tr>\n",
       "    <tr>\n",
       "      <th>4</th>\n",
       "      <td>LGBMClassifier(learning_rate=0.03, max_depth=8...</td>\n",
       "      <td>0.360</td>\n",
       "      <td>0.874</td>\n",
       "      <td>0.829</td>\n",
       "    </tr>\n",
       "    <tr>\n",
       "      <th>5</th>\n",
       "      <td>LGBMClassifier(random_state=120922)</td>\n",
       "      <td>0.440</td>\n",
       "      <td>0.957</td>\n",
       "      <td>0.894</td>\n",
       "    </tr>\n",
       "  </tbody>\n",
       "</table>\n",
       "</div>"
      ],
      "text/plain": [
       "                                               Model  Threshold  ROC_AUC  \\\n",
       "0  LogisticRegression(max_iter=1000, random_state...      0.480    0.845   \n",
       "1  LogisticRegression(max_iter=1000, random_state...      0.480    0.845   \n",
       "2  RandomForestClassifier(max_depth=10, n_estimat...      0.440    0.954   \n",
       "3        RandomForestClassifier(random_state=120922)      0.440    1.000   \n",
       "4  LGBMClassifier(learning_rate=0.03, max_depth=8...      0.360    0.874   \n",
       "5                LGBMClassifier(random_state=120922)      0.440    0.957   \n",
       "\n",
       "   Accuracy  \n",
       "0     0.804  \n",
       "1     0.804  \n",
       "2     0.885  \n",
       "3     0.999  \n",
       "4     0.829  \n",
       "5     0.894  "
      ]
     },
     "execution_count": 509,
     "metadata": {},
     "output_type": "execute_result"
    }
   ],
   "source": [
    "training_results = pd.DataFrame(training_results, columns=['Model', 'Threshold', 'ROC_AUC', 'Accuracy'])\n",
    "training_results"
   ]
  },
  {
   "cell_type": "markdown",
   "id": "db659630",
   "metadata": {},
   "source": [
    "Наивысший результат на тренировочной выборке показывает дефолтная модель Случайного леса - ROC_AUC - почти равен 1, accuracy -тоже приближается. Это, скорее всего, говорит о переобучении модели. Ее не выберем.\n",
    "\n",
    "Для дальнейшего тестирования выберем модель градиентного бустинга LGBM с параметрами по умолчанию и порогом классификации  0.4. Эта модель показывает хорошие результаты на обучающей выборке и менее склонна к переобучению по сравнению с моделью случайного леса."
   ]
  },
  {
   "cell_type": "markdown",
   "id": "d33b8866",
   "metadata": {},
   "source": [
    "### Тестирование модели"
   ]
  },
  {
   "cell_type": "code",
   "execution_count": 510,
   "id": "2a0a743a",
   "metadata": {},
   "outputs": [],
   "source": [
    "def model_test_results(model, threshold):\n",
    "    model_fit(model)\n",
    "    test_prob_one = model.predict_proba(test_features)[:, 1]\n",
    "    test_predictions = test_prob_one > threshold\n",
    "    roc_auc = roc_auc_score(test_target, test_prob_one)\n",
    "    accuracy = accuracy_score(test_target, test_predictions)\n",
    "    return roc_auc, accuracy"
   ]
  },
  {
   "cell_type": "code",
   "execution_count": 511,
   "id": "0852a9d0",
   "metadata": {},
   "outputs": [
    {
     "name": "stdout",
     "output_type": "stream",
     "text": [
      "lgbm_model_default, threshold = 0.4, roc_auc= 0.8571507657934573 , accuracy= 0.8080636002271436\n"
     ]
    }
   ],
   "source": [
    "roc_auc, accuracy = model_test_results(lgbm_model_default, 0.4)\n",
    "print('lgbm_model_default,', 'threshold = 0.4,', 'roc_auc=', roc_auc, ', accuracy=', accuracy)"
   ]
  },
  {
   "cell_type": "markdown",
   "id": "5ca3d889",
   "metadata": {},
   "source": [
    "### Вывод:\n",
    "\n",
    "Модель градиентного бустинга LightGMB с параметрами по умолчанию и порогом классификации 0.44 показывает хорошие результаты и на обучающей и на тестовой выборке:\n",
    "    на обучающей - ROC_AUC 0.957, accuracy\t0.892\n",
    "    на тестовой - ROC_AUC 0.857, accuracy\t0.808\n",
    "    \n",
    "Также модель демонстрирует достаточно высокую скорость работы: подбора параметров, обучения и предсказания.\n",
    "\n",
    "Для прогнозирования оттока абонентов рекомендуется использовать модель бустинга - LightGMB, как наиболее результативную и быструю."
   ]
  },
  {
   "cell_type": "markdown",
   "id": "9d684a18",
   "metadata": {},
   "source": [
    "## Отчет по проекту\n",
    "\n",
    "Мы провели исследование данных телекоммуникационной компании с целью построить модель предсказания оттока абонентов.\n",
    "\n",
    "Для выполнения данной работы был составлен план, все пункты которого были выполнены. Однако порядок некоторых элементов данного плана в ходе работы был изменен в связи с логикой действий либо оптимизацией кода. Например, разделение на признаки и целевой признак производилось вместе с разделение выборок на тестовую и обучающую, а устранение дисбаланса путем подбора порога перенесено в раздел обучения моделей. Также из проекта была удалена работа с моделью бустинга catboost в связи с крайне медленной работой на этапе подбора порога классификации и гиперпараметров модели.\n"
   ]
  },
  {
   "cell_type": "markdown",
   "id": "2e3966d9",
   "metadata": {},
   "source": [
    "В ходе работы над проектом я столкнулся с рядом проблем:\n",
    "\n",
    "1) какие признаки выбрать, а какие оставить. Передо мной стоял выбор из множества вариантов, например:\n",
    "    * я добавил в датасет данные о количестве подключенных дополнительных услуг интернета. А признаки самих подключенных (или нет) услуг можно было оставить или удалить.\n",
    "    * пол  практически не влиял на целевой признак (равные доли ушедших) - можно было бы удалить\n",
    "    * общие расходы на связь были по сути произведением двух других столбцов - среднемесячный чек на длительность контракта в мес., в итоге удалил\n",
    "Я протестировал все эти сочетания и выбрал лучшие результаты на моделях.\n",
    "\n",
    "В итоговый набор признаков, показавших лучшие результаты вошли:\n",
    "    * gender - пол\n",
    "    * SeniorCitizen - признак пенсионного возраста\n",
    "    * Partner - наличие супруга (или какойто статус партнера)\n",
    "    * Dependents - наличие иждивенцев\n",
    "    * Type - тип контракта\n",
    "    * PaperlessBilling - наличие электронных счетов\n",
    "    * PaymentMethod - способ платежей\n",
    "    * MonthlyCharges - среднемесячные затраты абонента\n",
    "    * ContractPeriod - период действия контракта\n",
    "    * InternetService - тип интернет подключения\n",
    "    * OnlineSecurity  - доп. интернет-услуги\n",
    "    * OnlineBackup\n",
    "    * DeviceProtection\n",
    "    * TechSupport\n",
    "    * StreamingTV\n",
    "    * StreamingMovies\n",
    "    * services_count - количество доп. интернет услуг\n",
    "    * MultipleLines - наличие многоканальное телефонии\n",
    "    * basic_service - признак подключенных базовых сервисов (интернет, телефония, и то и другое)\n",
    "    \n",
    "\n",
    "2) заполнение пропусков при объединении датасетов. Тоже была дилемма: в столбцах с доп. услугами интернета или типом соединения можно просто было поставить значение No (нет интернета - нет и услуг), но тогда эти значения можно было спутать с другими значениями No, означающими отсутствие услуги у пользователей интернета. Это по сути разные случаи. В итоге закодировал значением Other, чтобы модель это различала. В итоге по совету тимлида опять поменял на No, но разницы по метрикам практически не было.\n",
    "\n",
    "3) какой способ кодирования выбрать для категориальных признаков: OHE, порядковое либо вообще не кодировать (для модели catboost). Попробовал все варианты. Catboost действительно показывает на незакодированных категориальных признаках метрику чуть выше, но не удобно сравнивать с другими моделями. Использование One-Hot Encoder уступало порядковому кодированию по метрикам качества проектаю На нем и остановился. Также с ним было несколько проблем по работе кода, которые привели к замене этого метода на cat.codes, а потом по требованию тимлида опять на OrdinalEncoder.\n",
    "\n",
    "4) Устранение дисбаланса. Из уточнения техзадания на консультации с тимлидом неправильно понял, что использование метода upsampling является обязательным. Потом, после замечания, переделал на метод подбора порога классификации.\n",
    "\n",
    "5) Подбор гиперпараметров моделей. Отнял больше всего времени, т.к. эти процессы занимают много времени. Особенно долго возился с catboostом, который ну очень медленно работает, а также имеет немного отличный от других моделей синтаксис поиска гиперпараметров и настройки модели. Хотел удалить эту модель много раз, но она показывала лучший результат по сравнению с другими. В итоге удали, когда качество на други моделях сравнялось с catboost. Сложно было понять какие диапазоны гиперпараметров задать, сколько сочетаний протестировать в RandomizedSearch - 10, 20, 30. В итоге методом проб и ошибок были подобраны оптимальные параметры, которые вдруг решил сравнить с этими же моделями по умолчанию и был сильно разочарован, поскольку модели \"из коробки\" показывали такой же результат метрик, либо лучше.\n",
    "\n",
    "6) Также отработал ряд замечаний тимлида, связанных с порядком действий, тестированием только одной модели, проверкой на мультиколинеарность.\n"
   ]
  },
  {
   "cell_type": "markdown",
   "id": "b86c4c06",
   "metadata": {},
   "source": [
    "В данном проекте я бы выделил следующие ключевые шаги:\n",
    "\n",
    "1) Подготовка и отбор признаков для итогового датасета - важный этап работы, требующий знаний различных операций и котроля их результата на каждом этапе цепочки преобразований, а также непосредственно влияющий на результат. \n",
    "\n",
    "2) Подбор, настройка и обучение моделей существенно влияют на результат. Времязатратный этап, с большими возможностями по оптимизации.\n",
    "\n",
    "3) Выбор итоговой модели и тест - ответственный этап, приводящий к конечному результату."
   ]
  },
  {
   "cell_type": "markdown",
   "id": "9e24216a",
   "metadata": {},
   "source": [
    "В результате проделанной работы для целей проекта мною была выбрана модель градиентного бустинга LightGBM с параметрами по умолчанию и порогом классификации 0.44. Данная модель показала следющие результаты метрик:\n",
    "   - на обучающей выборке: ROC_AUC 0.957, accuracy 0.892\n",
    "   - на тестовой выборке: ROC_AUC 0.857, accuracy 0.808\n",
    "   \n",
    "Данная модель рекомендуется для прогнозирования оттока абонентов.\n"
   ]
  }
 ],
 "metadata": {
  "ExecuteTimeLog": [
   {
    "duration": 1374,
    "start_time": "2022-09-14T19:57:52.347Z"
   },
   {
    "duration": 4,
    "start_time": "2022-09-14T19:57:59.392Z"
   },
   {
    "duration": 673,
    "start_time": "2022-09-14T19:57:59.749Z"
   },
   {
    "duration": 2,
    "start_time": "2022-09-14T19:58:15.837Z"
   },
   {
    "duration": 118,
    "start_time": "2022-09-14T19:58:25.207Z"
   },
   {
    "duration": 1421,
    "start_time": "2022-09-15T09:35:11.216Z"
   },
   {
    "duration": 3,
    "start_time": "2022-09-15T09:35:12.639Z"
   },
   {
    "duration": 762,
    "start_time": "2022-09-15T09:35:12.644Z"
   },
   {
    "duration": 15,
    "start_time": "2022-09-15T09:35:13.408Z"
   },
   {
    "duration": 19,
    "start_time": "2022-09-15T09:35:13.424Z"
   },
   {
    "duration": 6,
    "start_time": "2022-09-15T09:35:13.793Z"
   },
   {
    "duration": 10,
    "start_time": "2022-09-15T09:35:14.026Z"
   },
   {
    "duration": 5,
    "start_time": "2022-09-15T09:35:14.250Z"
   },
   {
    "duration": 13,
    "start_time": "2022-09-15T09:35:15.025Z"
   },
   {
    "duration": 21,
    "start_time": "2022-09-15T09:35:15.410Z"
   },
   {
    "duration": 10,
    "start_time": "2022-09-15T09:35:15.826Z"
   },
   {
    "duration": 18,
    "start_time": "2022-09-15T09:35:16.369Z"
   },
   {
    "duration": 13,
    "start_time": "2022-09-15T09:35:16.947Z"
   },
   {
    "duration": 11,
    "start_time": "2022-09-15T09:35:17.529Z"
   },
   {
    "duration": 164,
    "start_time": "2022-09-15T09:35:18.042Z"
   },
   {
    "duration": 11,
    "start_time": "2022-09-15T09:35:18.593Z"
   },
   {
    "duration": 20,
    "start_time": "2022-09-15T09:35:19.226Z"
   },
   {
    "duration": 19,
    "start_time": "2022-09-15T09:35:19.554Z"
   },
   {
    "duration": 23,
    "start_time": "2022-09-15T09:35:20.561Z"
   },
   {
    "duration": 8,
    "start_time": "2022-09-15T09:35:20.897Z"
   },
   {
    "duration": 161,
    "start_time": "2022-09-15T09:35:21.282Z"
   },
   {
    "duration": 5,
    "start_time": "2022-09-15T09:35:21.973Z"
   },
   {
    "duration": 6,
    "start_time": "2022-09-15T09:35:22.540Z"
   },
   {
    "duration": 5,
    "start_time": "2022-09-15T09:35:23.114Z"
   },
   {
    "duration": 33,
    "start_time": "2022-09-15T09:35:23.843Z"
   },
   {
    "duration": 6,
    "start_time": "2022-09-15T09:35:24.506Z"
   },
   {
    "duration": 14,
    "start_time": "2022-09-15T09:35:26.162Z"
   },
   {
    "duration": 11,
    "start_time": "2022-09-15T09:35:26.721Z"
   },
   {
    "duration": 5,
    "start_time": "2022-09-15T09:35:27.289Z"
   },
   {
    "duration": 11,
    "start_time": "2022-09-15T09:35:27.929Z"
   },
   {
    "duration": 10,
    "start_time": "2022-09-15T09:35:28.161Z"
   },
   {
    "duration": 12,
    "start_time": "2022-09-15T09:35:28.633Z"
   },
   {
    "duration": 5,
    "start_time": "2022-09-15T09:35:28.890Z"
   },
   {
    "duration": 5,
    "start_time": "2022-09-15T09:35:29.105Z"
   },
   {
    "duration": 9,
    "start_time": "2022-09-15T09:35:29.866Z"
   },
   {
    "duration": 5,
    "start_time": "2022-09-15T09:35:30.450Z"
   },
   {
    "duration": 79,
    "start_time": "2022-09-15T09:39:28.361Z"
   },
   {
    "duration": 383384,
    "start_time": "2022-09-20T15:02:09.926Z"
   },
   {
    "duration": 10,
    "start_time": "2022-09-20T15:08:33.312Z"
   },
   {
    "duration": 0,
    "start_time": "2022-09-20T15:08:33.326Z"
   },
   {
    "duration": 0,
    "start_time": "2022-09-20T15:08:33.327Z"
   },
   {
    "duration": 0,
    "start_time": "2022-09-20T15:08:33.328Z"
   },
   {
    "duration": 0,
    "start_time": "2022-09-20T15:08:33.329Z"
   },
   {
    "duration": 0,
    "start_time": "2022-09-20T15:08:33.330Z"
   },
   {
    "duration": 0,
    "start_time": "2022-09-20T15:08:33.332Z"
   },
   {
    "duration": 0,
    "start_time": "2022-09-20T15:08:33.333Z"
   },
   {
    "duration": 0,
    "start_time": "2022-09-20T15:08:33.334Z"
   },
   {
    "duration": 0,
    "start_time": "2022-09-20T15:08:33.336Z"
   },
   {
    "duration": 0,
    "start_time": "2022-09-20T15:08:33.337Z"
   },
   {
    "duration": 0,
    "start_time": "2022-09-20T15:08:33.339Z"
   },
   {
    "duration": 0,
    "start_time": "2022-09-20T15:08:33.341Z"
   },
   {
    "duration": 0,
    "start_time": "2022-09-20T15:08:33.342Z"
   },
   {
    "duration": 0,
    "start_time": "2022-09-20T15:08:33.343Z"
   },
   {
    "duration": 0,
    "start_time": "2022-09-20T15:08:33.344Z"
   },
   {
    "duration": 0,
    "start_time": "2022-09-20T15:08:33.345Z"
   },
   {
    "duration": 0,
    "start_time": "2022-09-20T15:08:33.346Z"
   },
   {
    "duration": 0,
    "start_time": "2022-09-20T15:08:33.377Z"
   },
   {
    "duration": 0,
    "start_time": "2022-09-20T15:08:33.379Z"
   },
   {
    "duration": 0,
    "start_time": "2022-09-20T15:08:33.380Z"
   },
   {
    "duration": 0,
    "start_time": "2022-09-20T15:08:33.381Z"
   },
   {
    "duration": 0,
    "start_time": "2022-09-20T15:08:33.383Z"
   },
   {
    "duration": 0,
    "start_time": "2022-09-20T15:08:33.384Z"
   },
   {
    "duration": 0,
    "start_time": "2022-09-20T15:08:33.385Z"
   },
   {
    "duration": 0,
    "start_time": "2022-09-20T15:08:33.386Z"
   },
   {
    "duration": 0,
    "start_time": "2022-09-20T15:08:33.387Z"
   },
   {
    "duration": 0,
    "start_time": "2022-09-20T15:08:33.388Z"
   },
   {
    "duration": 0,
    "start_time": "2022-09-20T15:08:33.389Z"
   },
   {
    "duration": 0,
    "start_time": "2022-09-20T15:08:33.390Z"
   },
   {
    "duration": 0,
    "start_time": "2022-09-20T15:08:33.391Z"
   },
   {
    "duration": 0,
    "start_time": "2022-09-20T15:08:33.392Z"
   },
   {
    "duration": 0,
    "start_time": "2022-09-20T15:08:33.393Z"
   },
   {
    "duration": 0,
    "start_time": "2022-09-20T15:08:33.394Z"
   },
   {
    "duration": 0,
    "start_time": "2022-09-20T15:08:33.395Z"
   },
   {
    "duration": 0,
    "start_time": "2022-09-20T15:08:33.396Z"
   },
   {
    "duration": 0,
    "start_time": "2022-09-20T15:08:33.397Z"
   },
   {
    "duration": 0,
    "start_time": "2022-09-20T15:08:33.398Z"
   },
   {
    "duration": 0,
    "start_time": "2022-09-20T15:08:33.399Z"
   },
   {
    "duration": 0,
    "start_time": "2022-09-20T15:08:33.401Z"
   },
   {
    "duration": 0,
    "start_time": "2022-09-20T15:08:33.401Z"
   },
   {
    "duration": 0,
    "start_time": "2022-09-20T15:08:33.402Z"
   },
   {
    "duration": 0,
    "start_time": "2022-09-20T15:08:33.403Z"
   },
   {
    "duration": 0,
    "start_time": "2022-09-20T15:08:33.404Z"
   },
   {
    "duration": 0,
    "start_time": "2022-09-20T15:08:33.405Z"
   },
   {
    "duration": 0,
    "start_time": "2022-09-20T15:08:33.406Z"
   },
   {
    "duration": 0,
    "start_time": "2022-09-20T15:08:33.407Z"
   },
   {
    "duration": 0,
    "start_time": "2022-09-20T15:08:33.408Z"
   },
   {
    "duration": 0,
    "start_time": "2022-09-20T15:08:33.409Z"
   },
   {
    "duration": 0,
    "start_time": "2022-09-20T15:08:33.410Z"
   },
   {
    "duration": 0,
    "start_time": "2022-09-20T15:08:33.411Z"
   },
   {
    "duration": 0,
    "start_time": "2022-09-20T15:08:33.412Z"
   },
   {
    "duration": 0,
    "start_time": "2022-09-20T15:08:33.413Z"
   },
   {
    "duration": 0,
    "start_time": "2022-09-20T15:08:33.414Z"
   },
   {
    "duration": 0,
    "start_time": "2022-09-20T15:08:33.415Z"
   },
   {
    "duration": 0,
    "start_time": "2022-09-20T15:08:33.477Z"
   },
   {
    "duration": 0,
    "start_time": "2022-09-20T15:08:33.478Z"
   },
   {
    "duration": 0,
    "start_time": "2022-09-20T15:08:33.479Z"
   },
   {
    "duration": 0,
    "start_time": "2022-09-20T15:08:33.480Z"
   },
   {
    "duration": 0,
    "start_time": "2022-09-20T15:08:33.481Z"
   },
   {
    "duration": 0,
    "start_time": "2022-09-20T15:08:33.482Z"
   },
   {
    "duration": 0,
    "start_time": "2022-09-20T15:08:33.483Z"
   },
   {
    "duration": 0,
    "start_time": "2022-09-20T15:08:33.484Z"
   },
   {
    "duration": 0,
    "start_time": "2022-09-20T15:08:33.485Z"
   },
   {
    "duration": 0,
    "start_time": "2022-09-20T15:08:33.486Z"
   },
   {
    "duration": 0,
    "start_time": "2022-09-20T15:08:33.487Z"
   },
   {
    "duration": 0,
    "start_time": "2022-09-20T15:08:33.488Z"
   },
   {
    "duration": 0,
    "start_time": "2022-09-20T15:08:33.489Z"
   },
   {
    "duration": 0,
    "start_time": "2022-09-20T15:08:33.490Z"
   },
   {
    "duration": 1,
    "start_time": "2022-09-20T15:08:33.491Z"
   },
   {
    "duration": 0,
    "start_time": "2022-09-20T15:08:33.492Z"
   },
   {
    "duration": 0,
    "start_time": "2022-09-20T15:08:33.493Z"
   },
   {
    "duration": 0,
    "start_time": "2022-09-20T15:08:33.495Z"
   },
   {
    "duration": 0,
    "start_time": "2022-09-20T15:08:33.496Z"
   },
   {
    "duration": 0,
    "start_time": "2022-09-20T15:08:33.497Z"
   },
   {
    "duration": 0,
    "start_time": "2022-09-20T15:08:33.498Z"
   },
   {
    "duration": 1320,
    "start_time": "2022-09-20T15:08:50.318Z"
   },
   {
    "duration": 4,
    "start_time": "2022-09-20T15:08:51.640Z"
   },
   {
    "duration": 423,
    "start_time": "2022-09-20T15:08:51.645Z"
   },
   {
    "duration": 16,
    "start_time": "2022-09-20T15:08:52.070Z"
   },
   {
    "duration": 52,
    "start_time": "2022-09-20T15:08:52.088Z"
   },
   {
    "duration": 26,
    "start_time": "2022-09-20T15:08:52.142Z"
   },
   {
    "duration": 42,
    "start_time": "2022-09-20T15:08:52.170Z"
   },
   {
    "duration": 19,
    "start_time": "2022-09-20T15:08:52.214Z"
   },
   {
    "duration": 52,
    "start_time": "2022-09-20T15:08:52.234Z"
   },
   {
    "duration": 37,
    "start_time": "2022-09-20T15:08:52.288Z"
   },
   {
    "duration": 33,
    "start_time": "2022-09-20T15:08:52.327Z"
   },
   {
    "duration": 65,
    "start_time": "2022-09-20T15:08:52.362Z"
   },
   {
    "duration": 30,
    "start_time": "2022-09-20T15:08:52.429Z"
   },
   {
    "duration": 41,
    "start_time": "2022-09-20T15:08:52.463Z"
   },
   {
    "duration": 347,
    "start_time": "2022-09-20T15:08:52.506Z"
   },
   {
    "duration": 24,
    "start_time": "2022-09-20T15:08:52.854Z"
   },
   {
    "duration": 63,
    "start_time": "2022-09-20T15:08:52.881Z"
   },
   {
    "duration": 41,
    "start_time": "2022-09-20T15:08:52.946Z"
   },
   {
    "duration": 62,
    "start_time": "2022-09-20T15:08:52.990Z"
   },
   {
    "duration": 20,
    "start_time": "2022-09-20T15:08:53.054Z"
   },
   {
    "duration": 266,
    "start_time": "2022-09-20T15:08:53.076Z"
   },
   {
    "duration": 6,
    "start_time": "2022-09-20T15:08:53.344Z"
   },
   {
    "duration": 33,
    "start_time": "2022-09-20T15:08:53.352Z"
   },
   {
    "duration": 45,
    "start_time": "2022-09-20T15:08:53.386Z"
   },
   {
    "duration": 75,
    "start_time": "2022-09-20T15:08:53.433Z"
   },
   {
    "duration": 5,
    "start_time": "2022-09-20T15:08:53.510Z"
   },
   {
    "duration": 15,
    "start_time": "2022-09-20T15:08:53.517Z"
   },
   {
    "duration": 17,
    "start_time": "2022-09-20T15:08:53.533Z"
   },
   {
    "duration": 8,
    "start_time": "2022-09-20T15:08:53.552Z"
   },
   {
    "duration": 32,
    "start_time": "2022-09-20T15:08:53.561Z"
   },
   {
    "duration": 12,
    "start_time": "2022-09-20T15:08:53.595Z"
   },
   {
    "duration": 16,
    "start_time": "2022-09-20T15:08:53.609Z"
   },
   {
    "duration": 6,
    "start_time": "2022-09-20T15:08:53.628Z"
   },
   {
    "duration": 11,
    "start_time": "2022-09-20T15:08:53.636Z"
   },
   {
    "duration": 37,
    "start_time": "2022-09-20T15:08:53.649Z"
   },
   {
    "duration": 17,
    "start_time": "2022-09-20T15:08:53.688Z"
   },
   {
    "duration": 63,
    "start_time": "2022-09-20T15:08:53.707Z"
   },
   {
    "duration": 18,
    "start_time": "2022-09-20T15:08:53.777Z"
   },
   {
    "duration": 4,
    "start_time": "2022-09-20T15:08:53.797Z"
   },
   {
    "duration": 195,
    "start_time": "2022-09-20T15:08:53.803Z"
   },
   {
    "duration": 31,
    "start_time": "2022-09-20T15:08:54.003Z"
   },
   {
    "duration": 55,
    "start_time": "2022-09-20T15:08:54.036Z"
   },
   {
    "duration": 11,
    "start_time": "2022-09-20T15:08:54.093Z"
   },
   {
    "duration": 6,
    "start_time": "2022-09-20T15:08:54.106Z"
   },
   {
    "duration": 15,
    "start_time": "2022-09-20T15:08:54.113Z"
   },
   {
    "duration": 99,
    "start_time": "2022-09-20T15:08:54.130Z"
   },
   {
    "duration": 382,
    "start_time": "2022-09-20T15:08:54.231Z"
   },
   {
    "duration": 643,
    "start_time": "2022-09-20T15:08:54.614Z"
   },
   {
    "duration": 6,
    "start_time": "2022-09-20T15:08:55.259Z"
   },
   {
    "duration": 8,
    "start_time": "2022-09-20T15:08:55.277Z"
   },
   {
    "duration": 260,
    "start_time": "2022-09-20T15:08:55.287Z"
   },
   {
    "duration": 328,
    "start_time": "2022-09-20T15:08:55.548Z"
   },
   {
    "duration": 6,
    "start_time": "2022-09-20T15:08:55.877Z"
   },
   {
    "duration": 19,
    "start_time": "2022-09-20T15:08:55.884Z"
   },
   {
    "duration": 3,
    "start_time": "2022-09-20T15:08:55.905Z"
   },
   {
    "duration": 29,
    "start_time": "2022-09-20T15:08:55.910Z"
   },
   {
    "duration": 77,
    "start_time": "2022-09-20T15:08:55.940Z"
   },
   {
    "duration": 23,
    "start_time": "2022-09-20T15:08:56.020Z"
   },
   {
    "duration": 6,
    "start_time": "2022-09-20T15:08:56.045Z"
   },
   {
    "duration": 28,
    "start_time": "2022-09-20T15:08:56.053Z"
   },
   {
    "duration": 8,
    "start_time": "2022-09-20T15:08:56.083Z"
   },
   {
    "duration": 16,
    "start_time": "2022-09-20T15:08:56.094Z"
   },
   {
    "duration": 5,
    "start_time": "2022-09-20T15:08:56.112Z"
   },
   {
    "duration": 32,
    "start_time": "2022-09-20T15:08:56.119Z"
   },
   {
    "duration": 16,
    "start_time": "2022-09-20T15:08:56.177Z"
   },
   {
    "duration": 6,
    "start_time": "2022-09-20T15:08:56.194Z"
   },
   {
    "duration": 9,
    "start_time": "2022-09-20T15:08:56.201Z"
   },
   {
    "duration": 89,
    "start_time": "2022-09-20T15:18:43.052Z"
   },
   {
    "duration": 213,
    "start_time": "2022-09-20T15:19:40.690Z"
   },
   {
    "duration": 4,
    "start_time": "2022-09-20T15:23:24.760Z"
   },
   {
    "duration": 3,
    "start_time": "2022-09-20T15:23:25.105Z"
   },
   {
    "duration": 2,
    "start_time": "2022-09-20T15:23:25.444Z"
   },
   {
    "duration": 2,
    "start_time": "2022-09-20T15:23:37.539Z"
   },
   {
    "duration": 107,
    "start_time": "2022-09-20T15:23:37.931Z"
   },
   {
    "duration": 3,
    "start_time": "2022-09-20T15:23:44.705Z"
   },
   {
    "duration": 3,
    "start_time": "2022-09-20T15:23:44.955Z"
   },
   {
    "duration": 4,
    "start_time": "2022-09-20T15:23:45.366Z"
   },
   {
    "duration": 3,
    "start_time": "2022-09-20T15:24:01.493Z"
   },
   {
    "duration": 3,
    "start_time": "2022-09-20T15:24:01.769Z"
   },
   {
    "duration": 4,
    "start_time": "2022-09-20T15:24:03.169Z"
   },
   {
    "duration": 3,
    "start_time": "2022-09-20T15:24:11.154Z"
   },
   {
    "duration": 3,
    "start_time": "2022-09-20T15:24:14.379Z"
   },
   {
    "duration": 3,
    "start_time": "2022-09-20T15:24:14.649Z"
   },
   {
    "duration": 3,
    "start_time": "2022-09-20T15:24:14.840Z"
   },
   {
    "duration": 4,
    "start_time": "2022-09-20T15:25:12.641Z"
   },
   {
    "duration": 3,
    "start_time": "2022-09-20T15:25:13.992Z"
   },
   {
    "duration": 3,
    "start_time": "2022-09-20T15:25:21.987Z"
   },
   {
    "duration": 4,
    "start_time": "2022-09-20T15:25:22.326Z"
   },
   {
    "duration": 16,
    "start_time": "2022-09-20T15:25:33.444Z"
   },
   {
    "duration": 4,
    "start_time": "2022-09-20T15:25:43.063Z"
   },
   {
    "duration": 3,
    "start_time": "2022-09-20T15:25:44.513Z"
   },
   {
    "duration": 3,
    "start_time": "2022-09-20T15:25:47.386Z"
   },
   {
    "duration": 6,
    "start_time": "2022-09-20T15:25:47.572Z"
   },
   {
    "duration": 1966175,
    "start_time": "2022-09-20T15:25:48.001Z"
   },
   {
    "duration": 3,
    "start_time": "2022-09-20T15:58:47.680Z"
   },
   {
    "duration": 1901,
    "start_time": "2022-09-20T15:58:47.876Z"
   },
   {
    "duration": 6,
    "start_time": "2022-09-20T15:59:05.098Z"
   },
   {
    "duration": 4,
    "start_time": "2022-09-20T16:00:06.824Z"
   },
   {
    "duration": 6,
    "start_time": "2022-09-20T16:00:07.365Z"
   },
   {
    "duration": 34067,
    "start_time": "2022-09-20T16:00:07.706Z"
   },
   {
    "duration": 3,
    "start_time": "2022-09-20T16:00:47.794Z"
   },
   {
    "duration": 7,
    "start_time": "2022-09-20T16:00:48.188Z"
   },
   {
    "duration": 48632,
    "start_time": "2022-09-20T16:00:48.446Z"
   },
   {
    "duration": 0,
    "start_time": "2022-09-20T16:02:16.284Z"
   },
   {
    "duration": 0,
    "start_time": "2022-09-20T16:02:16.286Z"
   },
   {
    "duration": 0,
    "start_time": "2022-09-20T16:02:16.288Z"
   },
   {
    "duration": 3,
    "start_time": "2022-09-20T16:02:19.295Z"
   },
   {
    "duration": 5,
    "start_time": "2022-09-20T16:02:19.479Z"
   },
   {
    "duration": 104108,
    "start_time": "2022-09-20T16:02:19.646Z"
   },
   {
    "duration": 1565,
    "start_time": "2022-09-22T11:39:23.386Z"
   },
   {
    "duration": 4,
    "start_time": "2022-09-22T11:39:24.953Z"
   },
   {
    "duration": 274,
    "start_time": "2022-09-22T11:39:24.959Z"
   },
   {
    "duration": 18,
    "start_time": "2022-09-22T11:39:25.235Z"
   },
   {
    "duration": 13,
    "start_time": "2022-09-22T11:39:25.255Z"
   },
   {
    "duration": 11,
    "start_time": "2022-09-22T11:39:25.270Z"
   },
   {
    "duration": 11,
    "start_time": "2022-09-22T11:39:25.283Z"
   },
   {
    "duration": 25,
    "start_time": "2022-09-22T11:39:25.296Z"
   },
   {
    "duration": 22,
    "start_time": "2022-09-22T11:39:25.324Z"
   },
   {
    "duration": 26,
    "start_time": "2022-09-22T11:39:25.348Z"
   },
   {
    "duration": 7,
    "start_time": "2022-09-22T11:39:25.376Z"
   },
   {
    "duration": 51,
    "start_time": "2022-09-22T11:39:25.384Z"
   },
   {
    "duration": 12,
    "start_time": "2022-09-22T11:39:25.437Z"
   },
   {
    "duration": 9,
    "start_time": "2022-09-22T11:39:25.453Z"
   },
   {
    "duration": 226,
    "start_time": "2022-09-22T11:39:25.464Z"
   },
   {
    "duration": 13,
    "start_time": "2022-09-22T11:39:25.692Z"
   },
   {
    "duration": 24,
    "start_time": "2022-09-22T11:39:25.721Z"
   },
   {
    "duration": 28,
    "start_time": "2022-09-22T11:39:25.746Z"
   },
   {
    "duration": 18,
    "start_time": "2022-09-22T11:39:25.775Z"
   },
   {
    "duration": 33,
    "start_time": "2022-09-22T11:39:25.795Z"
   },
   {
    "duration": 188,
    "start_time": "2022-09-22T11:39:25.830Z"
   },
   {
    "duration": 7,
    "start_time": "2022-09-22T11:39:26.021Z"
   },
   {
    "duration": 11,
    "start_time": "2022-09-22T11:39:26.030Z"
   },
   {
    "duration": 10,
    "start_time": "2022-09-22T11:39:26.043Z"
   },
   {
    "duration": 140,
    "start_time": "2022-09-22T11:39:26.054Z"
   },
   {
    "duration": 6,
    "start_time": "2022-09-22T11:39:26.195Z"
   },
   {
    "duration": 28,
    "start_time": "2022-09-22T11:39:26.202Z"
   },
   {
    "duration": 16,
    "start_time": "2022-09-22T11:39:26.232Z"
   },
   {
    "duration": 14,
    "start_time": "2022-09-22T11:39:26.249Z"
   },
   {
    "duration": 27,
    "start_time": "2022-09-22T11:39:26.265Z"
   },
   {
    "duration": 23,
    "start_time": "2022-09-22T11:39:26.294Z"
   },
   {
    "duration": 15,
    "start_time": "2022-09-22T11:39:26.319Z"
   },
   {
    "duration": 10,
    "start_time": "2022-09-22T11:39:26.336Z"
   },
   {
    "duration": 14,
    "start_time": "2022-09-22T11:39:26.348Z"
   },
   {
    "duration": 20,
    "start_time": "2022-09-22T11:39:26.364Z"
   },
   {
    "duration": 6,
    "start_time": "2022-09-22T11:39:26.386Z"
   },
   {
    "duration": 73,
    "start_time": "2022-09-22T11:39:26.394Z"
   },
   {
    "duration": 18,
    "start_time": "2022-09-22T11:39:26.469Z"
   },
   {
    "duration": 3,
    "start_time": "2022-09-22T11:39:26.489Z"
   },
   {
    "duration": 128,
    "start_time": "2022-09-22T11:39:26.494Z"
   },
   {
    "duration": 46,
    "start_time": "2022-09-22T11:39:26.627Z"
   },
   {
    "duration": 52,
    "start_time": "2022-09-22T11:39:26.674Z"
   },
   {
    "duration": 12,
    "start_time": "2022-09-22T11:39:26.728Z"
   },
   {
    "duration": 4,
    "start_time": "2022-09-22T11:39:26.742Z"
   },
   {
    "duration": 8,
    "start_time": "2022-09-22T11:39:26.747Z"
   },
   {
    "duration": 120,
    "start_time": "2022-09-22T11:39:26.756Z"
   },
   {
    "duration": 250,
    "start_time": "2022-09-22T11:39:26.878Z"
   },
   {
    "duration": 479,
    "start_time": "2022-09-22T11:39:27.130Z"
   },
   {
    "duration": 10,
    "start_time": "2022-09-22T11:39:27.611Z"
   },
   {
    "duration": 5,
    "start_time": "2022-09-22T11:39:27.623Z"
   },
   {
    "duration": 177,
    "start_time": "2022-09-22T11:39:27.630Z"
   },
   {
    "duration": 233,
    "start_time": "2022-09-22T11:39:27.810Z"
   },
   {
    "duration": 6,
    "start_time": "2022-09-22T11:39:28.045Z"
   },
   {
    "duration": 345,
    "start_time": "2022-09-22T11:39:28.052Z"
   },
   {
    "duration": 28,
    "start_time": "2022-09-22T11:39:28.398Z"
   },
   {
    "duration": 6,
    "start_time": "2022-09-22T11:39:28.428Z"
   },
   {
    "duration": 14,
    "start_time": "2022-09-22T11:39:28.436Z"
   },
   {
    "duration": 9,
    "start_time": "2022-09-22T11:39:28.452Z"
   },
   {
    "duration": 25,
    "start_time": "2022-09-22T11:39:28.463Z"
   },
   {
    "duration": 37,
    "start_time": "2022-09-22T11:39:28.489Z"
   },
   {
    "duration": 6,
    "start_time": "2022-09-22T11:39:28.528Z"
   },
   {
    "duration": 49,
    "start_time": "2022-09-22T11:39:28.536Z"
   },
   {
    "duration": 130,
    "start_time": "2022-09-22T11:39:46.153Z"
   },
   {
    "duration": 7,
    "start_time": "2022-09-22T11:39:56.856Z"
   },
   {
    "duration": 6,
    "start_time": "2022-09-22T11:40:01.742Z"
   },
   {
    "duration": 143,
    "start_time": "2022-09-22T12:15:27.013Z"
   },
   {
    "duration": 57,
    "start_time": "2022-09-24T08:28:59.948Z"
   }
  ],
  "kernelspec": {
   "display_name": "Python 3 (ipykernel)",
   "language": "python",
   "name": "python3"
  },
  "language_info": {
   "codemirror_mode": {
    "name": "ipython",
    "version": 3
   },
   "file_extension": ".py",
   "mimetype": "text/x-python",
   "name": "python",
   "nbconvert_exporter": "python",
   "pygments_lexer": "ipython3",
   "version": "3.9.13"
  },
  "toc": {
   "base_numbering": 1,
   "nav_menu": {},
   "number_sections": true,
   "sideBar": true,
   "skip_h1_title": true,
   "title_cell": "Table of Contents",
   "title_sidebar": "Contents",
   "toc_cell": false,
   "toc_position": {},
   "toc_section_display": true,
   "toc_window_display": false
  }
 },
 "nbformat": 4,
 "nbformat_minor": 5
}
