{
 "cells": [
  {
   "cell_type": "markdown",
   "id": "813a8b2c-05ee-42e8-98e7-d8174d647dc8",
   "metadata": {},
   "source": [
    "## MailSender"
   ]
  },
  {
   "cell_type": "markdown",
   "id": "e50cd930-1af1-4a8b-9072-fb21d0a21bd2",
   "metadata": {},
   "source": [
    "I write the module `mail_sender` to do messages sending easier and more comfortable. So, firstly, we should import it"
   ]
  },
  {
   "cell_type": "code",
   "execution_count": 1,
   "id": "5b303298-af0c-4446-aa6b-03d5b91c7a0c",
   "metadata": {},
   "outputs": [],
   "source": [
    "import mail_sender\n",
    "import pandas as pd\n",
    "import configparser"
   ]
  },
  {
   "cell_type": "markdown",
   "id": "197dc9e9-dfe1-4c82-a592-eca8d754a6b9",
   "metadata": {},
   "source": [
    "I need to use `configparser` in this notebook to hide my personal data. You can replace it with yours to test a work of the module."
   ]
  },
  {
   "cell_type": "code",
   "execution_count": 2,
   "id": "a2fca2b9-cdb0-405f-b8c7-b0c5a7ccf273",
   "metadata": {},
   "outputs": [
    {
     "data": {
      "text/plain": [
       "['config.ini']"
      ]
     },
     "execution_count": 2,
     "metadata": {},
     "output_type": "execute_result"
    }
   ],
   "source": [
    "config = configparser.ConfigParser()\n",
    "config.read('config.ini')"
   ]
  },
  {
   "cell_type": "code",
   "execution_count": 3,
   "id": "23f9671b-80de-4775-a498-93d6e7527b00",
   "metadata": {},
   "outputs": [],
   "source": [
    "email_from = config['DEFAULT']['email_from']\n",
    "password = config['DEFAULT']['password'];"
   ]
  },
  {
   "cell_type": "markdown",
   "id": "eb36fec7-7174-41bc-b145-9de9408d911e",
   "metadata": {},
   "source": [
    "Initializing the instance of class. We should put in it 4 parameters"
   ]
  },
  {
   "cell_type": "code",
   "execution_count": 5,
   "id": "c5d4a206-aee5-4aab-8f63-87e3d7e1facd",
   "metadata": {},
   "outputs": [
    {
     "name": "stdout",
     "output_type": "stream",
     "text": [
      "SMTP - ok\n"
     ]
    }
   ],
   "source": [
    "es = mail_sender.EmailSender(smtp_server='smtp.mail.ru', smtp_port=25, email_from=email_from, password=password)"
   ]
  },
  {
   "cell_type": "markdown",
   "id": "8f94d8a3-6e2d-4f29-96e0-9f06a601f500",
   "metadata": {},
   "source": [
    "The `send` method allows us to send 1 message to many target emails. The message can contain 1 or many attachments."
   ]
  },
  {
   "cell_type": "code",
   "execution_count": 6,
   "id": "6d8ee391-aafb-4589-9bfa-9d784bdd9762",
   "metadata": {},
   "outputs": [
    {
     "name": "stdout",
     "output_type": "stream",
     "text": [
      "Creating letter\n",
      "Ok\n",
      "Adding attachments\n",
      "Path: sales_report.xlsx has been added successfully\n",
      "Path: 5442.jpg has been added successfully\n",
      "Establishing connection\n",
      "(220, b'2.0.0 Start TLS')\n",
      "(250, b'smtp43.i.mail.ru\\nSIZE 73400320\\n8BITMIME\\nPIPELINING\\nDSN\\nSMTPUTF8\\nAUTH PLAIN LOGIN XOAUTH2')\n",
      "(235, b'Authentication succeeded')\n",
      "Connection - Ok\n",
      "Sending to nktest1@inbox.ru\n",
      "Ok\n",
      "Sending to nktest4@inbox.ru\n",
      "Ok\n"
     ]
    }
   ],
   "source": [
    "es.send(emails_to=['nktest1@inbox.ru', 'nktest4@inbox.ru'], message_text='Hi! It is a test message', subject='test', attachment_paths=['attachments/sales_report.xlsx', 'attachments/5442.jpg'])"
   ]
  },
  {
   "cell_type": "markdown",
   "id": "ec9c7f30-bc1a-49c7-ad7d-ad9c47534dd0",
   "metadata": {},
   "source": [
    "If we need to send several messages to many emails: each message to all emails, we should use the method `send_messages` and specify lists of message texts and subjects as the corresponding parameters."
   ]
  },
  {
   "cell_type": "code",
   "execution_count": 7,
   "id": "59926df6-4eec-4d10-99eb-1442eb9f166b",
   "metadata": {
    "scrolled": true
   },
   "outputs": [
    {
     "name": "stdout",
     "output_type": "stream",
     "text": [
      "Sending message 1 of 2\n",
      "Creating letter\n",
      "Ok\n",
      "Adding attachments\n",
      "Path: sales_report.xlsx has been added successfully\n",
      "Path: 5442.jpg has been added successfully\n",
      "Establishing connection\n",
      "(220, b'2.0.0 Start TLS')\n",
      "(250, b'smtp43.i.mail.ru\\nSIZE 73400320\\n8BITMIME\\nPIPELINING\\nDSN\\nSMTPUTF8\\nAUTH PLAIN LOGIN XOAUTH2')\n",
      "(235, b'Authentication succeeded')\n",
      "Connection - Ok\n",
      "Sending to nktest1@inbox.ru\n",
      "Ok\n",
      "Sending to nktest4@inbox.ru\n",
      "Ok\n",
      "----------------------------------------------------------------------------------------------------------------\n",
      "Sending message 2 of 2\n",
      "Creating letter\n",
      "Ok\n",
      "Adding attachments\n",
      "Path: sales_report.xlsx has been added successfully\n",
      "Path: 5442.jpg has been added successfully\n",
      "Establishing connection\n",
      "(220, b'2.0.0 Start TLS')\n",
      "(250, b'smtp47.i.mail.ru\\nSIZE 73400320\\n8BITMIME\\nPIPELINING\\nDSN\\nSMTPUTF8\\nAUTH PLAIN LOGIN XOAUTH2')\n",
      "(235, b'Authentication succeeded')\n",
      "Connection - Ok\n",
      "Sending to nktest1@inbox.ru\n",
      "Ok\n",
      "Sending to nktest4@inbox.ru\n",
      "Ok\n",
      "----------------------------------------------------------------------------------------------------------------\n",
      "Done\n"
     ]
    }
   ],
   "source": [
    "es.send_messages(messages_list=['Привет', 'Как дела?'], emails_to=['nktest1@inbox.ru', 'nktest4@inbox.ru'], subject=['1', '2'], attachment_paths=['attachments/sales_report.xlsx', 'attachments/5442.jpg'])"
   ]
  },
  {
   "cell_type": "markdown",
   "id": "76c1bc17-572d-4dcf-a501-b7259402719e",
   "metadata": {},
   "source": [
    "If a message text is unchanged and attachment is only being changed you should use the method `send files`. You need to use lists of lists to specify many attachments for each letter."
   ]
  },
  {
   "cell_type": "code",
   "execution_count": 8,
   "id": "bc817f91-5e7c-4133-80a3-f69f848c6e22",
   "metadata": {
    "scrolled": true
   },
   "outputs": [
    {
     "name": "stdout",
     "output_type": "stream",
     "text": [
      "Sending attachments 1 of 3\n",
      "Creating letter\n",
      "Ok\n",
      "Adding attachments\n",
      "Path: sales_report.xlsx has been added successfully\n",
      "Path: 5442.jpg has been added successfully\n",
      "Establishing connection\n",
      "(220, b'2.0.0 Start TLS')\n",
      "(250, b'smtp49.i.mail.ru\\nSIZE 73400320\\n8BITMIME\\nPIPELINING\\nDSN\\nSMTPUTF8\\nAUTH PLAIN LOGIN XOAUTH2')\n",
      "(235, b'Authentication succeeded')\n",
      "Connection - Ok\n",
      "Sending to nktest1@inbox.ru\n",
      "Ok\n",
      "Sending to nktest4@inbox.ru\n",
      "Ok\n",
      "----------------------------------------------------------------------------------------------------------------\n",
      "Sending attachments 2 of 3\n",
      "Creating letter\n",
      "Ok\n",
      "Adding attachments\n",
      "Path: 5442.jpg has been added successfully\n",
      "Path: ./attachment/Luba's Dance.mp3 has been added successfully\n",
      "Establishing connection\n",
      "(220, b'2.0.0 Start TLS')\n",
      "(250, b'smtp53.i.mail.ru\\nSIZE 73400320\\n8BITMIME\\nPIPELINING\\nDSN\\nSMTPUTF8\\nAUTH PLAIN LOGIN XOAUTH2')\n",
      "(235, b'Authentication succeeded')\n",
      "Connection - Ok\n",
      "Sending to nktest1@inbox.ru\n",
      "Ok\n",
      "Sending to nktest4@inbox.ru\n",
      "Ok\n",
      "----------------------------------------------------------------------------------------------------------------\n",
      "Sending attachments 3 of 3\n",
      "Creating letter\n",
      "Ok\n",
      "Adding attachments\n",
      "Path: 5442.jpg has been added successfully\n",
      "Establishing connection\n",
      "(220, b'2.0.0 Start TLS')\n",
      "(250, b'smtp33.i.mail.ru\\nSIZE 73400320\\n8BITMIME\\nPIPELINING\\nDSN\\nSMTPUTF8\\nAUTH PLAIN LOGIN XOAUTH2')\n",
      "(235, b'Authentication succeeded')\n",
      "Connection - Ok\n",
      "Sending to nktest1@inbox.ru\n",
      "Ok\n",
      "Sending to nktest4@inbox.ru\n",
      "Ok\n",
      "----------------------------------------------------------------------------------------------------------------\n",
      "Done\n"
     ]
    }
   ],
   "source": [
    "es.send_files(message_text='Привет',\n",
    "              emails_to=['nktest1@inbox.ru', 'nktest4@inbox.ru'],\n",
    "              subject='test', attachments_paths=[['attachments/sales_report.xlsx', 'attachments/5442.jpg'],\n",
    "               ['attachments/5442.jpg', \"./attachment/Luba's Dance.mp3\"],\n",
    "                ['attachments/5442.jpg']])"
   ]
  },
  {
   "cell_type": "markdown",
   "id": "e4a15730-7ae0-4942-ba0d-31bd4a2dcc0c",
   "metadata": {},
   "source": [
    "You can specify each sending separatelly by using a special table:"
   ]
  },
  {
   "cell_type": "code",
   "execution_count": 14,
   "id": "00575759-85f2-412c-827a-55b7eae1fd75",
   "metadata": {},
   "outputs": [
    {
     "data": {
      "text/html": [
       "<div>\n",
       "<style scoped>\n",
       "    .dataframe tbody tr th:only-of-type {\n",
       "        vertical-align: middle;\n",
       "    }\n",
       "\n",
       "    .dataframe tbody tr th {\n",
       "        vertical-align: top;\n",
       "    }\n",
       "\n",
       "    .dataframe thead th {\n",
       "        text-align: right;\n",
       "    }\n",
       "</style>\n",
       "<table border=\"1\" class=\"dataframe\">\n",
       "  <thead>\n",
       "    <tr style=\"text-align: right;\">\n",
       "      <th></th>\n",
       "      <th>emails_to</th>\n",
       "      <th>messages</th>\n",
       "      <th>subjects</th>\n",
       "      <th>attachments_paths</th>\n",
       "    </tr>\n",
       "  </thead>\n",
       "  <tbody>\n",
       "    <tr>\n",
       "      <th>0</th>\n",
       "      <td>nktest1@inbox.ru</td>\n",
       "      <td>А</td>\n",
       "      <td>1</td>\n",
       "      <td>['sales_report.xlsx', '5442.jpg']</td>\n",
       "    </tr>\n",
       "    <tr>\n",
       "      <th>1</th>\n",
       "      <td>nktest1@inbox.ru</td>\n",
       "      <td>Б</td>\n",
       "      <td>2</td>\n",
       "      <td>5442.jpg</td>\n",
       "    </tr>\n",
       "    <tr>\n",
       "      <th>2</th>\n",
       "      <td>nktest4@inbox.ru</td>\n",
       "      <td>В</td>\n",
       "      <td>3</td>\n",
       "      <td>./attachment/Luba's Dance.mp3</td>\n",
       "    </tr>\n",
       "    <tr>\n",
       "      <th>3</th>\n",
       "      <td>nktest4@inbox.ru</td>\n",
       "      <td>Г</td>\n",
       "      <td>4</td>\n",
       "      <td>'5442.jpg'</td>\n",
       "    </tr>\n",
       "  </tbody>\n",
       "</table>\n",
       "</div>"
      ],
      "text/plain": [
       "          emails_to messages  subjects                  attachments_paths\n",
       "0  nktest1@inbox.ru        А         1  ['sales_report.xlsx', '5442.jpg']\n",
       "1  nktest1@inbox.ru        Б         2                           5442.jpg\n",
       "2  nktest4@inbox.ru        В         3      ./attachment/Luba's Dance.mp3\n",
       "3  nktest4@inbox.ru        Г         4                         '5442.jpg'"
      ]
     },
     "execution_count": 14,
     "metadata": {},
     "output_type": "execute_result"
    }
   ],
   "source": [
    "table = pd.read_excel('sending_data.xlsx')\n",
    "table"
   ]
  },
  {
   "cell_type": "markdown",
   "id": "ad11d84e-5535-4c33-b44c-e082b1946a9c",
   "metadata": {},
   "source": [
    "The method `send_by_table` takes only `dict` as a single parameter. So we should convert table to dictionary."
   ]
  },
  {
   "cell_type": "code",
   "execution_count": 15,
   "id": "746c3703-cb9f-4162-bb8c-a833a420f034",
   "metadata": {},
   "outputs": [
    {
     "data": {
      "text/plain": [
       "{'emails_to': ['nktest1@inbox.ru',\n",
       "  'nktest1@inbox.ru',\n",
       "  'nktest4@inbox.ru',\n",
       "  'nktest4@inbox.ru'],\n",
       " 'messages': ['А', 'Б', 'В', 'Г'],\n",
       " 'subjects': [1, 2, 3, 4],\n",
       " 'attachments_paths': [\"['sales_report.xlsx', '5442.jpg']\",\n",
       "  '5442.jpg',\n",
       "  \"./attachment/Luba's Dance.mp3\",\n",
       "  \"'5442.jpg'\"]}"
      ]
     },
     "execution_count": 15,
     "metadata": {},
     "output_type": "execute_result"
    }
   ],
   "source": [
    "table = table.to_dict('list')\n",
    "table"
   ]
  },
  {
   "cell_type": "markdown",
   "id": "ec72e5bb-99a1-49e5-a4b3-cf83c41ba40c",
   "metadata": {},
   "source": [
    "This method use step-by-step every row of the given table to define parameters of sending."
   ]
  },
  {
   "cell_type": "code",
   "execution_count": 16,
   "id": "08c84764-b52e-4c2c-bc53-5e2ec50867cb",
   "metadata": {},
   "outputs": [
    {
     "name": "stdout",
     "output_type": "stream",
     "text": [
      "Sending message 1 of 4\n",
      "Creating letter\n",
      "Ok\n",
      "Adding attachments\n",
      "Path: sales_report.xlsx has been added successfully\n",
      "Path: 5442.jpg has been added successfully\n",
      "Establishing connection\n",
      "(220, b'2.0.0 Start TLS')\n",
      "(250, b'smtp43.i.mail.ru\\nSIZE 73400320\\n8BITMIME\\nPIPELINING\\nDSN\\nSMTPUTF8\\nAUTH PLAIN LOGIN XOAUTH2')\n",
      "(235, b'Authentication succeeded')\n",
      "Connection - Ok\n",
      "Sending to nktest1@inbox.ru\n",
      "Ok\n",
      "---------------------------------------------------------------------------\n",
      "Sending message 2 of 4\n",
      "Creating letter\n",
      "Ok\n",
      "Adding attachments\n",
      "Path: 5442.jpg has been added successfully\n",
      "Establishing connection\n",
      "(220, b'2.0.0 Start TLS')\n",
      "(250, b'smtp49.i.mail.ru\\nSIZE 73400320\\n8BITMIME\\nPIPELINING\\nDSN\\nSMTPUTF8\\nAUTH PLAIN LOGIN XOAUTH2')\n",
      "(235, b'Authentication succeeded')\n",
      "Connection - Ok\n",
      "Sending to nktest1@inbox.ru\n",
      "Ok\n",
      "---------------------------------------------------------------------------\n",
      "Sending message 3 of 4\n",
      "Creating letter\n",
      "Ok\n",
      "Adding attachments\n",
      "Path: ./attachment/Luba's Dance.mp3 has been added successfully\n",
      "Establishing connection\n",
      "(220, b'2.0.0 Start TLS')\n",
      "(250, b'smtp33.i.mail.ru\\nSIZE 73400320\\n8BITMIME\\nPIPELINING\\nDSN\\nSMTPUTF8\\nAUTH PLAIN LOGIN XOAUTH2')\n",
      "(235, b'Authentication succeeded')\n",
      "Connection - Ok\n",
      "Sending to nktest4@inbox.ru\n",
      "Ok\n",
      "---------------------------------------------------------------------------\n",
      "Sending message 4 of 4\n",
      "Creating letter\n",
      "Ok\n",
      "Adding attachments\n",
      "Path: 5442.jpg has been added successfully\n",
      "Establishing connection\n",
      "(220, b'2.0.0 Start TLS')\n",
      "(250, b'smtp58.i.mail.ru\\nSIZE 73400320\\n8BITMIME\\nPIPELINING\\nDSN\\nSMTPUTF8\\nAUTH PLAIN LOGIN XOAUTH2')\n",
      "(235, b'Authentication succeeded')\n",
      "Connection - Ok\n",
      "Sending to nktest4@inbox.ru\n",
      "Ok\n",
      "---------------------------------------------------------------------------\n",
      "Done\n"
     ]
    }
   ],
   "source": [
    "es.send_by_table(table)"
   ]
  }
 ],
 "metadata": {
  "kernelspec": {
   "display_name": "Python 3 (ipykernel)",
   "language": "python",
   "name": "python3"
  },
  "language_info": {
   "codemirror_mode": {
    "name": "ipython",
    "version": 3
   },
   "file_extension": ".py",
   "mimetype": "text/x-python",
   "name": "python",
   "nbconvert_exporter": "python",
   "pygments_lexer": "ipython3",
   "version": "3.11.4"
  }
 },
 "nbformat": 4,
 "nbformat_minor": 5
}
